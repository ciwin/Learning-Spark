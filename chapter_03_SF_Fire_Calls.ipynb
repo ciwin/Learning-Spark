{
 "cells": [
  {
   "cell_type": "markdown",
   "metadata": {
    "application/vnd.databricks.v1+cell": {
     "inputWidgets": {},
     "nuid": "7c0459ac-c437-450c-afe7-97f01e7dee93",
     "showTitle": false,
     "title": ""
    }
   },
   "source": [
    "# San Francisco Fire Calls\n",
    "\n",
    "This notebook is the end-to-end example from Chapter 3, page 58 ff, showing how to use DataFrames and Spark SQL for common data analytics patterns and operations on a [San Francisco Fire Department Calls ](https://data.sfgov.org/Public-Safety/Fire-Department-Calls-for-Service/nuek-vuh3) dataset. The data can be downloaded on the [github repo site of the book](https://github.com/databricks/LearningSparkV2/blob/master/chapter3/data/sf-fire-calls.csv). "
   ]
  },
  {
   "cell_type": "code",
   "execution_count": 1,
   "metadata": {},
   "outputs": [],
   "source": [
    "# Import required python spark libraries\n",
    "import findspark\n",
    "import pyspark\n",
    "\n",
    "from pyspark.sql.types import *\n",
    "from pyspark.sql import SparkSession\n",
    "from pyspark.sql.functions import *"
   ]
  },
  {
   "cell_type": "code",
   "execution_count": 2,
   "metadata": {},
   "outputs": [],
   "source": [
    "# Connect Jupyter Notebook with the Spark application and create Spark Context\n",
    "findspark.init()\n",
    "sc = pyspark.SparkContext(appName=\"SF_Fire\")"
   ]
  },
  {
   "cell_type": "code",
   "execution_count": 3,
   "metadata": {},
   "outputs": [],
   "source": [
    "#create a SparkSession\n",
    "spark = (SparkSession\n",
    "       .builder\n",
    "       .appName(\"SF_Fire_Calls\")\n",
    "       .getOrCreate())\n"
   ]
  },
  {
   "cell_type": "markdown",
   "metadata": {
    "application/vnd.databricks.v1+cell": {
     "inputWidgets": {},
     "nuid": "f5fd209d-2ce0-4cfe-8dd8-a4a87cc530b2",
     "showTitle": false,
     "title": ""
    }
   },
   "source": [
    "Inspect if the SF Fire Department Fire calls data set is stored in the right place:"
   ]
  },
  {
   "cell_type": "code",
   "execution_count": 4,
   "metadata": {
    "application/vnd.databricks.v1+cell": {
     "inputWidgets": {},
     "nuid": "e84fc25c-f5e1-436a-aa22-6305bd6d543c",
     "showTitle": false,
     "title": ""
    }
   },
   "outputs": [
    {
     "name": "stdout",
     "output_type": "stream",
     "text": [
      "-rw-rw-r-- 1 christoph christoph 44530122 Apr  9 20:31 ./data/sf-fire-calls.csv\r\n"
     ]
    }
   ],
   "source": [
    "%ls -l ./data/sf-fire-calls.csv"
   ]
  },
  {
   "cell_type": "markdown",
   "metadata": {
    "application/vnd.databricks.v1+cell": {
     "inputWidgets": {},
     "nuid": "d95bd019-dbde-4278-965d-d41ccfcec553",
     "showTitle": false,
     "title": ""
    }
   },
   "source": [
    "Define the location of the dataset:"
   ]
  },
  {
   "cell_type": "code",
   "execution_count": 5,
   "metadata": {
    "application/vnd.databricks.v1+cell": {
     "inputWidgets": {},
     "nuid": "1f4474c9-801b-4d93-ac49-d17a5d18a78c",
     "showTitle": false,
     "title": ""
    }
   },
   "outputs": [],
   "source": [
    "sf_fire_file = \"./data/sf-fire-calls.csv\""
   ]
  },
  {
   "cell_type": "markdown",
   "metadata": {
    "application/vnd.databricks.v1+cell": {
     "inputWidgets": {},
     "nuid": "31d657d1-8ecd-4234-910f-3f100d714d61",
     "showTitle": false,
     "title": ""
    }
   },
   "source": [
    "Inspect how the data looks like before defining a schema"
   ]
  },
  {
   "cell_type": "code",
   "execution_count": 6,
   "metadata": {
    "application/vnd.databricks.v1+cell": {
     "inputWidgets": {},
     "nuid": "874919e9-8a76-45b2-85ab-d4f1b240f94d",
     "showTitle": false,
     "title": ""
    }
   },
   "outputs": [
    {
     "name": "stdout",
     "output_type": "stream",
     "text": [
      "CallNumber,UnitID,IncidentNumber,CallType,CallDate,WatchDate,CallFinalDisposition,AvailableDtTm,Address,City,Zipcode,Battalion,StationArea,Box,OriginalPriority,Priority,FinalPriority,ALSUnit,CallTypeGroup,NumAlarms,UnitType,UnitSequenceInCallDispatch,FirePreventionDistrict,SupervisorDistrict,Neighborhood,Location,RowID,Delay\r\n",
      "20110016,T13,2003235,Structure Fire,01/11/2002,01/10/2002,Other,01/11/2002 01:51:44 AM,2000 Block of CALIFORNIA ST,SF,94109,B04,38,3362,3,3,3,false,\"\",1,TRUCK,2,4,5,Pacific Heights,\"(37.7895840679362, -122.428071912459)\",020110016-T13,2.95\r\n",
      "20110022,M17,2003241,Medical Incident,01/11/2002,01/10/2002,Other,01/11/2002 03:01:18 AM,0 Block of SILVERVIEW DR,SF,94124,B10,42,6495,3,3,3,true,\"\",1,MEDIC,1,10,10,Bayview Hunters Point,\"(37.7337623673897, -122.396113802632)\",020110022-M17,4.7\r\n",
      "20110023,M41,2003242,Medical Incident,01/11/2002,01/10/2002,Other,01/11/2002 02:39:50 AM,MARKET ST/MCALLISTER ST,SF,94102,B03,01,1455,3,3,3,true,\"\",1,MEDIC,2,3,6,Tenderloin,\"(37.7811772186856, -122.411699931232)\",020110023-M41,2.4333334\r\n",
      "20110032,E11,2003250,Vehicle Fire,01/11/2002,01/10/2002,Other,01/11/2002 04:16:46 AM,APPLETON AV/MISSION ST,SF,94110,B06,32,5626,3,3,3,false,\"\",1,ENGINE,1,6,9,Bernal Heights,\"(37.7388432849018, -122.423948785199)\",020110032-E11,1.5\r\n",
      "20110043,B04,2003259,Alarms,01/11/2002,01/10/2002,Other,01/11/2002 06:01:58 AM,1400 Block of SUTTER ST,SF,94109,B04,03,3223,3,3,3,false,\"\",1,CHIEF,2,4,2,Western Addition,\"(37.7872890372638, -122.424236212664)\",020110043-B04,3.4833333\r\n",
      "20110072,T08,2003279,Structure Fire,01/11/2002,01/11/2002,Other,01/11/2002 08:03:26 AM,BEALE ST/FOLSOM ST,SF,94105,B03,35,2122,3,3,3,false,\"\",1,TRUCK,2,3,6,Financial District/South Beach,\"(37.7886866619654, -122.392722833778)\",020110072-T08,1.75\r\n",
      "20110125,E33,2003301,Alarms,01/11/2002,01/11/2002,Other,01/11/2002 09:46:44 AM,0 Block of FARALLONES ST,SF,94112,B09,33,8324,3,3,3,false,\"\",1,ENGINE,2,9,11,Oceanview/Merced/Ingleside,\"(37.7140353531157, -122.454117149916)\",020110125-E33,2.7166667\r\n",
      "20110130,E36,2003304,Alarms,01/11/2002,01/11/2002,Other,01/11/2002 09:58:53 AM,600 Block of POLK ST,SF,94102,B02,03,3114,3,3,3,false,\"\",1,ENGINE,1,2,6,Tenderloin,\"(37.7826266328595, -122.41915582123)\",020110130-E36,1.7833333\r\n",
      "20110197,E05,2003343,Medical Incident,01/11/2002,01/11/2002,Other,01/11/2002 12:06:57 PM,1500 Block of WEBSTER ST,SF,94115,B04,05,3513,3,3,3,false,\"\",1,ENGINE,1,4,5,Japantown,\"(37.784958590666, -122.431435274503)\",020110197-E05,1.5166667\r\n"
     ]
    }
   ],
   "source": [
    "!head ./data/sf-fire-calls.csv"
   ]
  },
  {
   "cell_type": "markdown",
   "metadata": {
    "application/vnd.databricks.v1+cell": {
     "inputWidgets": {},
     "nuid": "2da7c853-1b02-4127-b6ee-5648baded00c",
     "showTitle": false,
     "title": ""
    }
   },
   "source": [
    "Define our schema as the file has 4 million records. Inferring the schema is expensive for large files."
   ]
  },
  {
   "cell_type": "code",
   "execution_count": 7,
   "metadata": {
    "application/vnd.databricks.v1+cell": {
     "inputWidgets": {},
     "nuid": "1056d1d3-45d0-4bd1-9efb-50dd89fdf64e",
     "showTitle": false,
     "title": ""
    }
   },
   "outputs": [],
   "source": [
    "fire_schema = StructType([StructField('CallNumber', IntegerType(), True),\n",
    "                     StructField('UnitID', StringType(), True),\n",
    "                     StructField('IncidentNumber', IntegerType(), True),\n",
    "                     StructField('CallType', StringType(), True),                  \n",
    "                     StructField('CallDate', StringType(), True),      \n",
    "                     StructField('WatchDate', StringType(), True),\n",
    "                     StructField('CallFinalDisposition', StringType(), True),\n",
    "                     StructField('AvailableDtTm', StringType(), True),\n",
    "                     StructField('Address', StringType(), True),       \n",
    "                     StructField('City', StringType(), True),       \n",
    "                     StructField('Zipcode', IntegerType(), True),       \n",
    "                     StructField('Battalion', StringType(), True),                 \n",
    "                     StructField('StationArea', StringType(), True),       \n",
    "                     StructField('Box', StringType(), True),       \n",
    "                     StructField('OriginalPriority', StringType(), True),       \n",
    "                     StructField('Priority', StringType(), True),       \n",
    "                     StructField('FinalPriority', IntegerType(), True),       \n",
    "                     StructField('ALSUnit', BooleanType(), True),       \n",
    "                     StructField('CallTypeGroup', StringType(), True),\n",
    "                     StructField('NumAlarms', IntegerType(), True),\n",
    "                     StructField('UnitType', StringType(), True),\n",
    "                     StructField('UnitSequenceInCallDispatch', IntegerType(), True),\n",
    "                     StructField('FirePreventionDistrict', StringType(), True),\n",
    "                     StructField('SupervisorDistrict', StringType(), True),\n",
    "                     StructField('Neighborhood', StringType(), True),\n",
    "                     StructField('Location', StringType(), True),\n",
    "                     StructField('RowID', StringType(), True),\n",
    "                     StructField('Delay', FloatType(), True)])"
   ]
  },
  {
   "cell_type": "markdown",
   "metadata": {},
   "source": [
    "and read the file into a DataFrame:"
   ]
  },
  {
   "cell_type": "code",
   "execution_count": 8,
   "metadata": {
    "application/vnd.databricks.v1+cell": {
     "inputWidgets": {},
     "nuid": "d16883f0-2478-4d66-8cdb-5b16291f5409",
     "showTitle": false,
     "title": ""
    }
   },
   "outputs": [],
   "source": [
    "fire_df = spark.read.csv(sf_fire_file, header=True, schema=fire_schema)"
   ]
  },
  {
   "cell_type": "markdown",
   "metadata": {
    "application/vnd.databricks.v1+cell": {
     "inputWidgets": {},
     "nuid": "629bb3cb-f944-4717-bb79-0b19501597be",
     "showTitle": false,
     "title": ""
    }
   },
   "source": [
    "Cache the DataFrame since we will be performing some operations on it."
   ]
  },
  {
   "cell_type": "code",
   "execution_count": 9,
   "metadata": {
    "application/vnd.databricks.v1+cell": {
     "inputWidgets": {},
     "nuid": "ba7b093a-e0d0-45aa-a7c5-e0e0eaca8b3c",
     "showTitle": false,
     "title": ""
    }
   },
   "outputs": [
    {
     "data": {
      "text/plain": [
       "DataFrame[CallNumber: int, UnitID: string, IncidentNumber: int, CallType: string, CallDate: string, WatchDate: string, CallFinalDisposition: string, AvailableDtTm: string, Address: string, City: string, Zipcode: int, Battalion: string, StationArea: string, Box: string, OriginalPriority: string, Priority: string, FinalPriority: int, ALSUnit: boolean, CallTypeGroup: string, NumAlarms: int, UnitType: string, UnitSequenceInCallDispatch: int, FirePreventionDistrict: string, SupervisorDistrict: string, Neighborhood: string, Location: string, RowID: string, Delay: float]"
      ]
     },
     "execution_count": 9,
     "metadata": {},
     "output_type": "execute_result"
    }
   ],
   "source": [
    "fire_df.cache()"
   ]
  },
  {
   "cell_type": "code",
   "execution_count": 11,
   "metadata": {
    "application/vnd.databricks.v1+cell": {
     "inputWidgets": {},
     "nuid": "9663ac34-baaf-4526-bb20-530247ed208f",
     "showTitle": false,
     "title": ""
    }
   },
   "outputs": [
    {
     "data": {
      "text/plain": [
       "175296"
      ]
     },
     "execution_count": 11,
     "metadata": {},
     "output_type": "execute_result"
    }
   ],
   "source": [
    "fire_df.count() # Result should be 175,296"
   ]
  },
  {
   "cell_type": "code",
   "execution_count": 13,
   "metadata": {
    "application/vnd.databricks.v1+cell": {
     "inputWidgets": {},
     "nuid": "62141fa6-b6fe-42b4-a4eb-bfce8ff35e2e",
     "showTitle": false,
     "title": ""
    }
   },
   "outputs": [
    {
     "name": "stdout",
     "output_type": "stream",
     "text": [
      "root\n",
      " |-- CallNumber: integer (nullable = true)\n",
      " |-- UnitID: string (nullable = true)\n",
      " |-- IncidentNumber: integer (nullable = true)\n",
      " |-- CallType: string (nullable = true)\n",
      " |-- CallDate: string (nullable = true)\n",
      " |-- WatchDate: string (nullable = true)\n",
      " |-- CallFinalDisposition: string (nullable = true)\n",
      " |-- AvailableDtTm: string (nullable = true)\n",
      " |-- Address: string (nullable = true)\n",
      " |-- City: string (nullable = true)\n",
      " |-- Zipcode: integer (nullable = true)\n",
      " |-- Battalion: string (nullable = true)\n",
      " |-- StationArea: string (nullable = true)\n",
      " |-- Box: string (nullable = true)\n",
      " |-- OriginalPriority: string (nullable = true)\n",
      " |-- Priority: string (nullable = true)\n",
      " |-- FinalPriority: integer (nullable = true)\n",
      " |-- ALSUnit: boolean (nullable = true)\n",
      " |-- CallTypeGroup: string (nullable = true)\n",
      " |-- NumAlarms: integer (nullable = true)\n",
      " |-- UnitType: string (nullable = true)\n",
      " |-- UnitSequenceInCallDispatch: integer (nullable = true)\n",
      " |-- FirePreventionDistrict: string (nullable = true)\n",
      " |-- SupervisorDistrict: string (nullable = true)\n",
      " |-- Neighborhood: string (nullable = true)\n",
      " |-- Location: string (nullable = true)\n",
      " |-- RowID: string (nullable = true)\n",
      " |-- Delay: float (nullable = true)\n",
      "\n"
     ]
    }
   ],
   "source": [
    "fire_df.printSchema()"
   ]
  },
  {
   "cell_type": "code",
   "execution_count": 59,
   "metadata": {
    "application/vnd.databricks.v1+cell": {
     "inputWidgets": {},
     "nuid": "6006e548-621a-4719-818b-c350bcdfb97f",
     "showTitle": false,
     "title": ""
    }
   },
   "outputs": [
    {
     "name": "stdout",
     "output_type": "stream",
     "text": [
      "+----------+------+--------------+----------------+----------+----------+--------------------+--------------------+--------------------+----+-------+---------+-----------+----+----------------+--------+-------------+-------+-------------+---------+--------+--------------------------+----------------------+------------------+--------------------+--------------------+-------------+---------+\n",
      "|CallNumber|UnitID|IncidentNumber|        CallType|  CallDate| WatchDate|CallFinalDisposition|       AvailableDtTm|             Address|City|Zipcode|Battalion|StationArea| Box|OriginalPriority|Priority|FinalPriority|ALSUnit|CallTypeGroup|NumAlarms|UnitType|UnitSequenceInCallDispatch|FirePreventionDistrict|SupervisorDistrict|        Neighborhood|            Location|        RowID|    Delay|\n",
      "+----------+------+--------------+----------------+----------+----------+--------------------+--------------------+--------------------+----+-------+---------+-----------+----+----------------+--------+-------------+-------+-------------+---------+--------+--------------------------+----------------------+------------------+--------------------+--------------------+-------------+---------+\n",
      "|  20110016|   T13|       2003235|  Structure Fire|01/11/2002|01/10/2002|               Other|01/11/2002 01:51:...|2000 Block of CAL...|  SF|  94109|      B04|         38|3362|               3|       3|            3|  false|         null|        1|   TRUCK|                         2|                     4|                 5|     Pacific Heights|(37.7895840679362...|020110016-T13|     2.95|\n",
      "|  20110022|   M17|       2003241|Medical Incident|01/11/2002|01/10/2002|               Other|01/11/2002 03:01:...|0 Block of SILVER...|  SF|  94124|      B10|         42|6495|               3|       3|            3|   true|         null|        1|   MEDIC|                         1|                    10|                10|Bayview Hunters P...|(37.7337623673897...|020110022-M17|      4.7|\n",
      "|  20110023|   M41|       2003242|Medical Incident|01/11/2002|01/10/2002|               Other|01/11/2002 02:39:...|MARKET ST/MCALLIS...|  SF|  94102|      B03|         01|1455|               3|       3|            3|   true|         null|        1|   MEDIC|                         2|                     3|                 6|          Tenderloin|(37.7811772186856...|020110023-M41|2.4333334|\n",
      "+----------+------+--------------+----------------+----------+----------+--------------------+--------------------+--------------------+----+-------+---------+-----------+----+----------------+--------+-------------+-------+-------------+---------+--------+--------------------------+----------------------+------------------+--------------------+--------------------+-------------+---------+\n",
      "only showing top 3 rows\n",
      "\n"
     ]
    }
   ],
   "source": [
    "fire_df.show(3)"
   ]
  },
  {
   "cell_type": "markdown",
   "metadata": {
    "application/vnd.databricks.v1+cell": {
     "inputWidgets": {},
     "nuid": "11c974d3-eea4-4ae0-a15b-ffa60874407f",
     "showTitle": false,
     "title": ""
    }
   },
   "source": [
    "## Filter out \"Medical Incident\" call types\n",
    "\n",
    "Note that `filter()` and `where()` methods on the DataFrame are similar. Check relevant documentation for their respective argument types."
   ]
  },
  {
   "cell_type": "code",
   "execution_count": 15,
   "metadata": {
    "application/vnd.databricks.v1+cell": {
     "inputWidgets": {},
     "nuid": "c7e4858c-39b1-4acd-9380-e3ae3f702a2d",
     "showTitle": false,
     "title": ""
    },
    "scrolled": true
   },
   "outputs": [
    {
     "name": "stdout",
     "output_type": "stream",
     "text": [
      "+--------------+----------------------+--------------+\n",
      "|IncidentNumber|AvailableDtTm         |CallType      |\n",
      "+--------------+----------------------+--------------+\n",
      "|2003235       |01/11/2002 01:51:44 AM|Structure Fire|\n",
      "|2003250       |01/11/2002 04:16:46 AM|Vehicle Fire  |\n",
      "|2003259       |01/11/2002 06:01:58 AM|Alarms        |\n",
      "|2003279       |01/11/2002 08:03:26 AM|Structure Fire|\n",
      "|2003301       |01/11/2002 09:46:44 AM|Alarms        |\n",
      "+--------------+----------------------+--------------+\n",
      "only showing top 5 rows\n",
      "\n"
     ]
    }
   ],
   "source": [
    "few_fire_df = (fire_df\n",
    "               .select(\"IncidentNumber\", \"AvailableDtTm\", \"CallType\")\n",
    "               .where(col(\"CallType\") != \"Medical Incident\"))\n",
    "\n",
    "few_fire_df.show(5, truncate=False)"
   ]
  },
  {
   "cell_type": "code",
   "execution_count": 60,
   "metadata": {},
   "outputs": [
    {
     "data": {
      "text/plain": [
       "61502"
      ]
     },
     "execution_count": 60,
     "metadata": {},
     "output_type": "execute_result"
    }
   ],
   "source": [
    "few_fire_df.count()"
   ]
  },
  {
   "cell_type": "markdown",
   "metadata": {
    "application/vnd.databricks.v1+cell": {
     "inputWidgets": {},
     "nuid": "71c9c834-90e8-46ec-b058-9f7925f00326",
     "showTitle": false,
     "title": ""
    }
   },
   "source": [
    "## Q-1) How many distinct types of calls were made to the Fire Department?\n",
    "\n",
    "To be sure, let's not count \"null\" strings in that column."
   ]
  },
  {
   "cell_type": "code",
   "execution_count": 16,
   "metadata": {
    "application/vnd.databricks.v1+cell": {
     "inputWidgets": {},
     "nuid": "4a833de9-9d5a-400f-986e-a0fbf0c86344",
     "showTitle": false,
     "title": ""
    }
   },
   "outputs": [
    {
     "data": {
      "text/plain": [
       "30"
      ]
     },
     "execution_count": 16,
     "metadata": {},
     "output_type": "execute_result"
    }
   ],
   "source": [
    "fire_df.select(\"CallType\").where(col(\"CallType\").isNotNull()).distinct().count()"
   ]
  },
  {
   "cell_type": "markdown",
   "metadata": {
    "application/vnd.databricks.v1+cell": {
     "inputWidgets": {},
     "nuid": "5a628fca-e7f6-42e5-bdb4-1718dc2f420e",
     "showTitle": false,
     "title": ""
    }
   },
   "source": [
    "## Q-2) What are distinct types of calls were made to the Fire Department?\n",
    "\n",
    "These are all the distinct type of call to the SF Fire Department"
   ]
  },
  {
   "cell_type": "code",
   "execution_count": 65,
   "metadata": {
    "application/vnd.databricks.v1+cell": {
     "inputWidgets": {},
     "nuid": "d3f482e6-bdd1-412b-9c27-0f6ae011fdd9",
     "showTitle": false,
     "title": ""
    }
   },
   "outputs": [
    {
     "name": "stdout",
     "output_type": "stream",
     "text": [
      "+--------------------------------------------+\n",
      "|CallType                                    |\n",
      "+--------------------------------------------+\n",
      "|Elevator / Escalator Rescue                 |\n",
      "|Aircraft Emergency                          |\n",
      "|Alarms                                      |\n",
      "|Odor (Strange / Unknown)                    |\n",
      "|Citizen Assist / Service Call               |\n",
      "|HazMat                                      |\n",
      "|Explosion                                   |\n",
      "|Oil Spill                                   |\n",
      "|Vehicle Fire                                |\n",
      "|Suspicious Package                          |\n",
      "|Extrication / Entrapped (Machinery, Vehicle)|\n",
      "|Other                                       |\n",
      "|Outside Fire                                |\n",
      "|Traffic Collision                           |\n",
      "|Assist Police                               |\n",
      "|Gas Leak (Natural and LP Gases)             |\n",
      "|Water Rescue                                |\n",
      "|Electrical Hazard                           |\n",
      "|High Angle Rescue                           |\n",
      "|Structure Fire                              |\n",
      "|Industrial Accidents                        |\n",
      "|Medical Incident                            |\n",
      "|Mutual Aid / Assist Outside Agency          |\n",
      "|Fuel Spill                                  |\n",
      "|Smoke Investigation (Outside)               |\n",
      "|Train / Rail Incident                       |\n",
      "|Marine Fire                                 |\n",
      "|Administrative                              |\n",
      "|Watercraft in Distress                      |\n",
      "|Confined Space / Structure Collapse         |\n",
      "+--------------------------------------------+\n",
      "\n"
     ]
    }
   ],
   "source": [
    "fire_df.select(\"CallType\").where(col(\"CallType\").isNotNull()).distinct().show(30, False)"
   ]
  },
  {
   "cell_type": "markdown",
   "metadata": {
    "application/vnd.databricks.v1+cell": {
     "inputWidgets": {},
     "nuid": "07e4caef-484a-4b3e-a7e4-14f07ba675ee",
     "showTitle": false,
     "title": ""
    }
   },
   "source": [
    "## Q-3) Find out all response or delayed times greater than 5 mins\n",
    "\n",
    "1. Rename the column Delay - > ReponseDelayedinMins\n",
    "2. Returns a new DataFrame\n",
    "3. Find out all calls where the response time to the fire site was delayed for more than 5 mins"
   ]
  },
  {
   "cell_type": "code",
   "execution_count": 66,
   "metadata": {
    "application/vnd.databricks.v1+cell": {
     "inputWidgets": {},
     "nuid": "a816c851-d468-4819-b25d-f37e6bdbd656",
     "showTitle": false,
     "title": ""
    }
   },
   "outputs": [
    {
     "name": "stdout",
     "output_type": "stream",
     "text": [
      "+---------------------+\n",
      "|ResponseDelayedinMins|\n",
      "+---------------------+\n",
      "|5.35                 |\n",
      "|6.25                 |\n",
      "|5.2                  |\n",
      "|5.6                  |\n",
      "|7.25                 |\n",
      "+---------------------+\n",
      "only showing top 5 rows\n",
      "\n"
     ]
    },
    {
     "data": {
      "text/plain": [
       "27508"
      ]
     },
     "execution_count": 66,
     "metadata": {},
     "output_type": "execute_result"
    }
   ],
   "source": [
    "new_fire_df = fire_df.withColumnRenamed(\"Delay\", \"ResponseDelayedinMins\")\n",
    "new_fire_df.select(\"ResponseDelayedinMins\").where(col(\"ResponseDelayedinMins\") > 5).show(5, False)\n",
    "new_fire_df.select(\"ResponseDelayedinMins\").where(col(\"ResponseDelayedinMins\") > 5).count()"
   ]
  },
  {
   "cell_type": "markdown",
   "metadata": {
    "application/vnd.databricks.v1+cell": {
     "inputWidgets": {},
     "nuid": "83c2b145-f779-41bf-bfec-57f05bd4fa10",
     "showTitle": false,
     "title": ""
    }
   },
   "source": [
    "## Let's do some ETL:\n",
    "\n",
    "1. Transform the string dates to Spark Timestamp data type so we can make some time-based queries later\n",
    "2. Returns a transformed query\n",
    "3. Cache the new DataFrame"
   ]
  },
  {
   "cell_type": "code",
   "execution_count": 67,
   "metadata": {
    "application/vnd.databricks.v1+cell": {
     "inputWidgets": {},
     "nuid": "c9d4ac65-9eb4-4354-8f0b-66153da55e1f",
     "showTitle": false,
     "title": ""
    }
   },
   "outputs": [],
   "source": [
    "fire_ts_df = (new_fire_df\n",
    "              .withColumn(\"IncidentDate\", to_timestamp(col(\"CallDate\"), \"MM/dd/yyyy\")).drop(\"CallDate\") \n",
    "              .withColumn(\"OnWatchDate\",   to_timestamp(col(\"WatchDate\"), \"MM/dd/yyyy\")).drop(\"WatchDate\")\n",
    "              .withColumn(\"AvailableDtTS\", to_timestamp(col(\"AvailableDtTm\"), \"MM/dd/yyyy hh:mm:ss a\")).drop(\"AvailableDtTm\"))"
   ]
  },
  {
   "cell_type": "code",
   "execution_count": 68,
   "metadata": {
    "application/vnd.databricks.v1+cell": {
     "inputWidgets": {},
     "nuid": "31bf2074-009f-47fd-a094-9c7f5ce94385",
     "showTitle": false,
     "title": ""
    }
   },
   "outputs": [
    {
     "data": {
      "text/plain": [
       "['CallNumber',\n",
       " 'UnitID',\n",
       " 'IncidentNumber',\n",
       " 'CallType',\n",
       " 'CallFinalDisposition',\n",
       " 'Address',\n",
       " 'City',\n",
       " 'Zipcode',\n",
       " 'Battalion',\n",
       " 'StationArea',\n",
       " 'Box',\n",
       " 'OriginalPriority',\n",
       " 'Priority',\n",
       " 'FinalPriority',\n",
       " 'ALSUnit',\n",
       " 'CallTypeGroup',\n",
       " 'NumAlarms',\n",
       " 'UnitType',\n",
       " 'UnitSequenceInCallDispatch',\n",
       " 'FirePreventionDistrict',\n",
       " 'SupervisorDistrict',\n",
       " 'Neighborhood',\n",
       " 'Location',\n",
       " 'RowID',\n",
       " 'ResponseDelayedinMins',\n",
       " 'IncidentDate',\n",
       " 'OnWatchDate',\n",
       " 'AvailableDtTS']"
      ]
     },
     "execution_count": 68,
     "metadata": {},
     "output_type": "execute_result"
    }
   ],
   "source": [
    "fire_ts_df.cache()\n",
    "fire_ts_df.columns"
   ]
  },
  {
   "cell_type": "markdown",
   "metadata": {
    "application/vnd.databricks.v1+cell": {
     "inputWidgets": {},
     "nuid": "e6f2469d-6ed0-47b1-9ec5-fe0b05663fd0",
     "showTitle": false,
     "title": ""
    }
   },
   "source": [
    "Check the transformed columns with Spark Timestamp type"
   ]
  },
  {
   "cell_type": "code",
   "execution_count": 69,
   "metadata": {
    "application/vnd.databricks.v1+cell": {
     "inputWidgets": {},
     "nuid": "e67452ea-f174-4d79-bee3-91dad320d863",
     "showTitle": false,
     "title": ""
    }
   },
   "outputs": [
    {
     "name": "stdout",
     "output_type": "stream",
     "text": [
      "+-------------------+-------------------+-------------------+\n",
      "|IncidentDate       |OnWatchDate        |AvailableDtTS      |\n",
      "+-------------------+-------------------+-------------------+\n",
      "|2002-01-11 00:00:00|2002-01-10 00:00:00|2002-01-11 01:51:44|\n",
      "|2002-01-11 00:00:00|2002-01-10 00:00:00|2002-01-11 03:01:18|\n",
      "|2002-01-11 00:00:00|2002-01-10 00:00:00|2002-01-11 02:39:50|\n",
      "|2002-01-11 00:00:00|2002-01-10 00:00:00|2002-01-11 04:16:46|\n",
      "|2002-01-11 00:00:00|2002-01-10 00:00:00|2002-01-11 06:01:58|\n",
      "+-------------------+-------------------+-------------------+\n",
      "only showing top 5 rows\n",
      "\n"
     ]
    }
   ],
   "source": [
    "fire_ts_df.select(\"IncidentDate\", \"OnWatchDate\", \"AvailableDtTS\").show(5, False)"
   ]
  },
  {
   "cell_type": "markdown",
   "metadata": {
    "application/vnd.databricks.v1+cell": {
     "inputWidgets": {},
     "nuid": "fd25949e-4e28-4133-8b90-d480a5aeba5a",
     "showTitle": false,
     "title": ""
    }
   },
   "source": [
    "## Q-4) What were the most common call types?\n",
    "\n",
    "List them in descending order"
   ]
  },
  {
   "cell_type": "code",
   "execution_count": 72,
   "metadata": {
    "application/vnd.databricks.v1+cell": {
     "inputWidgets": {},
     "nuid": "43176835-0ed7-4154-a3fb-659bb7de945c",
     "showTitle": false,
     "title": ""
    }
   },
   "outputs": [
    {
     "name": "stdout",
     "output_type": "stream",
     "text": [
      "+--------------------------------------------+------+\n",
      "|CallType                                    |count |\n",
      "+--------------------------------------------+------+\n",
      "|Medical Incident                            |113794|\n",
      "|Structure Fire                              |23319 |\n",
      "|Alarms                                      |19406 |\n",
      "|Traffic Collision                           |7013  |\n",
      "|Citizen Assist / Service Call               |2524  |\n",
      "|Other                                       |2166  |\n",
      "|Outside Fire                                |2094  |\n",
      "|Vehicle Fire                                |854   |\n",
      "|Gas Leak (Natural and LP Gases)             |764   |\n",
      "|Water Rescue                                |755   |\n",
      "|Odor (Strange / Unknown)                    |490   |\n",
      "|Electrical Hazard                           |482   |\n",
      "|Elevator / Escalator Rescue                 |453   |\n",
      "|Smoke Investigation (Outside)               |391   |\n",
      "|Fuel Spill                                  |193   |\n",
      "|HazMat                                      |124   |\n",
      "|Industrial Accidents                        |94    |\n",
      "|Explosion                                   |89    |\n",
      "|Train / Rail Incident                       |57    |\n",
      "|Aircraft Emergency                          |36    |\n",
      "|Assist Police                               |35    |\n",
      "|High Angle Rescue                           |32    |\n",
      "|Extrication / Entrapped (Machinery, Vehicle)|28    |\n",
      "|Watercraft in Distress                      |28    |\n",
      "|Oil Spill                                   |21    |\n",
      "|Suspicious Package                          |15    |\n",
      "|Marine Fire                                 |14    |\n",
      "|Confined Space / Structure Collapse         |13    |\n",
      "|Mutual Aid / Assist Outside Agency          |9     |\n",
      "|Administrative                              |3     |\n",
      "+--------------------------------------------+------+\n",
      "\n"
     ]
    }
   ],
   "source": [
    "(fire_ts_df\n",
    " .select(\"CallType\").where(col(\"CallType\").isNotNull())\n",
    " .groupBy(\"CallType\")\n",
    " .count()\n",
    " .orderBy(\"count\", ascending=False)\n",
    " .show(n=35, truncate=False))"
   ]
  },
  {
   "cell_type": "markdown",
   "metadata": {},
   "source": [
    "They occured in wich time frame?"
   ]
  },
  {
   "cell_type": "code",
   "execution_count": 77,
   "metadata": {},
   "outputs": [
    {
     "name": "stdout",
     "output_type": "stream",
     "text": [
      "+-------------------+-------------------+\n",
      "|  min(IncidentDate)|  max(IncidentDate)|\n",
      "+-------------------+-------------------+\n",
      "|2000-04-12 00:00:00|2018-11-06 00:00:00|\n",
      "+-------------------+-------------------+\n",
      "\n"
     ]
    }
   ],
   "source": [
    "fire_ts_df.select(min(\"IncidentDate\"), max(\"IncidentDate\")).show()"
   ]
  },
  {
   "cell_type": "markdown",
   "metadata": {
    "application/vnd.databricks.v1+cell": {
     "inputWidgets": {},
     "nuid": "9eb5aacf-82c2-42ed-9bd1-f53fb7e3dbe2",
     "showTitle": false,
     "title": ""
    }
   },
   "source": [
    "## Q-4a) What zip codes accounted for most common calls?\n",
    "\n",
    "Let's investigate what zip codes in San Francisco accounted for most fire calls and what type where they:\n",
    "\n",
    "1. Filter out by CallType\n",
    "2. Group them by CallType and Zip code\n",
    "3. Count them and display them in descending order\n",
    "\n",
    "It seems like the most common calls were all related to Medical Incident, and the two zip codes are 94102 and 94103."
   ]
  },
  {
   "cell_type": "code",
   "execution_count": 76,
   "metadata": {
    "application/vnd.databricks.v1+cell": {
     "inputWidgets": {},
     "nuid": "23db032c-aac3-4420-812a-37b298f23135",
     "showTitle": false,
     "title": ""
    }
   },
   "outputs": [
    {
     "name": "stdout",
     "output_type": "stream",
     "text": [
      "+----------------+-------+-----+\n",
      "|CallType        |Zipcode|count|\n",
      "+----------------+-------+-----+\n",
      "|Medical Incident|94102  |16130|\n",
      "|Medical Incident|94103  |14775|\n",
      "|Medical Incident|94110  |9995 |\n",
      "|Medical Incident|94109  |9479 |\n",
      "|Medical Incident|94124  |5885 |\n",
      "|Medical Incident|94112  |5630 |\n",
      "|Medical Incident|94115  |4785 |\n",
      "|Medical Incident|94122  |4323 |\n",
      "|Medical Incident|94107  |4284 |\n",
      "|Medical Incident|94133  |3977 |\n",
      "+----------------+-------+-----+\n",
      "only showing top 10 rows\n",
      "\n"
     ]
    }
   ],
   "source": [
    "(fire_ts_df\n",
    " .select(\"CallType\", \"ZipCode\")\n",
    "# .where(col(\"CallType\") == \"Water Rescue\")\n",
    " .where(col(\"CallType\").isNotNull())\n",
    " .groupBy(\"CallType\", \"Zipcode\")\n",
    " .count()\n",
    " .orderBy(\"count\", ascending=False)\n",
    " .show(10, truncate=False))"
   ]
  },
  {
   "cell_type": "markdown",
   "metadata": {
    "application/vnd.databricks.v1+cell": {
     "inputWidgets": {},
     "nuid": "6cbc4711-0939-4e9d-9b6d-07fa9fd9bf02",
     "showTitle": false,
     "title": ""
    }
   },
   "source": [
    "## Q-4b) What San Francisco neighborhoods are in the zip codes 94102 and 94103?\n",
    "\n",
    "Let's find out the neighborhoods associated with these two zip codes. In all likelihood, these are some of the contested \n",
    "neighborhood with high reported crimes."
   ]
  },
  {
   "cell_type": "code",
   "execution_count": 24,
   "metadata": {
    "application/vnd.databricks.v1+cell": {
     "inputWidgets": {},
     "nuid": "37aeb481-b53f-4e6b-91dd-36e02519e58f",
     "showTitle": false,
     "title": ""
    }
   },
   "outputs": [
    {
     "name": "stdout",
     "output_type": "stream",
     "text": [
      "+------------------------------+-------+\n",
      "|Neighborhood                  |Zipcode|\n",
      "+------------------------------+-------+\n",
      "|Potrero Hill                  |94103  |\n",
      "|Western Addition              |94102  |\n",
      "|Tenderloin                    |94102  |\n",
      "|Nob Hill                      |94102  |\n",
      "|Castro/Upper Market           |94103  |\n",
      "|South of Market               |94102  |\n",
      "|South of Market               |94103  |\n",
      "|Hayes Valley                  |94103  |\n",
      "|Financial District/South Beach|94102  |\n",
      "|Mission Bay                   |94103  |\n",
      "+------------------------------+-------+\n",
      "only showing top 10 rows\n",
      "\n"
     ]
    }
   ],
   "source": [
    "fire_ts_df.select(\"Neighborhood\", \"Zipcode\").where((col(\"Zipcode\") == 94102) | (col(\"Zipcode\") == 94103)).distinct().show(10, truncate=False)"
   ]
  },
  {
   "cell_type": "markdown",
   "metadata": {
    "application/vnd.databricks.v1+cell": {
     "inputWidgets": {},
     "nuid": "4db8dcee-760f-4104-ac83-f65d97fc0b94",
     "showTitle": false,
     "title": ""
    }
   },
   "source": [
    "## Q-5) What was the sum of all calls - average, min and max of the response times for calls?\n",
    "Let's use the built-in Spark SQL functions to compute the sum, avg, min, and max of few columns:\n",
    "\n",
    "* Number of Total Alarms\n",
    "* What were the min and max of the delay in response time before the Fire Dept arrived at the scene of the call?"
   ]
  },
  {
   "cell_type": "code",
   "execution_count": 25,
   "metadata": {
    "application/vnd.databricks.v1+cell": {
     "inputWidgets": {},
     "nuid": "421be593-a16b-400c-9c50-47f70c30dbbc",
     "showTitle": false,
     "title": ""
    }
   },
   "outputs": [
    {
     "name": "stdout",
     "output_type": "stream",
     "text": [
      "+--------------+--------------------------+--------------------------+--------------------------+\n",
      "|sum(NumAlarms)|avg(ResponseDelayedinMins)|min(ResponseDelayedinMins)|max(ResponseDelayedinMins)|\n",
      "+--------------+--------------------------+--------------------------+--------------------------+\n",
      "|        176170|         3.892364154521585|               0.016666668|                   1844.55|\n",
      "+--------------+--------------------------+--------------------------+--------------------------+\n",
      "\n"
     ]
    }
   ],
   "source": [
    "fire_ts_df.select(sum(\"NumAlarms\"), avg(\"ResponseDelayedinMins\"), min(\"ResponseDelayedinMins\"), max(\"ResponseDelayedinMins\")).show()"
   ]
  },
  {
   "cell_type": "markdown",
   "metadata": {
    "application/vnd.databricks.v1+cell": {
     "inputWidgets": {},
     "nuid": "0d6a62d0-d19a-4118-bc80-e07455078b07",
     "showTitle": false,
     "title": ""
    }
   },
   "source": [
    "## Q-6a) How many distinct years of data is in the CSV file?\n",
    "\n",
    "We can use the `year()` SQL Spark function off the Timestamp column data type IncidentDate.\n",
    "\n",
    "In all, we have fire calls from years 2000-2018"
   ]
  },
  {
   "cell_type": "code",
   "execution_count": 26,
   "metadata": {
    "application/vnd.databricks.v1+cell": {
     "inputWidgets": {},
     "nuid": "bb91ba8e-4fd1-456e-ad0a-e30e556ff5a3",
     "showTitle": false,
     "title": ""
    }
   },
   "outputs": [
    {
     "name": "stdout",
     "output_type": "stream",
     "text": [
      "+------------------+\n",
      "|year(IncidentDate)|\n",
      "+------------------+\n",
      "|              2000|\n",
      "|              2001|\n",
      "|              2002|\n",
      "|              2003|\n",
      "|              2004|\n",
      "|              2005|\n",
      "|              2006|\n",
      "|              2007|\n",
      "|              2008|\n",
      "|              2009|\n",
      "|              2010|\n",
      "|              2011|\n",
      "|              2012|\n",
      "|              2013|\n",
      "|              2014|\n",
      "|              2015|\n",
      "|              2016|\n",
      "|              2017|\n",
      "|              2018|\n",
      "+------------------+\n",
      "\n"
     ]
    }
   ],
   "source": [
    "fire_ts_df.select(year(\"IncidentDate\")).distinct().orderBy(year(\"IncidentDate\")).show()"
   ]
  },
  {
   "cell_type": "markdown",
   "metadata": {
    "application/vnd.databricks.v1+cell": {
     "inputWidgets": {},
     "nuid": "2e4d1ba6-2485-42df-90f1-a118396bec90",
     "showTitle": false,
     "title": ""
    }
   },
   "source": [
    "## Q-6b) What week of the year in 2018 had the most fire calls?\n",
    "\n",
    "**Note**: Week 1 is the New Years' week and week 25 is the July 4 the week. Loads of fireworks, so it makes sense the higher number of calls."
   ]
  },
  {
   "cell_type": "code",
   "execution_count": 78,
   "metadata": {
    "application/vnd.databricks.v1+cell": {
     "inputWidgets": {},
     "nuid": "1b7ae734-4188-4496-9651-40fc04121bd4",
     "showTitle": false,
     "title": ""
    }
   },
   "outputs": [
    {
     "name": "stdout",
     "output_type": "stream",
     "text": [
      "+------------------------+-----+\n",
      "|weekofyear(IncidentDate)|count|\n",
      "+------------------------+-----+\n",
      "|                      22|  259|\n",
      "|                      40|  255|\n",
      "|                      43|  250|\n",
      "|                      25|  249|\n",
      "|                       1|  246|\n",
      "|                      44|  244|\n",
      "|                      13|  243|\n",
      "|                      32|  243|\n",
      "|                      11|  240|\n",
      "|                       5|  236|\n",
      "|                      18|  236|\n",
      "|                      23|  235|\n",
      "|                      42|  234|\n",
      "|                       2|  234|\n",
      "|                      31|  234|\n",
      "|                      19|  233|\n",
      "|                      10|  232|\n",
      "|                       8|  232|\n",
      "|                      34|  232|\n",
      "|                      28|  231|\n",
      "+------------------------+-----+\n",
      "only showing top 20 rows\n",
      "\n"
     ]
    }
   ],
   "source": [
    "fire_ts_df.filter(year(\"IncidentDate\") == 2018).groupBy(weekofyear(\"IncidentDate\")).count().orderBy(\"count\", ascending=False).show()"
   ]
  },
  {
   "cell_type": "markdown",
   "metadata": {
    "application/vnd.databricks.v1+cell": {
     "inputWidgets": {},
     "nuid": "3daec49f-847b-44e2-85e7-af19b6aee4e4",
     "showTitle": false,
     "title": ""
    }
   },
   "source": [
    "## Q-7) What neighborhoods in San Francisco had the worst response time in 2018?\n",
    "\n",
    "It appears that if you living in Presidio Heights, the Fire Dept arrived in less than 3 mins, while Mission Bay took more than 6 mins."
   ]
  },
  {
   "cell_type": "code",
   "execution_count": 79,
   "metadata": {
    "application/vnd.databricks.v1+cell": {
     "inputWidgets": {},
     "nuid": "f710a989-ab96-41e8-b638-d2e358334608",
     "showTitle": false,
     "title": ""
    }
   },
   "outputs": [
    {
     "name": "stdout",
     "output_type": "stream",
     "text": [
      "+------------------------------+---------------------+\n",
      "|Neighborhood                  |ResponseDelayedinMins|\n",
      "+------------------------------+---------------------+\n",
      "|Presidio Heights              |2.8833334            |\n",
      "|Mission Bay                   |6.3333335            |\n",
      "|Chinatown                     |2.65                 |\n",
      "|Financial District/South Beach|3.5333333            |\n",
      "|Tenderloin                    |1.1                  |\n",
      "|Bayview Hunters Point         |4.05                 |\n",
      "|Inner Richmond                |2.5666666            |\n",
      "|Inner Sunset                  |1.4                  |\n",
      "|Sunset/Parkside               |2.6666667            |\n",
      "|South of Market               |1.7666667            |\n",
      "+------------------------------+---------------------+\n",
      "only showing top 10 rows\n",
      "\n"
     ]
    }
   ],
   "source": [
    "fire_ts_df.select(\"Neighborhood\", \"ResponseDelayedinMins\").filter(year(\"IncidentDate\") == 2018).show(10, False)"
   ]
  },
  {
   "cell_type": "markdown",
   "metadata": {
    "application/vnd.databricks.v1+cell": {
     "inputWidgets": {},
     "nuid": "301c30e3-e567-4f64-aaeb-885bcb003287",
     "showTitle": false,
     "title": ""
    }
   },
   "source": [
    "## Q-8a) How can we use Parquet files or SQL table to store data and read it back?"
   ]
  },
  {
   "cell_type": "code",
   "execution_count": 80,
   "metadata": {
    "application/vnd.databricks.v1+cell": {
     "inputWidgets": {},
     "nuid": "c4f1491a-2fc5-40fc-97cd-8490d128b794",
     "showTitle": false,
     "title": ""
    }
   },
   "outputs": [],
   "source": [
    "fire_ts_df.write.format(\"parquet\").mode(\"overwrite\").save(\"data/fireServiceParquet/\")"
   ]
  },
  {
   "cell_type": "code",
   "execution_count": 81,
   "metadata": {
    "application/vnd.databricks.v1+cell": {
     "inputWidgets": {},
     "nuid": "1b5ca4f8-4d81-4776-87bd-cb8a7c4d9779",
     "showTitle": false,
     "title": ""
    }
   },
   "outputs": [
    {
     "name": "stdout",
     "output_type": "stream",
     "text": [
      "ls: cannot access 'ls': No such file or directory\r\n",
      "data/fireServiceParquet/:\r\n",
      "part-00000-c3ec71dc-b8f7-4d6b-93f6-d5d6aea334a6-c000.snappy.parquet\r\n",
      "part-00001-c3ec71dc-b8f7-4d6b-93f6-d5d6aea334a6-c000.snappy.parquet\r\n",
      "part-00002-c3ec71dc-b8f7-4d6b-93f6-d5d6aea334a6-c000.snappy.parquet\r\n",
      "part-00003-c3ec71dc-b8f7-4d6b-93f6-d5d6aea334a6-c000.snappy.parquet\r\n",
      "part-00004-c3ec71dc-b8f7-4d6b-93f6-d5d6aea334a6-c000.snappy.parquet\r\n",
      "part-00005-c3ec71dc-b8f7-4d6b-93f6-d5d6aea334a6-c000.snappy.parquet\r\n",
      "part-00006-c3ec71dc-b8f7-4d6b-93f6-d5d6aea334a6-c000.snappy.parquet\r\n",
      "part-00007-c3ec71dc-b8f7-4d6b-93f6-d5d6aea334a6-c000.snappy.parquet\r\n",
      "part-00008-c3ec71dc-b8f7-4d6b-93f6-d5d6aea334a6-c000.snappy.parquet\r\n",
      "part-00009-c3ec71dc-b8f7-4d6b-93f6-d5d6aea334a6-c000.snappy.parquet\r\n",
      "part-00010-c3ec71dc-b8f7-4d6b-93f6-d5d6aea334a6-c000.snappy.parquet\r\n",
      "_SUCCESS\r\n"
     ]
    }
   ],
   "source": [
    "%ls ls data/fireServiceParquet/"
   ]
  },
  {
   "cell_type": "markdown",
   "metadata": {
    "application/vnd.databricks.v1+cell": {
     "inputWidgets": {},
     "nuid": "be370a5b-8672-4ef3-8d1d-a0d212b7faf7",
     "showTitle": false,
     "title": ""
    }
   },
   "source": [
    "## Q-8b) How can we use Parquet SQL table to store data and read it back?"
   ]
  },
  {
   "cell_type": "markdown",
   "metadata": {},
   "source": [
    "The SQL-table is stored in the loication `spark-warehouse/fireservicecalls`.   \n",
    "If the local files get corrupted, the `saveAsTable`command will throw an error:    \n",
    "`AnalysisException: Can not create the managed table('`FireServiceCalls`'). The associated location('file:/home/...') already exists.`       \n",
    "In this case, the directory has to be deleted by hand."
   ]
  },
  {
   "cell_type": "code",
   "execution_count": 82,
   "metadata": {
    "application/vnd.databricks.v1+cell": {
     "inputWidgets": {},
     "nuid": "6e89fb83-efc1-41ca-91dd-89b117088a18",
     "showTitle": false,
     "title": ""
    }
   },
   "outputs": [],
   "source": [
    "fire_ts_df.write.format(\"parquet\").mode(\"overwrite\").saveAsTable(\"FireServiceCalls\")"
   ]
  },
  {
   "cell_type": "code",
   "execution_count": 83,
   "metadata": {
    "application/vnd.databricks.v1+cell": {
     "inputWidgets": {},
     "nuid": "f58a3b80-7b26-43d5-abf7-5f8ab1944840",
     "showTitle": false,
     "title": ""
    }
   },
   "outputs": [
    {
     "data": {
      "text/plain": [
       "DataFrame[CallNumber: int, UnitID: string, IncidentNumber: int, CallType: string, CallFinalDisposition: string, Address: string, City: string, Zipcode: int, Battalion: string, StationArea: string, Box: string, OriginalPriority: string, Priority: string, FinalPriority: int, ALSUnit: boolean, CallTypeGroup: string, NumAlarms: int, UnitType: string, UnitSequenceInCallDispatch: int, FirePreventionDistrict: string, SupervisorDistrict: string, Neighborhood: string, Location: string, RowID: string, ResponseDelayedinMins: float, IncidentDate: timestamp, OnWatchDate: timestamp, AvailableDtTS: timestamp]"
      ]
     },
     "execution_count": 83,
     "metadata": {},
     "output_type": "execute_result"
    }
   ],
   "source": [
    "# %sql\n",
    "# CACHE TABLE FireServiceCalls\n",
    "\n",
    "# Both commands are identical to cache the table \"FireServiceCall\":\n",
    "# spark.catalog.cacheTable(\"FireServiceCalls\")\n",
    "fire_ts_df.cache()\n"
   ]
  },
  {
   "cell_type": "code",
   "execution_count": 84,
   "metadata": {
    "application/vnd.databricks.v1+cell": {
     "inputWidgets": {},
     "nuid": "e51b02ec-b2ad-45a8-b25c-29c8c2149947",
     "showTitle": false,
     "title": ""
    }
   },
   "outputs": [
    {
     "name": "stdout",
     "output_type": "stream",
     "text": [
      "+----------+------+--------------+----------------+--------------------+--------------------+----+-------+---------+-----------+----+----------------+--------+-------------+-------+-------------+---------+--------+--------------------------+----------------------+------------------+--------------------+--------------------+-------------+---------------------+-------------------+-------------------+-------------------+\n",
      "|CallNumber|UnitID|IncidentNumber|        CallType|CallFinalDisposition|             Address|City|Zipcode|Battalion|StationArea| Box|OriginalPriority|Priority|FinalPriority|ALSUnit|CallTypeGroup|NumAlarms|UnitType|UnitSequenceInCallDispatch|FirePreventionDistrict|SupervisorDistrict|        Neighborhood|            Location|        RowID|ResponseDelayedinMins|       IncidentDate|        OnWatchDate|      AvailableDtTS|\n",
      "+----------+------+--------------+----------------+--------------------+--------------------+----+-------+---------+-----------+----+----------------+--------+-------------+-------+-------------+---------+--------+--------------------------+----------------------+------------------+--------------------+--------------------+-------------+---------------------+-------------------+-------------------+-------------------+\n",
      "|  20110016|   T13|       2003235|  Structure Fire|               Other|2000 Block of CAL...|  SF|  94109|      B04|         38|3362|               3|       3|            3|  false|         null|        1|   TRUCK|                         2|                     4|                 5|     Pacific Heights|(37.7895840679362...|020110016-T13|                 2.95|2002-01-11 00:00:00|2002-01-10 00:00:00|2002-01-11 01:51:44|\n",
      "|  20110022|   M17|       2003241|Medical Incident|               Other|0 Block of SILVER...|  SF|  94124|      B10|         42|6495|               3|       3|            3|   true|         null|        1|   MEDIC|                         1|                    10|                10|Bayview Hunters P...|(37.7337623673897...|020110022-M17|                  4.7|2002-01-11 00:00:00|2002-01-10 00:00:00|2002-01-11 03:01:18|\n",
      "|  20110023|   M41|       2003242|Medical Incident|               Other|MARKET ST/MCALLIS...|  SF|  94102|      B03|         01|1455|               3|       3|            3|   true|         null|        1|   MEDIC|                         2|                     3|                 6|          Tenderloin|(37.7811772186856...|020110023-M41|            2.4333334|2002-01-11 00:00:00|2002-01-10 00:00:00|2002-01-11 02:39:50|\n",
      "|  20110032|   E11|       2003250|    Vehicle Fire|               Other|APPLETON AV/MISSI...|  SF|  94110|      B06|         32|5626|               3|       3|            3|  false|         null|        1|  ENGINE|                         1|                     6|                 9|      Bernal Heights|(37.7388432849018...|020110032-E11|                  1.5|2002-01-11 00:00:00|2002-01-10 00:00:00|2002-01-11 04:16:46|\n",
      "|  20110043|   B04|       2003259|          Alarms|               Other|1400 Block of SUT...|  SF|  94109|      B04|         03|3223|               3|       3|            3|  false|         null|        1|   CHIEF|                         2|                     4|                 2|    Western Addition|(37.7872890372638...|020110043-B04|            3.4833333|2002-01-11 00:00:00|2002-01-10 00:00:00|2002-01-11 06:01:58|\n",
      "|  20110072|   T08|       2003279|  Structure Fire|               Other|  BEALE ST/FOLSOM ST|  SF|  94105|      B03|         35|2122|               3|       3|            3|  false|         null|        1|   TRUCK|                         2|                     3|                 6|Financial Distric...|(37.7886866619654...|020110072-T08|                 1.75|2002-01-11 00:00:00|2002-01-11 00:00:00|2002-01-11 08:03:26|\n",
      "|  20110125|   E33|       2003301|          Alarms|               Other|0 Block of FARALL...|  SF|  94112|      B09|         33|8324|               3|       3|            3|  false|         null|        1|  ENGINE|                         2|                     9|                11|Oceanview/Merced/...|(37.7140353531157...|020110125-E33|            2.7166667|2002-01-11 00:00:00|2002-01-11 00:00:00|2002-01-11 09:46:44|\n",
      "|  20110130|   E36|       2003304|          Alarms|               Other|600 Block of POLK ST|  SF|  94102|      B02|         03|3114|               3|       3|            3|  false|         null|        1|  ENGINE|                         1|                     2|                 6|          Tenderloin|(37.7826266328595...|020110130-E36|            1.7833333|2002-01-11 00:00:00|2002-01-11 00:00:00|2002-01-11 09:58:53|\n",
      "|  20110197|   E05|       2003343|Medical Incident|               Other|1500 Block of WEB...|  SF|  94115|      B04|         05|3513|               3|       3|            3|  false|         null|        1|  ENGINE|                         1|                     4|                 5|           Japantown|(37.784958590666,...|020110197-E05|            1.5166667|2002-01-11 00:00:00|2002-01-11 00:00:00|2002-01-11 12:06:57|\n",
      "|  20110215|   E06|       2003348|Medical Incident|               Other|DIAMOND ST/MARKET ST|  SF|  94114|      B05|         06|5415|               3|       3|            3|  false|         null|        1|  ENGINE|                         1|                     5|                 8| Castro/Upper Market|(37.7618954753708...|020110215-E06|            2.7666667|2002-01-11 00:00:00|2002-01-11 00:00:00|2002-01-11 13:08:40|\n",
      "+----------+------+--------------+----------------+--------------------+--------------------+----+-------+---------+-----------+----+----------------+--------+-------------+-------+-------------+---------+--------+--------------------------+----------------------+------------------+--------------------+--------------------+-------------+---------------------+-------------------+-------------------+-------------------+\n",
      "only showing top 10 rows\n",
      "\n"
     ]
    }
   ],
   "source": [
    "# %sql\n",
    "# SELECT * FROM FireServiceCalls LIMIT 10\n",
    "\n",
    "fire_ts_df.select(\"*\").show(10)\n"
   ]
  },
  {
   "cell_type": "markdown",
   "metadata": {
    "application/vnd.databricks.v1+cell": {
     "inputWidgets": {},
     "nuid": "3e3f41af-e28b-4a05-8c16-5847c3d84faa",
     "showTitle": false,
     "title": ""
    }
   },
   "source": [
    "## Q-8c) How can read data from Parquet file?\n",
    "\n",
    "Note we don't have to specify the schema here since it's stored as part of the Parquet metadata"
   ]
  },
  {
   "cell_type": "code",
   "execution_count": 85,
   "metadata": {
    "application/vnd.databricks.v1+cell": {
     "inputWidgets": {},
     "nuid": "30951a1d-2c2c-445f-9c7e-d44eb30b2e41",
     "showTitle": false,
     "title": ""
    }
   },
   "outputs": [],
   "source": [
    "file_parquet_df = spark.read.format(\"parquet\").load(\"data/fireServiceParquet/\")"
   ]
  },
  {
   "cell_type": "code",
   "execution_count": 86,
   "metadata": {
    "application/vnd.databricks.v1+cell": {
     "inputWidgets": {},
     "nuid": "bff0aba7-de72-4f0b-ab41-69830de0a464",
     "showTitle": false,
     "title": ""
    }
   },
   "outputs": [
    {
     "data": {
      "text/plain": [
       "DataFrame[CallNumber: int, UnitID: string, IncidentNumber: int, CallType: string, CallFinalDisposition: string, Address: string, City: string, Zipcode: int, Battalion: string, StationArea: string, Box: string, OriginalPriority: string, Priority: string, FinalPriority: int, ALSUnit: boolean, CallTypeGroup: string, NumAlarms: int, UnitType: string, UnitSequenceInCallDispatch: int, FirePreventionDistrict: string, SupervisorDistrict: string, Neighborhood: string, Location: string, RowID: string, ResponseDelayedinMins: float, IncidentDate: timestamp, OnWatchDate: timestamp, AvailableDtTS: timestamp]"
      ]
     },
     "metadata": {},
     "output_type": "display_data"
    }
   ],
   "source": [
    "display(file_parquet_df.limit(10))"
   ]
  },
  {
   "cell_type": "code",
   "execution_count": null,
   "metadata": {},
   "outputs": [],
   "source": []
  }
 ],
 "metadata": {
  "application/vnd.databricks.v1+notebook": {
   "dashboards": [],
   "language": "python",
   "notebookMetadata": {
    "pythonIndentUnit": 2
   },
   "notebookName": "3-2 San Francisco Fire Calls",
   "notebookOrigID": 9372114298099,
   "widgets": {}
  },
  "kernelspec": {
   "display_name": "Python 3",
   "language": "python",
   "name": "python3"
  },
  "language_info": {
   "codemirror_mode": {
    "name": "ipython",
    "version": 3
   },
   "file_extension": ".py",
   "mimetype": "text/x-python",
   "name": "python",
   "nbconvert_exporter": "python",
   "pygments_lexer": "ipython3",
   "version": "3.8.5"
  }
 },
 "nbformat": 4,
 "nbformat_minor": 1
}
