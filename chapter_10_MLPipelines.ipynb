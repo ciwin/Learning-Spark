{
 "cells": [
  {
   "cell_type": "markdown",
   "id": "90931eb4",
   "metadata": {},
   "source": [
    "# Chapter 10: Machine Learning with MLlib\n",
    "Christoph Windheuser    \n",
    "June, 2022   \n",
    "Python examples of chapter 10 (page 285 ff) in the book *Learning Spark*"
   ]
  },
  {
   "cell_type": "code",
   "execution_count": 1,
   "id": "4ffc3201",
   "metadata": {},
   "outputs": [],
   "source": [
    "# Import required python spark libraries\n",
    "import pyspark\n",
    "import numpy as np\n",
    "from pyspark.sql.functions import *\n",
    "from pyspark.sql.types import *\n",
    "from pyspark.ml.feature import VectorAssembler\n",
    "from pyspark.ml.regression import LinearRegression\n",
    "from pyspark.ml import Pipeline\n"
   ]
  },
  {
   "cell_type": "code",
   "execution_count": 2,
   "id": "c4e4ae0e",
   "metadata": {},
   "outputs": [],
   "source": [
    "# create a SparkSession\n",
    "# This requires access to the internet. If executed offline, an error is thrown\n",
    "\n",
    "spark = (SparkSession \\\n",
    "         .builder \\\n",
    "         .appName(\"Chapter_10\") \\\n",
    "         .getOrCreate())\n"
   ]
  },
  {
   "cell_type": "markdown",
   "id": "585218cf",
   "metadata": {},
   "source": [
    "# Read the Database into a DataFrame\n",
    "Page 291"
   ]
  },
  {
   "cell_type": "code",
   "execution_count": 3,
   "id": "f298e458",
   "metadata": {},
   "outputs": [],
   "source": [
    "filePath = \"../DB_Spark/LearningSparkV2/databricks-datasets/learning-spark-v2/sf-airbnb/sf-airbnb-clean.parquet\"\n"
   ]
  },
  {
   "cell_type": "code",
   "execution_count": 4,
   "id": "22bdffac",
   "metadata": {},
   "outputs": [],
   "source": [
    "airbnbDF = spark.read.parquet(filePath)"
   ]
  },
  {
   "cell_type": "code",
   "execution_count": 5,
   "id": "b61d59d8",
   "metadata": {},
   "outputs": [
    {
     "name": "stdout",
     "output_type": "stream",
     "text": [
      "+-----------------+--------------------+----------------+-------------------------+----------------------+--------+----------+-------------+---------------+------------+---------+--------+----+--------+--------------+-----------------+--------------------+----------------------+-------------------------+---------------------+---------------------------+----------------------+-------------------+-----+-----------+------------+-------+-----------------------+-------------------------+----------------------------+------------------------+------------------------------+-------------------------+----------------------+\n",
      "|host_is_superhost| cancellation_policy|instant_bookable|host_total_listings_count|neighbourhood_cleansed|latitude| longitude|property_type|      room_type|accommodates|bathrooms|bedrooms|beds|bed_type|minimum_nights|number_of_reviews|review_scores_rating|review_scores_accuracy|review_scores_cleanliness|review_scores_checkin|review_scores_communication|review_scores_location|review_scores_value|price|bedrooms_na|bathrooms_na|beds_na|review_scores_rating_na|review_scores_accuracy_na|review_scores_cleanliness_na|review_scores_checkin_na|review_scores_communication_na|review_scores_location_na|review_scores_value_na|\n",
      "+-----------------+--------------------+----------------+-------------------------+----------------------+--------+----------+-------------+---------------+------------+---------+--------+----+--------+--------------+-----------------+--------------------+----------------------+-------------------------+---------------------+---------------------------+----------------------+-------------------+-----+-----------+------------+-------+-----------------------+-------------------------+----------------------------+------------------------+------------------------------+-------------------------+----------------------+\n",
      "|                t|            moderate|               t|                      1.0|      Western Addition|37.76931|-122.43386|    Apartment|Entire home/apt|         3.0|      1.0|     1.0| 2.0|Real Bed|           1.0|            180.0|                97.0|                  10.0|                     10.0|                 10.0|                       10.0|                  10.0|               10.0|170.0|        0.0|         0.0|    0.0|                    0.0|                      0.0|                         0.0|                     0.0|                           0.0|                      0.0|                   0.0|\n",
      "|                f|strict_14_with_gr...|               f|                      2.0|        Bernal Heights|37.74511|-122.42102|    Apartment|Entire home/apt|         5.0|      1.0|     2.0| 3.0|Real Bed|          30.0|            111.0|                98.0|                  10.0|                     10.0|                 10.0|                       10.0|                  10.0|                9.0|235.0|        0.0|         0.0|    0.0|                    0.0|                      0.0|                         0.0|                     0.0|                           0.0|                      0.0|                   0.0|\n",
      "|                f|strict_14_with_gr...|               f|                     10.0|        Haight Ashbury|37.76669| -122.4525|    Apartment|   Private room|         2.0|      4.0|     1.0| 1.0|Real Bed|          32.0|             17.0|                85.0|                   8.0|                      8.0|                  9.0|                        9.0|                   9.0|                8.0| 65.0|        0.0|         0.0|    0.0|                    0.0|                      0.0|                         0.0|                     0.0|                           0.0|                      0.0|                   0.0|\n",
      "|                f|strict_14_with_gr...|               f|                     10.0|        Haight Ashbury|37.76487|-122.45183|    Apartment|   Private room|         2.0|      4.0|     1.0| 1.0|Real Bed|          32.0|              8.0|                93.0|                   9.0|                      9.0|                 10.0|                       10.0|                   9.0|                9.0| 65.0|        0.0|         0.0|    0.0|                    0.0|                      0.0|                         0.0|                     0.0|                           0.0|                      0.0|                   0.0|\n",
      "|                f|strict_14_with_gr...|               f|                      2.0|      Western Addition|37.77525|-122.43637|        House|Entire home/apt|         5.0|      1.5|     2.0| 2.0|Real Bed|           7.0|             27.0|                97.0|                  10.0|                     10.0|                 10.0|                       10.0|                  10.0|                9.0|785.0|        0.0|         0.0|    0.0|                    0.0|                      0.0|                         0.0|                     0.0|                           0.0|                      0.0|                   0.0|\n",
      "+-----------------+--------------------+----------------+-------------------------+----------------------+--------+----------+-------------+---------------+------------+---------+--------+----+--------+--------------+-----------------+--------------------+----------------------+-------------------------+---------------------+---------------------------+----------------------+-------------------+-----+-----------+------------+-------+-----------------------+-------------------------+----------------------------+------------------------+------------------------------+-------------------------+----------------------+\n",
      "only showing top 5 rows\n",
      "\n"
     ]
    }
   ],
   "source": [
    "# Show the entire DataFrame columns and the first 5 lines:\n",
    "airbnbDF.show(5)"
   ]
  },
  {
   "cell_type": "code",
   "execution_count": 6,
   "id": "1ab58f02",
   "metadata": {},
   "outputs": [
    {
     "name": "stdout",
     "output_type": "stream",
     "text": [
      "+----------------------+---------------+--------+---------+-----------------+-----+\n",
      "|neighbourhood_cleansed|      room_type|bedrooms|bathrooms|number_of_reviews|price|\n",
      "+----------------------+---------------+--------+---------+-----------------+-----+\n",
      "|      Western Addition|Entire home/apt|     1.0|      1.0|            180.0|170.0|\n",
      "|        Bernal Heights|Entire home/apt|     2.0|      1.0|            111.0|235.0|\n",
      "|        Haight Ashbury|   Private room|     1.0|      4.0|             17.0| 65.0|\n",
      "|        Haight Ashbury|   Private room|     1.0|      4.0|              8.0| 65.0|\n",
      "|      Western Addition|Entire home/apt|     2.0|      1.5|             27.0|785.0|\n",
      "+----------------------+---------------+--------+---------+-----------------+-----+\n",
      "only showing top 5 rows\n",
      "\n"
     ]
    }
   ],
   "source": [
    "# Show only a subset of columns:\n",
    "airbnbDF.select(\"neighbourhood_cleansed\", \"room_type\", \"bedrooms\", \"bathrooms\", \"number_of_reviews\", \"price\").show(5)\n"
   ]
  },
  {
   "cell_type": "code",
   "execution_count": 7,
   "id": "0d996740",
   "metadata": {},
   "outputs": [
    {
     "name": "stdout",
     "output_type": "stream",
     "text": [
      "root\n",
      " |-- host_is_superhost: string (nullable = true)\n",
      " |-- cancellation_policy: string (nullable = true)\n",
      " |-- instant_bookable: string (nullable = true)\n",
      " |-- host_total_listings_count: double (nullable = true)\n",
      " |-- neighbourhood_cleansed: string (nullable = true)\n",
      " |-- latitude: double (nullable = true)\n",
      " |-- longitude: double (nullable = true)\n",
      " |-- property_type: string (nullable = true)\n",
      " |-- room_type: string (nullable = true)\n",
      " |-- accommodates: double (nullable = true)\n",
      " |-- bathrooms: double (nullable = true)\n",
      " |-- bedrooms: double (nullable = true)\n",
      " |-- beds: double (nullable = true)\n",
      " |-- bed_type: string (nullable = true)\n",
      " |-- minimum_nights: double (nullable = true)\n",
      " |-- number_of_reviews: double (nullable = true)\n",
      " |-- review_scores_rating: double (nullable = true)\n",
      " |-- review_scores_accuracy: double (nullable = true)\n",
      " |-- review_scores_cleanliness: double (nullable = true)\n",
      " |-- review_scores_checkin: double (nullable = true)\n",
      " |-- review_scores_communication: double (nullable = true)\n",
      " |-- review_scores_location: double (nullable = true)\n",
      " |-- review_scores_value: double (nullable = true)\n",
      " |-- price: double (nullable = true)\n",
      " |-- bedrooms_na: double (nullable = true)\n",
      " |-- bathrooms_na: double (nullable = true)\n",
      " |-- beds_na: double (nullable = true)\n",
      " |-- review_scores_rating_na: double (nullable = true)\n",
      " |-- review_scores_accuracy_na: double (nullable = true)\n",
      " |-- review_scores_cleanliness_na: double (nullable = true)\n",
      " |-- review_scores_checkin_na: double (nullable = true)\n",
      " |-- review_scores_communication_na: double (nullable = true)\n",
      " |-- review_scores_location_na: double (nullable = true)\n",
      " |-- review_scores_value_na: double (nullable = true)\n",
      "\n"
     ]
    }
   ],
   "source": [
    "# Show the schema of the DataFrame:\n",
    "airbnbDF.printSchema()"
   ]
  },
  {
   "cell_type": "code",
   "execution_count": 8,
   "id": "c9b404a7",
   "metadata": {},
   "outputs": [
    {
     "data": {
      "text/plain": [
       "7146"
      ]
     },
     "execution_count": 8,
     "metadata": {},
     "output_type": "execute_result"
    }
   ],
   "source": [
    "# Show the number of rows of the DataFrame:\n",
    "airbnbDF.count()"
   ]
  },
  {
   "cell_type": "markdown",
   "id": "3c9f431a",
   "metadata": {},
   "source": [
    "# Creating Training and Test Data Sets\n",
    "Page 291"
   ]
  },
  {
   "cell_type": "code",
   "execution_count": 9,
   "id": "3f3f452f",
   "metadata": {},
   "outputs": [
    {
     "name": "stdout",
     "output_type": "stream",
     "text": [
      "There are $5780 rows in the training set, and $1366 rows in the test set.\n"
     ]
    }
   ],
   "source": [
    "trainDF, testDF = airbnbDF.randomSplit([0.8, 0.2], seed=42)\n",
    "\n",
    "print (f\"There are ${trainDF.count()} rows in the training set, and ${testDF.count()} rows in the test set.\")\n"
   ]
  },
  {
   "cell_type": "markdown",
   "id": "d9efa8aa",
   "metadata": {},
   "source": [
    "# Preparing the Features with Transformers\n",
    "Page 293"
   ]
  },
  {
   "cell_type": "code",
   "execution_count": 46,
   "id": "e22f4936",
   "metadata": {},
   "outputs": [],
   "source": [
    "vecAssembler = VectorAssembler(inputCols=[\"bedrooms\"], outputCol=\"features\")\n",
    "vecTrainDF   = vecAssembler.transform(trainDF)\n"
   ]
  },
  {
   "cell_type": "code",
   "execution_count": 11,
   "id": "fad3dbd8",
   "metadata": {},
   "outputs": [
    {
     "name": "stdout",
     "output_type": "stream",
     "text": [
      "+-----------------+-------------------+----------------+-------------------------+----------------------+--------+----------+-------------+---------------+------------+---------+--------+----+-------------+--------------+-----------------+--------------------+----------------------+-------------------------+---------------------+---------------------------+----------------------+-------------------+-----+-----------+------------+-------+-----------------------+-------------------------+----------------------------+------------------------+------------------------------+-------------------------+----------------------+--------+\n",
      "|host_is_superhost|cancellation_policy|instant_bookable|host_total_listings_count|neighbourhood_cleansed|latitude| longitude|property_type|      room_type|accommodates|bathrooms|bedrooms|beds|     bed_type|minimum_nights|number_of_reviews|review_scores_rating|review_scores_accuracy|review_scores_cleanliness|review_scores_checkin|review_scores_communication|review_scores_location|review_scores_value|price|bedrooms_na|bathrooms_na|beds_na|review_scores_rating_na|review_scores_accuracy_na|review_scores_cleanliness_na|review_scores_checkin_na|review_scores_communication_na|review_scores_location_na|review_scores_value_na|features|\n",
      "+-----------------+-------------------+----------------+-------------------------+----------------------+--------+----------+-------------+---------------+------------+---------+--------+----+-------------+--------------+-----------------+--------------------+----------------------+-------------------------+---------------------+---------------------------+----------------------+-------------------+-----+-----------+------------+-------+-----------------------+-------------------------+----------------------------+------------------------+------------------------------+-------------------------+----------------------+--------+\n",
      "|                f|           flexible|               f|                      0.0|       Diamond Heights| 37.7431|-122.44509|        House|   Private room|         2.0|      1.0|     1.0| 1.0|     Real Bed|           1.0|              1.0|               100.0|                  10.0|                     10.0|                 10.0|                       10.0|                  10.0|               10.0|200.0|        0.0|         0.0|    0.0|                    0.0|                      0.0|                         0.0|                     0.0|                           0.0|                      0.0|                   0.0|   [1.0]|\n",
      "|                f|           flexible|               f|                      1.0|               Bayview|37.71178|-122.38762|    Apartment|Entire home/apt|         3.0|      1.0|     1.0| 1.0|     Real Bed|          90.0|             13.0|                88.0|                  10.0|                      9.0|                  8.0|                        9.0|                  10.0|               10.0|130.0|        0.0|         0.0|    0.0|                    0.0|                      0.0|                         0.0|                     0.0|                           0.0|                      0.0|                   0.0|   [1.0]|\n",
      "|                f|           flexible|               f|                      1.0|               Bayview|37.72241|-122.39829|  Guest suite|Entire home/apt|         4.0|      1.0|     1.0| 3.0|     Real Bed|           1.0|             12.0|                98.0|                  10.0|                     10.0|                 10.0|                       10.0|                   9.0|               10.0| 95.0|        0.0|         0.0|    0.0|                    0.0|                      0.0|                         0.0|                     0.0|                           0.0|                      0.0|                   0.0|   [1.0]|\n",
      "|                f|           flexible|               f|                      1.0|               Bayview|37.72979|-122.37094|    Apartment|Entire home/apt|         2.0|      1.0|     1.0| 1.0|     Real Bed|         180.0|              1.0|               100.0|                  10.0|                     10.0|                 10.0|                       10.0|                  10.0|               10.0|250.0|        0.0|         0.0|    0.0|                    0.0|                      0.0|                         0.0|                     0.0|                           0.0|                      0.0|                   0.0|   [1.0]|\n",
      "|                f|           flexible|               f|                      1.0|               Bayview|37.73072|-122.38907|        House|Entire home/apt|         6.0|      3.0|     3.0| 3.0|     Real Bed|          30.0|              0.0|                98.0|                  10.0|                     10.0|                 10.0|                       10.0|                  10.0|               10.0|250.0|        0.0|         0.0|    0.0|                    1.0|                      1.0|                         1.0|                     1.0|                           1.0|                      1.0|                   1.0|   [3.0]|\n",
      "|                f|           flexible|               f|                      1.0|               Bayview| 37.7352|-122.38566|        House|   Private room|         2.0|      1.0|     1.0| 1.0|     Real Bed|           2.0|            100.0|                96.0|                  10.0|                      9.0|                 10.0|                       10.0|                   9.0|               10.0|115.0|        0.0|         0.0|    0.0|                    0.0|                      0.0|                         0.0|                     0.0|                           0.0|                      0.0|                   0.0|   [1.0]|\n",
      "|                f|           flexible|               f|                      1.0|        Bernal Heights| 37.7326|-122.41423|  Condominium|   Private room|         2.0|      1.5|     1.0| 1.0|     Real Bed|           2.0|             36.0|                96.0|                  10.0|                     10.0|                 10.0|                       10.0|                  10.0|               10.0|105.0|        0.0|         0.0|    0.0|                    0.0|                      0.0|                         0.0|                     0.0|                           0.0|                      0.0|                   0.0|   [1.0]|\n",
      "|                f|           flexible|               f|                      1.0|        Bernal Heights|37.73615|-122.41245|        House|   Private room|         2.0|      1.0|     1.0| 2.0|     Real Bed|           1.0|            194.0|                91.0|                   9.0|                      9.0|                 10.0|                       10.0|                   9.0|                9.0| 86.0|        0.0|         0.0|    0.0|                    0.0|                      0.0|                         0.0|                     0.0|                           0.0|                      0.0|                   0.0|   [1.0]|\n",
      "|                f|           flexible|               f|                      1.0|        Bernal Heights|37.73765|-122.41247|    Apartment|Entire home/apt|         4.0|      1.0|     1.0| 2.0|     Real Bed|           2.0|              4.0|                95.0|                  10.0|                     10.0|                 10.0|                        9.0|                   9.0|               10.0|100.0|        0.0|         0.0|    0.0|                    0.0|                      0.0|                         0.0|                     0.0|                           0.0|                      0.0|                   0.0|   [1.0]|\n",
      "|                f|           flexible|               f|                      1.0|        Bernal Heights|37.73826|-122.41693|        House|Entire home/apt|         4.0|      1.0|     2.0| 2.0|     Real Bed|           4.0|              2.0|               100.0|                  10.0|                     10.0|                 10.0|                       10.0|                  10.0|               10.0|220.0|        0.0|         0.0|    0.0|                    0.0|                      0.0|                         0.0|                     0.0|                           0.0|                      0.0|                   0.0|   [2.0]|\n",
      "|                f|           flexible|               f|                      1.0|        Bernal Heights|37.73994|-122.41502|  Guest suite|Entire home/apt|         3.0|      1.0|     1.0| 2.0|     Real Bed|          30.0|              2.0|               100.0|                  10.0|                      9.0|                 10.0|                       10.0|                  10.0|               10.0|110.0|        0.0|         0.0|    0.0|                    0.0|                      0.0|                         0.0|                     0.0|                           0.0|                      0.0|                   0.0|   [1.0]|\n",
      "|                f|           flexible|               f|                      1.0|        Bernal Heights| 37.7418|-122.41674|        House|   Private room|         3.0|      1.0|     1.0| 1.0|     Real Bed|           2.0|              5.0|               100.0|                  10.0|                     10.0|                 10.0|                       10.0|                  10.0|               10.0|130.0|        0.0|         0.0|    0.0|                    0.0|                      0.0|                         0.0|                     0.0|                           0.0|                      0.0|                   0.0|   [1.0]|\n",
      "|                f|           flexible|               f|                      1.0|        Bernal Heights|37.74191|-122.40843|        House|   Private room|         2.0|      1.0|     1.0| 1.0|     Real Bed|           1.0|              1.0|               100.0|                  10.0|                     10.0|                 10.0|                       10.0|                  10.0|               10.0|250.0|        0.0|         0.0|    0.0|                    0.0|                      0.0|                         0.0|                     0.0|                           0.0|                      0.0|                   0.0|   [1.0]|\n",
      "|                f|           flexible|               f|                      1.0|        Bernal Heights| 37.7422|-122.42091|  Guest suite|   Private room|         4.0|      1.0|     1.0| 3.0|     Real Bed|           3.0|             49.0|                95.0|                  10.0|                     10.0|                 10.0|                       10.0|                  10.0|                9.0|100.0|        0.0|         0.0|    0.0|                    0.0|                      0.0|                         0.0|                     0.0|                           0.0|                      0.0|                   0.0|   [1.0]|\n",
      "|                f|           flexible|               f|                      1.0|        Bernal Heights|37.74387|-122.42338|    Apartment|Entire home/apt|         4.0|      2.0|     3.0| 2.0|     Real Bed|          30.0|             10.0|                98.0|                  10.0|                     10.0|                 10.0|                       10.0|                  10.0|               10.0|350.0|        0.0|         0.0|    0.0|                    0.0|                      0.0|                         0.0|                     0.0|                           0.0|                      0.0|                   0.0|   [3.0]|\n",
      "|                f|           flexible|               f|                      1.0|        Bernal Heights|37.74494|-122.41034|        House|Entire home/apt|         4.0|      2.0|     2.0| 2.0|Pull-out Sofa|          30.0|              0.0|                98.0|                  10.0|                     10.0|                 10.0|                       10.0|                  10.0|               10.0|200.0|        0.0|         0.0|    0.0|                    1.0|                      1.0|                         1.0|                     1.0|                           1.0|                      1.0|                   1.0|   [2.0]|\n",
      "|                f|           flexible|               f|                      1.0|        Bernal Heights|37.74552|-122.41195|    Apartment|Entire home/apt|         2.0|      2.0|     1.0| 1.0|     Real Bed|           2.0|              4.0|               100.0|                  10.0|                     10.0|                 10.0|                       10.0|                  10.0|               10.0|250.0|        0.0|         0.0|    0.0|                    0.0|                      0.0|                         0.0|                     0.0|                           0.0|                      0.0|                   0.0|   [1.0]|\n",
      "|                f|           flexible|               f|                      1.0|        Bernal Heights|37.74605|-122.42209|  Guest suite|Entire home/apt|         4.0|      1.0|     2.0| 3.0|     Real Bed|           2.0|              0.0|                98.0|                  10.0|                     10.0|                 10.0|                       10.0|                  10.0|               10.0|299.0|        0.0|         0.0|    0.0|                    1.0|                      1.0|                         1.0|                     1.0|                           1.0|                      1.0|                   1.0|   [2.0]|\n",
      "|                f|           flexible|               f|                      1.0|   Castro/Upper Market|  37.758|-122.42991|  Condominium|   Private room|         2.0|      1.5|     1.0| 1.0|     Real Bed|           2.0|             27.0|               100.0|                  10.0|                     10.0|                 10.0|                       10.0|                  10.0|               10.0| 95.0|        0.0|         0.0|    0.0|                    0.0|                      0.0|                         0.0|                     0.0|                           0.0|                      0.0|                   0.0|   [1.0]|\n",
      "|                f|           flexible|               f|                      1.0|   Castro/Upper Market|37.75881|-122.44118|        House|Entire home/apt|         5.0|      2.5|     3.0| 3.0|     Real Bed|           2.0|              7.0|               100.0|                  10.0|                     10.0|                 10.0|                       10.0|                  10.0|               10.0|500.0|        0.0|         0.0|    0.0|                    0.0|                      0.0|                         0.0|                     0.0|                           0.0|                      0.0|                   0.0|   [3.0]|\n",
      "+-----------------+-------------------+----------------+-------------------------+----------------------+--------+----------+-------------+---------------+------------+---------+--------+----+-------------+--------------+-----------------+--------------------+----------------------+-------------------------+---------------------+---------------------------+----------------------+-------------------+-----+-----------+------------+-------+-----------------------+-------------------------+----------------------------+------------------------+------------------------------+-------------------------+----------------------+--------+\n",
      "only showing top 20 rows\n",
      "\n"
     ]
    }
   ],
   "source": [
    "vecTrainDF.show()"
   ]
  },
  {
   "cell_type": "code",
   "execution_count": 47,
   "id": "f5a7f23d",
   "metadata": {},
   "outputs": [
    {
     "name": "stdout",
     "output_type": "stream",
     "text": [
      "+--------+--------+-----+\n",
      "|bedrooms|features|price|\n",
      "+--------+--------+-----+\n",
      "|     1.0|   [1.0]|200.0|\n",
      "|     1.0|   [1.0]|130.0|\n",
      "|     1.0|   [1.0]| 95.0|\n",
      "|     1.0|   [1.0]|250.0|\n",
      "|     3.0|   [3.0]|250.0|\n",
      "|     1.0|   [1.0]|115.0|\n",
      "|     1.0|   [1.0]|105.0|\n",
      "|     1.0|   [1.0]| 86.0|\n",
      "|     1.0|   [1.0]|100.0|\n",
      "|     2.0|   [2.0]|220.0|\n",
      "+--------+--------+-----+\n",
      "only showing top 10 rows\n",
      "\n"
     ]
    }
   ],
   "source": [
    "vecTrainDF.select(\"bedrooms\", \"features\", \"price\").show(10)"
   ]
  },
  {
   "cell_type": "markdown",
   "id": "9ee81d07",
   "metadata": {},
   "source": [
    "# Building a Model with an Estimator\n",
    "Page 295"
   ]
  },
  {
   "cell_type": "code",
   "execution_count": 48,
   "id": "f1a58b2e",
   "metadata": {},
   "outputs": [],
   "source": [
    "lr      = LinearRegression(featuresCol=\"features\", labelCol=\"price\")\n",
    "lrModel = lr.fit(vecTrainDF)\n"
   ]
  },
  {
   "cell_type": "markdown",
   "id": "b5914167",
   "metadata": {},
   "source": [
    "### Inspecting the Learned Linear Regression Model"
   ]
  },
  {
   "cell_type": "code",
   "execution_count": 49,
   "id": "aed67269",
   "metadata": {},
   "outputs": [
    {
     "name": "stdout",
     "output_type": "stream",
     "text": [
      "The formular for the linear regression line is:\n",
      "price = 123.68 * bedrooms + 47.51\n"
     ]
    }
   ],
   "source": [
    "m = np.round(lrModel.coefficients[0], 2)\n",
    "b = np.round(lrModel.intercept, 2)\n",
    "print(f\"\"\"The formular for the linear regression line is:\n",
    "price = {m} * bedrooms + {b}\"\"\")\n"
   ]
  },
  {
   "cell_type": "markdown",
   "id": "8458a515",
   "metadata": {},
   "source": [
    "# Creating a Pipeline\n",
    "Page 296"
   ]
  },
  {
   "cell_type": "code",
   "execution_count": 50,
   "id": "e1c78b7e",
   "metadata": {},
   "outputs": [],
   "source": [
    "pipeline      = Pipeline (stages=[vecAssembler, lr])\n",
    "pipelineModel = pipeline.fit(trainDF)\n"
   ]
  },
  {
   "cell_type": "markdown",
   "id": "4826fa14",
   "metadata": {},
   "source": [
    "### Apply the learned Pipeline to our test data"
   ]
  },
  {
   "cell_type": "code",
   "execution_count": 51,
   "id": "ba59f9a4",
   "metadata": {},
   "outputs": [],
   "source": [
    "predDF = pipelineModel.transform(testDF)\n"
   ]
  },
  {
   "cell_type": "code",
   "execution_count": 52,
   "id": "08d71b4a",
   "metadata": {},
   "outputs": [
    {
     "name": "stdout",
     "output_type": "stream",
     "text": [
      "+--------+--------+------+------------------+\n",
      "|bedrooms|features| price|        prediction|\n",
      "+--------+--------+------+------------------+\n",
      "|     1.0|   [1.0]|  85.0|171.18598011578285|\n",
      "|     1.0|   [1.0]|  45.0|171.18598011578285|\n",
      "|     1.0|   [1.0]|  70.0|171.18598011578285|\n",
      "|     1.0|   [1.0]| 128.0|171.18598011578285|\n",
      "|     1.0|   [1.0]| 159.0|171.18598011578285|\n",
      "|     2.0|   [2.0]| 250.0|294.86172649777757|\n",
      "|     1.0|   [1.0]|  99.0|171.18598011578285|\n",
      "|     1.0|   [1.0]|  95.0|171.18598011578285|\n",
      "|     1.0|   [1.0]| 100.0|171.18598011578285|\n",
      "|     1.0|   [1.0]|2010.0|171.18598011578285|\n",
      "+--------+--------+------+------------------+\n",
      "only showing top 10 rows\n",
      "\n"
     ]
    }
   ],
   "source": [
    "predDF.select(\"bedrooms\", \"features\", \"price\", \"prediction\").show(10)\n"
   ]
  },
  {
   "cell_type": "markdown",
   "id": "04e41e39",
   "metadata": {},
   "source": [
    "# One-Hot Encoding\n",
    "Page 297"
   ]
  },
  {
   "cell_type": "markdown",
   "id": "acd1dd0c",
   "metadata": {},
   "source": [
    "### Feature Engineering    \n",
    "Convert categorical features into One-Hot Encoding features and add all double values to the feature vectors.\n"
   ]
  },
  {
   "cell_type": "code",
   "execution_count": 27,
   "id": "ab7538fd",
   "metadata": {},
   "outputs": [],
   "source": [
    "from pyspark.ml.feature import OneHotEncoder, StringIndexer"
   ]
  },
  {
   "cell_type": "code",
   "execution_count": 28,
   "id": "5337172c",
   "metadata": {},
   "outputs": [],
   "source": [
    "categoricalCols = [field for (field, dataType) in trainDF.dtypes if dataType == \"string\"]\n",
    "indexOutputCols = [x + \"Index\" for x in categoricalCols]\n",
    "oheOutputCols   = [x + \"OHE\"   for x in categoricalCols]\n"
   ]
  },
  {
   "cell_type": "code",
   "execution_count": 29,
   "id": "288d0dfe",
   "metadata": {},
   "outputs": [],
   "source": [
    "stringIndexer = StringIndexer(inputCols = categoricalCols,\n",
    "                             outputCols = indexOutputCols,\n",
    "                             handleInvalid=\"skip\")\n",
    "oheEncoder    = OneHotEncoder(inputCols = indexOutputCols,\n",
    "                             outputCols = oheOutputCols)\n"
   ]
  },
  {
   "cell_type": "code",
   "execution_count": 32,
   "id": "1f1e6221",
   "metadata": {},
   "outputs": [],
   "source": [
    "numericCols = [field for (field, dataType) in trainDF.dtypes\n",
    "                if ((dataType == \"double\") & (field != \"price\"))]\n"
   ]
  },
  {
   "cell_type": "code",
   "execution_count": 33,
   "id": "9835c098",
   "metadata": {},
   "outputs": [],
   "source": [
    "assemblerInputs = oheOutputCols + numericCols\n"
   ]
  },
  {
   "cell_type": "code",
   "execution_count": 34,
   "id": "a54bad76",
   "metadata": {},
   "outputs": [],
   "source": [
    "vecAssembler = VectorAssembler(inputCols=assemblerInputs, outputCol=\"features\")"
   ]
  },
  {
   "cell_type": "code",
   "execution_count": 35,
   "id": "5e06731a",
   "metadata": {},
   "outputs": [],
   "source": [
    "# The above lines could be replaced by:\n",
    "# from pyspark.ml.feature import RFormula\n",
    "# rFormula = RFormula(formula=\"price ~ .\", featuresCol=\"features\", handleInvalid=\"skip\")\n"
   ]
  },
  {
   "cell_type": "markdown",
   "id": "39253951",
   "metadata": {},
   "source": [
    "### Create a Linear Regression Model and a Training and Evaluation Pipeline\n",
    "Page 301"
   ]
  },
  {
   "cell_type": "code",
   "execution_count": 37,
   "id": "970ff22a",
   "metadata": {},
   "outputs": [],
   "source": [
    "lr = LinearRegression(labelCol=\"price\", featuresCol=\"features\")\n",
    "pipeline = Pipeline(stages = [stringIndexer, oheEncoder, vecAssembler, lr])\n",
    "\n",
    "# Or if you use the RFormula:\n",
    "# pipeline = Pipeline(stage = [rFormula, lr])\n"
   ]
  },
  {
   "cell_type": "code",
   "execution_count": 38,
   "id": "00fcbb01",
   "metadata": {},
   "outputs": [],
   "source": [
    "pipelineModel = pipeline.fit(trainDF)\n"
   ]
  },
  {
   "cell_type": "code",
   "execution_count": 39,
   "id": "09c7b335",
   "metadata": {},
   "outputs": [],
   "source": [
    "predDF = pipelineModel.transform(testDF)"
   ]
  },
  {
   "cell_type": "code",
   "execution_count": 40,
   "id": "b17225e7",
   "metadata": {},
   "outputs": [
    {
     "name": "stdout",
     "output_type": "stream",
     "text": [
      "+--------------------+-----+------------------+\n",
      "|            features|price|        prediction|\n",
      "+--------------------+-----+------------------+\n",
      "|(98,[0,3,6,22,43,...| 85.0| 55.24365707389188|\n",
      "|(98,[0,3,6,22,43,...| 45.0|23.357685914717877|\n",
      "|(98,[0,3,6,22,43,...| 70.0|28.474464479034395|\n",
      "|(98,[0,3,6,12,42,...|128.0| -91.6079079594947|\n",
      "|(98,[0,3,6,12,43,...|159.0| 95.05688229945372|\n",
      "+--------------------+-----+------------------+\n",
      "only showing top 5 rows\n",
      "\n"
     ]
    }
   ],
   "source": [
    "predDF.select(\"features\", \"price\", \"prediction\").show(5)"
   ]
  },
  {
   "cell_type": "markdown",
   "id": "481ed03a",
   "metadata": {},
   "source": [
    "# Evaluating the Model with Root Mean Square Error (RMSE)\n",
    "Page 302"
   ]
  },
  {
   "cell_type": "code",
   "execution_count": 53,
   "id": "dd976832",
   "metadata": {},
   "outputs": [
    {
     "name": "stdout",
     "output_type": "stream",
     "text": [
      "RMSE is 221.6\n"
     ]
    }
   ],
   "source": [
    "from pyspark.ml.evaluation import RegressionEvaluator\n",
    "\n",
    "regressionEvaluator = RegressionEvaluator (\n",
    "    predictionCol = \"prediction\",\n",
    "    labelCol      = \"price\",\n",
    "    metricName    = \"rmse\")\n",
    "\n",
    "rmse = regressionEvaluator.evaluate(predDF)\n",
    "print (f\"RMSE is {rmse:.1f}\")\n"
   ]
  },
  {
   "cell_type": "markdown",
   "id": "99ae621a",
   "metadata": {},
   "source": [
    "# Calculate the Average Price as a Baseline"
   ]
  },
  {
   "cell_type": "code",
   "execution_count": 59,
   "id": "b0da9e37",
   "metadata": {},
   "outputs": [
    {
     "name": "stdout",
     "output_type": "stream",
     "text": [
      "+------------------+\n",
      "|        avg(price)|\n",
      "+------------------+\n",
      "|214.47249134948098|\n",
      "+------------------+\n",
      "\n"
     ]
    }
   ],
   "source": [
    "\n",
    "aveDF = trainDF.select(avg(\"price\"))\n",
    "aveDF.show()\n"
   ]
  },
  {
   "cell_type": "code",
   "execution_count": 67,
   "id": "982f9421",
   "metadata": {},
   "outputs": [
    {
     "name": "stdout",
     "output_type": "stream",
     "text": [
      "214.47249134948098\n"
     ]
    }
   ],
   "source": [
    "average = aveDF.collect()[0][0]\n",
    "print (average)"
   ]
  },
  {
   "cell_type": "code",
   "execution_count": 73,
   "id": "78ff8db3",
   "metadata": {},
   "outputs": [],
   "source": [
    "from pyspark.sql.functions import lit\n",
    "\n",
    "testDF = testDF.withColumn('average_price', lit(average))\n"
   ]
  },
  {
   "cell_type": "code",
   "execution_count": 74,
   "id": "0215f314",
   "metadata": {},
   "outputs": [
    {
     "name": "stdout",
     "output_type": "stream",
     "text": [
      "+-----+------------------+\n",
      "|price|     average_price|\n",
      "+-----+------------------+\n",
      "| 85.0|214.47249134948098|\n",
      "| 45.0|214.47249134948098|\n",
      "| 70.0|214.47249134948098|\n",
      "|128.0|214.47249134948098|\n",
      "|159.0|214.47249134948098|\n",
      "+-----+------------------+\n",
      "only showing top 5 rows\n",
      "\n"
     ]
    }
   ],
   "source": [
    "testDF.select(\"price\", \"average_price\").show(5)"
   ]
  },
  {
   "cell_type": "code",
   "execution_count": 75,
   "id": "2026d22f",
   "metadata": {},
   "outputs": [
    {
     "name": "stdout",
     "output_type": "stream",
     "text": [
      "RMSE is 240.7\n"
     ]
    }
   ],
   "source": [
    "regressionEvaluator = RegressionEvaluator (\n",
    "    predictionCol = \"average_price\",\n",
    "    labelCol      = \"price\",\n",
    "    metricName    = \"rmse\")\n",
    "\n",
    "rmse = regressionEvaluator.evaluate(testDF)\n",
    "print (f\"RMSE is {rmse:.1f}\")\n"
   ]
  },
  {
   "cell_type": "code",
   "execution_count": null,
   "id": "2ef0b33d",
   "metadata": {},
   "outputs": [],
   "source": []
  }
 ],
 "metadata": {
  "kernelspec": {
   "display_name": "Python 3",
   "language": "python",
   "name": "python3"
  },
  "language_info": {
   "codemirror_mode": {
    "name": "ipython",
    "version": 3
   },
   "file_extension": ".py",
   "mimetype": "text/x-python",
   "name": "python",
   "nbconvert_exporter": "python",
   "pygments_lexer": "ipython3",
   "version": "3.8.8"
  }
 },
 "nbformat": 4,
 "nbformat_minor": 5
}
