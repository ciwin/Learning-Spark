{
 "cells": [
  {
   "cell_type": "markdown",
   "metadata": {},
   "source": [
    "# IoT Data\n",
    "\n",
    "Chapter 3 also contains an end-to-end example with IoT data. Unfortunately, this example is not available in the GitHub repo of the book. So we defining some own examples here.\n",
    "\n",
    "Also the data is not avaiable on the GitHub page. The data can be created with the notebook `chapter_03_create_IoT-data.ipynb` in our repo. The data can also be found in the directory `data`.\n",
    "\n",
    "An interesting Databricks notebook with similar data and experiments can be found [here](https://databricks-prod-cloudfront.cloud.databricks.com/public/4027ec902e239c93eaaa8714f173bcfc/8599738367597028/2201444230243664/3601578643761083/latest.html).\n",
    "\n",
    "*Christoph Windheuser - April 11, 2022*"
   ]
  },
  {
   "cell_type": "code",
   "execution_count": 25,
   "metadata": {},
   "outputs": [
    {
     "ename": "ValueError",
     "evalue": "Cannot run multiple SparkContexts at once; existing SparkContext(app=chapter_3, master=local[*]) created by __init__ at <ipython-input-3-a8f18e26ff71>:12 ",
     "output_type": "error",
     "traceback": [
      "\u001b[0;31m---------------------------------------------------------------------------\u001b[0m",
      "\u001b[0;31mValueError\u001b[0m                                Traceback (most recent call last)",
      "\u001b[0;32m<ipython-input-25-8d4e75aa02a5>\u001b[0m in \u001b[0;36m<module>\u001b[0;34m\u001b[0m\n\u001b[1;32m     10\u001b[0m \u001b[0;31m# Connect Jupyter Notebook with the Spark application and create Spark Context\u001b[0m\u001b[0;34m\u001b[0m\u001b[0;34m\u001b[0m\u001b[0;34m\u001b[0m\u001b[0m\n\u001b[1;32m     11\u001b[0m \u001b[0mfindspark\u001b[0m\u001b[0;34m.\u001b[0m\u001b[0minit\u001b[0m\u001b[0;34m(\u001b[0m\u001b[0;34m)\u001b[0m\u001b[0;34m\u001b[0m\u001b[0;34m\u001b[0m\u001b[0m\n\u001b[0;32m---> 12\u001b[0;31m \u001b[0msc\u001b[0m \u001b[0;34m=\u001b[0m \u001b[0mpyspark\u001b[0m\u001b[0;34m.\u001b[0m\u001b[0mSparkContext\u001b[0m\u001b[0;34m(\u001b[0m\u001b[0mappName\u001b[0m\u001b[0;34m=\u001b[0m\u001b[0;34m\"chapter_3\"\u001b[0m\u001b[0;34m)\u001b[0m\u001b[0;34m\u001b[0m\u001b[0;34m\u001b[0m\u001b[0m\n\u001b[0m\u001b[1;32m     13\u001b[0m \u001b[0;34m\u001b[0m\u001b[0m\n\u001b[1;32m     14\u001b[0m \u001b[0;31m#create a SparkSession\u001b[0m\u001b[0;34m\u001b[0m\u001b[0;34m\u001b[0m\u001b[0;34m\u001b[0m\u001b[0m\n",
      "\u001b[0;32m~/anaconda3/lib/python3.8/site-packages/pyspark/context.py\u001b[0m in \u001b[0;36m__init__\u001b[0;34m(self, master, appName, sparkHome, pyFiles, environment, batchSize, serializer, conf, gateway, jsc, profiler_cls)\u001b[0m\n\u001b[1;32m    142\u001b[0m                 \" is not allowed as it is a security risk.\")\n\u001b[1;32m    143\u001b[0m \u001b[0;34m\u001b[0m\u001b[0m\n\u001b[0;32m--> 144\u001b[0;31m         \u001b[0mSparkContext\u001b[0m\u001b[0;34m.\u001b[0m\u001b[0m_ensure_initialized\u001b[0m\u001b[0;34m(\u001b[0m\u001b[0mself\u001b[0m\u001b[0;34m,\u001b[0m \u001b[0mgateway\u001b[0m\u001b[0;34m=\u001b[0m\u001b[0mgateway\u001b[0m\u001b[0;34m,\u001b[0m \u001b[0mconf\u001b[0m\u001b[0;34m=\u001b[0m\u001b[0mconf\u001b[0m\u001b[0;34m)\u001b[0m\u001b[0;34m\u001b[0m\u001b[0;34m\u001b[0m\u001b[0m\n\u001b[0m\u001b[1;32m    145\u001b[0m         \u001b[0;32mtry\u001b[0m\u001b[0;34m:\u001b[0m\u001b[0;34m\u001b[0m\u001b[0;34m\u001b[0m\u001b[0m\n\u001b[1;32m    146\u001b[0m             self._do_init(master, appName, sparkHome, pyFiles, environment, batchSize, serializer,\n",
      "\u001b[0;32m~/anaconda3/lib/python3.8/site-packages/pyspark/context.py\u001b[0m in \u001b[0;36m_ensure_initialized\u001b[0;34m(cls, instance, gateway, conf)\u001b[0m\n\u001b[1;32m    348\u001b[0m \u001b[0;34m\u001b[0m\u001b[0m\n\u001b[1;32m    349\u001b[0m                     \u001b[0;31m# Raise error if there is already a running Spark context\u001b[0m\u001b[0;34m\u001b[0m\u001b[0;34m\u001b[0m\u001b[0;34m\u001b[0m\u001b[0m\n\u001b[0;32m--> 350\u001b[0;31m                     raise ValueError(\n\u001b[0m\u001b[1;32m    351\u001b[0m                         \u001b[0;34m\"Cannot run multiple SparkContexts at once; \"\u001b[0m\u001b[0;34m\u001b[0m\u001b[0;34m\u001b[0m\u001b[0m\n\u001b[1;32m    352\u001b[0m                         \u001b[0;34m\"existing SparkContext(app=%s, master=%s)\"\u001b[0m\u001b[0;34m\u001b[0m\u001b[0;34m\u001b[0m\u001b[0m\n",
      "\u001b[0;31mValueError\u001b[0m: Cannot run multiple SparkContexts at once; existing SparkContext(app=chapter_3, master=local[*]) created by __init__ at <ipython-input-3-a8f18e26ff71>:12 "
     ]
    }
   ],
   "source": [
    "# Import required python spark libraries\n",
    "import findspark\n",
    "import pyspark\n",
    "\n",
    "from pyspark.sql.types import *\n",
    "from pyspark.sql.functions import *\n",
    "from pyspark.sql import SparkSession\n",
    "from pyspark.sql import Row\n",
    "\n",
    "# Connect Jupyter Notebook with the Spark application and create Spark Context\n",
    "findspark.init()\n",
    "sc = pyspark.SparkContext(appName=\"chapter_3\")\n",
    "\n",
    "#create a SparkSession\n",
    "spark = (SparkSession\n",
    "       .builder\n",
    "       .appName(\"Example_chapt_03\")\n",
    "       .getOrCreate())\n"
   ]
  },
  {
   "cell_type": "markdown",
   "metadata": {},
   "source": [
    "Checking the data in the `data` directory:"
   ]
  },
  {
   "cell_type": "code",
   "execution_count": 1,
   "metadata": {},
   "outputs": [
    {
     "name": "stdout",
     "output_type": "stream",
     "text": [
      "{\"device_id\": 1, \"device_name\": \"meter-gauge-1HGVsyUwYig\", \"humidity\": 33, \"ip\": \"202.67.93.34\", \"lat\": 65, \"long\": 81, \"scale\": \"Celius\", \"temp\": 28, \"timestamp\": \"1649692100.0120409\", \"zipcode\": 96132}\r\n",
      "{\"device_id\": 2, \"device_name\": \"sensor-pad-2JRBkwxFk2T\", \"humidity\": 31, \"ip\": \"149.5.43.88\", \"lat\": 96, \"long\": 75, \"scale\": \"Celius\", \"temp\": 12, \"timestamp\": \"1649692100.0121286\", \"zipcode\": 95521}\r\n",
      "{\"device_id\": 3, \"device_name\": \"device-mac-34laB6pMWAt\", \"humidity\": 50, \"ip\": \"124.59.42.6\", \"lat\": 22, \"long\": 25, \"scale\": \"Celius\", \"temp\": 27, \"timestamp\": \"1649692100.0121949\", \"zipcode\": 96935}\r\n",
      "{\"device_id\": 4, \"device_name\": \"sensor-pad-4WVBUDpLFYG\", \"humidity\": 35, \"ip\": \"120.88.72.6\", \"lat\": 65, \"long\": 18, \"scale\": \"Celius\", \"temp\": 13, \"timestamp\": \"1649692100.0122566\", \"zipcode\": 95071}\r\n",
      "{\"device_id\": 5, \"device_name\": \"therm-stick-5URzWV3PHmC\", \"humidity\": 68, \"ip\": \"72.33.109.52\", \"lat\": 77, \"long\": 36, \"scale\": \"Celius\", \"temp\": 26, \"timestamp\": \"1649692100.0123167\", \"zipcode\": 95208}\r\n",
      "{\"device_id\": 6, \"device_name\": \"sensor-pad-6cexjvIIrdH\", \"humidity\": 39, \"ip\": \"149.68.122.12\", \"lat\": 70, \"long\": 11, \"scale\": \"Celius\", \"temp\": 15, \"timestamp\": \"1649692100.012375\", \"zipcode\": 95249}\r\n",
      "{\"device_id\": 7, \"device_name\": \"meter-gauge-7q2Gq7xMZIh\", \"humidity\": 76, \"ip\": \"177.9.101.81\", \"lat\": 62, \"long\": 83, \"scale\": \"Celius\", \"temp\": 17, \"timestamp\": \"1649692100.0124328\", \"zipcode\": 95330}\r\n",
      "{\"device_id\": 8, \"device_name\": \"sensor-pad-8HJoJI7QOlZ\", \"humidity\": 75, \"ip\": \"87.68.100.23\", \"lat\": 4, \"long\": 50, \"scale\": \"Celius\", \"temp\": 27, \"timestamp\": \"1649692100.012491\", \"zipcode\": 95505}\r\n",
      "{\"device_id\": 9, \"device_name\": \"device-mac-9nqLqAiHcw2\", \"humidity\": 47, \"ip\": \"195.98.70.19\", \"lat\": 8, \"long\": 89, \"scale\": \"Celius\", \"temp\": 22, \"timestamp\": \"1649692100.0125477\", \"zipcode\": 94716}\r\n",
      "{\"device_id\": 10, \"device_name\": \"sensor-pad-1nWt8QEQ4ap\", \"humidity\": 81, \"ip\": \"122.6.16.1\", \"lat\": 92, \"long\": 95, \"scale\": \"Celius\", \"temp\": 14, \"timestamp\": \"1649692100.0126047\", \"zipcode\": 96555}\r\n"
     ]
    }
   ],
   "source": [
    "!head ./data/iot_devices.json"
   ]
  },
  {
   "cell_type": "markdown",
   "metadata": {},
   "source": [
    "Defining the schema for the data:"
   ]
  },
  {
   "cell_type": "code",
   "execution_count": 4,
   "metadata": {},
   "outputs": [],
   "source": [
    "iot_schema = (StructType([\n",
    "        StructField(\"device_id\", LongType(), False),\n",
    "        StructField(\"device_name\", StringType(), False),\n",
    "        StructField(\"humidity\", IntegerType(), False),\n",
    "        StructField(\"ip\",StringType(), False),\n",
    "        StructField(\"lat\", IntegerType(), False),\n",
    "        StructField(\"long\", IntegerType(), False),\n",
    "        StructField(\"scale\", StringType(), False),\n",
    "        StructField(\"temp\", IntegerType(), False),\n",
    "        StructField(\"timestamp\", StringType(), False),\n",
    "        StructField(\"zipcode\", IntegerType(), False)]))\n"
   ]
  },
  {
   "cell_type": "code",
   "execution_count": 5,
   "metadata": {},
   "outputs": [],
   "source": [
    "jsonFile = \"data/iot_devices.json\"\n",
    "\n",
    "# Reading with or without specifying the schema works. It leads to the same results\n",
    "# When the schema is not specified, Spark is infering the schema from the json data. \n",
    "# This takes time and is impractical for large data sets.\n",
    "\n",
    "# iot_data_df =  spark.read.schema(iot_schema).json(jsonFile)\n",
    "iot_data_df =  spark.read.json(jsonFile)\n"
   ]
  },
  {
   "cell_type": "code",
   "execution_count": 6,
   "metadata": {},
   "outputs": [
    {
     "name": "stdout",
     "output_type": "stream",
     "text": [
      "+---------+--------------------+--------+--------------+---+----+------+----+------------------+-------+\n",
      "|device_id|         device_name|humidity|            ip|lat|long| scale|temp|         timestamp|zipcode|\n",
      "+---------+--------------------+--------+--------------+---+----+------+----+------------------+-------+\n",
      "|        1|meter-gauge-1HGVs...|      33|  202.67.93.34| 65|  81|Celius|  28|1649692100.0120409|  96132|\n",
      "|        2|sensor-pad-2JRBkw...|      31|   149.5.43.88| 96|  75|Celius|  12|1649692100.0121286|  95521|\n",
      "|        3|device-mac-34laB6...|      50|   124.59.42.6| 22|  25|Celius|  27|1649692100.0121949|  96935|\n",
      "|        4|sensor-pad-4WVBUD...|      35|   120.88.72.6| 65|  18|Celius|  13|1649692100.0122566|  95071|\n",
      "|        5|therm-stick-5URzW...|      68|  72.33.109.52| 77|  36|Celius|  26|1649692100.0123167|  95208|\n",
      "|        6|sensor-pad-6cexjv...|      39| 149.68.122.12| 70|  11|Celius|  15| 1649692100.012375|  95249|\n",
      "|        7|meter-gauge-7q2Gq...|      76|  177.9.101.81| 62|  83|Celius|  17|1649692100.0124328|  95330|\n",
      "|        8|sensor-pad-8HJoJI...|      75|  87.68.100.23|  4|  50|Celius|  27| 1649692100.012491|  95505|\n",
      "|        9|device-mac-9nqLqA...|      47|  195.98.70.19|  8|  89|Celius|  22|1649692100.0125477|  94716|\n",
      "|       10|sensor-pad-1nWt8Q...|      81|    122.6.16.1| 92|  95|Celius|  14|1649692100.0126047|  96555|\n",
      "|       11|meter-gauge-0QKtD...|      75|   166.15.17.5| 17|  81|Celius|  25|1649692100.0126615|  96863|\n",
      "|       12|sensor-pad-1Fn9yF...|      71| 193.6.109.120| 29|  67|Celius|  11|1649692100.0127172|  95675|\n",
      "|       13|meter-gauge-1dc4u...|      87|  94.109.90.71| 63|  61|Celius|  20|1649692100.0127735|  95072|\n",
      "|       14|sensor-pad-1c37o3...|      57|   89.18.89.49| 41|  29|Celius|  21|1649692100.0128303|  95699|\n",
      "|       15|device-mac-2RkZgc...|      89|  127.44.78.17| 91|  90|Celius|  12|1649692100.0128872|  96734|\n",
      "|       16|sensor-pad-1Pgejm...|      77|  98.59.77.104| 68|   0|Celius|  29|1649692100.0129435|  94942|\n",
      "|       17|meter-gauge-32yJZ...|      59| 182.15.124.88| 35|  88|Celius|  34| 1649692100.012999|  95610|\n",
      "|       18|sensor-pad-1yCzHe...|      61|136.118.23.112| 14|  43|Celius|  29|1649692100.0130556|  96890|\n",
      "|       19|meter-gauge-48xlM...|      84|180.110.65.121| 34|  59|Celius|  14|1649692100.0131118|  95302|\n",
      "|       20|sensor-pad-1XAlwN...|      38| 126.63.103.46| 44|   1|Celius|  27|1649692100.0131667|  95553|\n",
      "+---------+--------------------+--------+--------------+---+----+------+----+------------------+-------+\n",
      "only showing top 20 rows\n",
      "\n"
     ]
    }
   ],
   "source": [
    "iot_data_df.show()"
   ]
  },
  {
   "cell_type": "code",
   "execution_count": 7,
   "metadata": {},
   "outputs": [
    {
     "data": {
      "text/plain": [
       "1389"
      ]
     },
     "execution_count": 7,
     "metadata": {},
     "output_type": "execute_result"
    }
   ],
   "source": [
    "iot_data_df.count()"
   ]
  },
  {
   "cell_type": "markdown",
   "metadata": {},
   "source": [
    "Show sensors with a temperature below  20 degree celsius"
   ]
  },
  {
   "cell_type": "code",
   "execution_count": 20,
   "metadata": {},
   "outputs": [
    {
     "name": "stdout",
     "output_type": "stream",
     "text": [
      "+--------------------+----+\n",
      "|         device_name|temp|\n",
      "+--------------------+----+\n",
      "|sensor-pad-2JRBkw...|  12|\n",
      "|sensor-pad-4WVBUD...|  13|\n",
      "|sensor-pad-6cexjv...|  15|\n",
      "|meter-gauge-7q2Gq...|  17|\n",
      "|sensor-pad-1nWt8Q...|  14|\n",
      "+--------------------+----+\n",
      "only showing top 5 rows\n",
      "\n"
     ]
    },
    {
     "data": {
      "text/plain": [
       "554"
      ]
     },
     "execution_count": 20,
     "metadata": {},
     "output_type": "execute_result"
    }
   ],
   "source": [
    "iot_results_df = (iot_data_df\n",
    "                  .select(\"device_name\", \"temp\")\n",
    "                  .where(col(\"temp\") < 20))\n",
    "iot_results_df.show(5)\n",
    "iot_results_df.count()"
   ]
  },
  {
   "cell_type": "markdown",
   "metadata": {},
   "source": [
    "What different values for \"scale\" exist in the data?"
   ]
  },
  {
   "cell_type": "code",
   "execution_count": 22,
   "metadata": {},
   "outputs": [
    {
     "name": "stdout",
     "output_type": "stream",
     "text": [
      "+------+\n",
      "| scale|\n",
      "+------+\n",
      "|Celius|\n",
      "+------+\n",
      "\n"
     ]
    }
   ],
   "source": [
    "iot_data_df.select(\"scale\").where(col(\"scale\").isNotNull()).distinct().show()"
   ]
  },
  {
   "cell_type": "markdown",
   "metadata": {},
   "source": [
    "What is the min and max value of humidity over all sensors:"
   ]
  },
  {
   "cell_type": "code",
   "execution_count": 28,
   "metadata": {},
   "outputs": [
    {
     "name": "stdout",
     "output_type": "stream",
     "text": [
      "+-------------+-------------+\n",
      "|min(humidity)|max(humidity)|\n",
      "+-------------+-------------+\n",
      "|           25|           99|\n",
      "+-------------+-------------+\n",
      "\n"
     ]
    }
   ],
   "source": [
    "iot_data_df.select(min(\"humidity\"), max(\"humidity\")).show()"
   ]
  },
  {
   "cell_type": "code",
   "execution_count": null,
   "metadata": {},
   "outputs": [],
   "source": []
  }
 ],
 "metadata": {
  "kernelspec": {
   "display_name": "Python 3",
   "language": "python",
   "name": "python3"
  },
  "language_info": {
   "codemirror_mode": {
    "name": "ipython",
    "version": 3
   },
   "file_extension": ".py",
   "mimetype": "text/x-python",
   "name": "python",
   "nbconvert_exporter": "python",
   "pygments_lexer": "ipython3",
   "version": "3.8.5"
  }
 },
 "nbformat": 4,
 "nbformat_minor": 4
}
