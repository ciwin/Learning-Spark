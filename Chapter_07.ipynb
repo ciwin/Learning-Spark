{
 "cells": [
  {
   "cell_type": "markdown",
   "metadata": {},
   "source": [
    "# Chapter 7: Optimizing and Tuning Spark Applications\n",
    "Christoph Windheuser    \n",
    "May, 2022   \n",
    "Python examples of chapter 7 (page 173 ff) in the book *Learning Spark*"
   ]
  },
  {
   "cell_type": "code",
   "execution_count": 34,
   "metadata": {},
   "outputs": [],
   "source": [
    "# Import required python spark libraries\n",
    "import pyspark\n",
    "from pyspark.sql.functions import col, expr, when, concat, lit, avg\n"
   ]
  },
  {
   "cell_type": "code",
   "execution_count": 1,
   "metadata": {},
   "outputs": [],
   "source": [
    "#create a SparkSession\n",
    "\n",
    "spark = (SparkSession \\\n",
    "         .builder \\\n",
    "         .enableHiveSupport() \\\n",
    "         .appName(\"Chapter_7\") \\\n",
    "         .getOrCreate())\n"
   ]
  },
  {
   "cell_type": "code",
   "execution_count": 3,
   "metadata": {},
   "outputs": [
    {
     "name": "stdout",
     "output_type": "stream",
     "text": [
      "/opt/spark\r\n"
     ]
    }
   ],
   "source": [
    "# Show the content of the environment variable $SPARK_HOME:\n",
    "!echo $SPARK_HOME"
   ]
  },
  {
   "cell_type": "code",
   "execution_count": null,
   "metadata": {},
   "outputs": [],
   "source": [
    "# Show all config files\n",
    "!ls -l $SPARK_HOME/conf"
   ]
  },
  {
   "cell_type": "code",
   "execution_count": null,
   "metadata": {},
   "outputs": [],
   "source": [
    "#Get single Spark configuiration values:\n",
    "print(spark.conf.get(\"spark.sql.warehouse.dir\"))"
   ]
  },
  {
   "cell_type": "code",
   "execution_count": null,
   "metadata": {},
   "outputs": [],
   "source": [
    "# Get the whole confiuguration context of a Spark Context:\n",
    "scConf = sc.getConf().getAll()\n",
    "\n",
    "for l in scConf:\n",
    "    print (l[0] + \":\")\n",
    "    print (l[1])\n",
    "    print ()\n"
   ]
  },
  {
   "cell_type": "code",
   "execution_count": null,
   "metadata": {},
   "outputs": [],
   "source": [
    "# Change single Spark config variables\n",
    "spark.conf.set(\"spark.sql.shuffle.partitions\", spark.sparkContext.defaultParallelism)"
   ]
  },
  {
   "cell_type": "code",
   "execution_count": null,
   "metadata": {},
   "outputs": [],
   "source": [
    "# Show the Spark SQL-specifdic Spark configs:\n",
    "spark.sql(\"SET -v\").select(\"key\", \"value\").show(truncate=False)"
   ]
  },
  {
   "cell_type": "markdown",
   "metadata": {},
   "source": [
    "## Spark's Web Interface\n",
    "To see Spark's Web Interface, go the web address: http://127.0.0.1:4040    \n",
    "The tab *Environment* shows all environment variables. In the web interface, the variables are *read-only*, they cannot be modified."
   ]
  },
  {
   "cell_type": "markdown",
   "metadata": {},
   "source": [
    "## Set configuration variables in a Spark program"
   ]
  },
  {
   "cell_type": "code",
   "execution_count": null,
   "metadata": {},
   "outputs": [],
   "source": [
    "# First check, if a configuration variable is modifiable:\n",
    "\n",
    "# Example:\n",
    "spark.conf.isModifiable(\"spark.sql.shuffle.partitions\")"
   ]
  },
  {
   "cell_type": "code",
   "execution_count": null,
   "metadata": {},
   "outputs": [],
   "source": [
    "# Get the actual value of the variable:\n",
    "spark.conf.get(\"spark.sql.shuffle.partitions\")"
   ]
  },
  {
   "cell_type": "code",
   "execution_count": null,
   "metadata": {},
   "outputs": [],
   "source": [
    "# Set the variable to a new variable and check:\n",
    "spark.conf.set(\"spark.sql.shuffle.partitions\", 5)\n",
    "spark.conf.get(\"spark.sql.shuffle.partitions\")"
   ]
  },
  {
   "cell_type": "code",
   "execution_count": null,
   "metadata": {},
   "outputs": [],
   "source": [
    "# Set it back to the old value:\n",
    "spark.conf.set(\"spark.sql.shuffle.partitions\", 16)\n",
    "spark.conf.get(\"spark.sql.shuffle.partitions\")"
   ]
  },
  {
   "cell_type": "markdown",
   "metadata": {},
   "source": [
    "## Partitions\n",
    "Page 181 ff."
   ]
  },
  {
   "cell_type": "code",
   "execution_count": null,
   "metadata": {},
   "outputs": [],
   "source": [
    "# Create a big DataFrame:\n",
    "numDF = spark.range(1000 * 1000)"
   ]
  },
  {
   "cell_type": "code",
   "execution_count": null,
   "metadata": {},
   "outputs": [],
   "source": [
    "# Get the default number of partitions of this DataFrame\n",
    "numDF.rdd.getNumPartitions()"
   ]
  },
  {
   "cell_type": "code",
   "execution_count": null,
   "metadata": {},
   "outputs": [],
   "source": [
    "# Now change the number of partitions to another value\n",
    "numDF = spark.range(1000 * 1000).repartition(32)"
   ]
  },
  {
   "cell_type": "code",
   "execution_count": null,
   "metadata": {},
   "outputs": [],
   "source": [
    "# Check the number of partitions>:\n",
    "numDF.rdd.getNumPartitions()"
   ]
  },
  {
   "cell_type": "markdown",
   "metadata": {},
   "source": [
    "## Caching of Data\n",
    "Page 183 ff.\n",
    "\n",
    "Create a DataFrame with 10M records.  \n",
    "\n",
    "The time difference (approx. 10x faster) between *Count and load into cache*' and *Count in cache*\n",
    "can only be demonstrated when this code is run the first time in the notebook. In consecutive executions the DataFrame is already cached and there is basically no time difference."
   ]
  },
  {
   "cell_type": "code",
   "execution_count": 4,
   "metadata": {
    "scrolled": true
   },
   "outputs": [
    {
     "name": "stdout",
     "output_type": "stream",
     "text": [
      "Step 1 - Create:                    1.442420 seconds\n",
      "Step 2 - Add Column:                0.086140 seconds\n",
      "Step 3 - Cache df:                  0.292966 seconds\n",
      "Step 4 - Count and load into cache: 3.301321 seconds\n",
      "Step 5 - Count in cache:            0.181523 seconds\n"
     ]
    }
   ],
   "source": [
    "\n",
    "\n",
    "import time\n",
    "\n",
    "start = time.time()\n",
    "df = spark.range(1 * 10000000).toDF(\"id\")\n",
    "end = time.time()\n",
    "print(\"Step 1 - Create:                    %f seconds\" %(end - start))\n",
    "\n",
    "start = time.time()\n",
    "df = df.withColumn(\"square\", df.id * df.id)\n",
    "end = time.time()\n",
    "print(\"Step 2 - Add Column:                %f seconds\" %(end - start))\n",
    "\n",
    "start = time.time()\n",
    "df.cache()\n",
    "end = time.time()\n",
    "print(\"Step 3 - Cache df:                  %f seconds\" %(end - start))\n",
    "\n",
    "start = time.time()\n",
    "df.count()\n",
    "end = time.time()\n",
    "print(\"Step 4 - Count and load into cache: %f seconds\" %(end - start))\n",
    "\n",
    "start = time.time()\n",
    "df.count()\n",
    "end = time.time()\n",
    "print(\"Step 5 - Count in cache:            %f seconds\" %(end - start))\n"
   ]
  },
  {
   "cell_type": "markdown",
   "metadata": {},
   "source": [
    "### Caching Tables and Views in SQL\n",
    "It is also possible to cache tables of views:"
   ]
  },
  {
   "cell_type": "code",
   "execution_count": 8,
   "metadata": {},
   "outputs": [
    {
     "name": "stdout",
     "output_type": "stream",
     "text": [
      "+--------+\n",
      "|count(1)|\n",
      "+--------+\n",
      "|10000000|\n",
      "+--------+\n",
      "\n"
     ]
    }
   ],
   "source": [
    "df.createOrReplaceTempView(\"dfTable\")\n",
    "spark.sql(\"CACHE TABLE dfTable\")\n",
    "spark.sql(\"SELECT count(*) FROM dfTable\").show()"
   ]
  },
  {
   "cell_type": "markdown",
   "metadata": {},
   "source": [
    "## Persistance of Data\n",
    "Page 184 ff\n",
    "\n",
    "Persistance of data is synonymous to caching data, but let you apecify how the data is persisted with the parameter `pyspark.StorageLevel.LEVEL`. \n",
    "\n",
    "As we have specified the persistance on disk only, the time difference is much lower compared to the example above (this time approx. 5x faster compared to 12x faster above). Under the link http://127.0.0.1:4040/ you can see that the data is persisted on disk and not on memory for all partitions."
   ]
  },
  {
   "cell_type": "code",
   "execution_count": 7,
   "metadata": {},
   "outputs": [
    {
     "name": "stdout",
     "output_type": "stream",
     "text": [
      "Step 1 - Create:                    0.019116 seconds\n",
      "Step 2 - Add Column:                0.006613 seconds\n",
      "Step 3 - Persist df DISK_ONLY:      0.031600 seconds\n",
      "Step 4 - Count and load into cache: 1.571908 seconds\n",
      "Step 5 - Count in cache:            0.259982 seconds\n"
     ]
    }
   ],
   "source": [
    "start = time.time()\n",
    "df2 = spark.range(1 * 10000000).toDF(\"id\")\n",
    "end = time.time()\n",
    "print(\"Step 1 - Create:                    %f seconds\" %(end - start))\n",
    "\n",
    "start = time.time()\n",
    "df2 = df.withColumn(\"square\", df2.id * df2.id)\n",
    "end = time.time()\n",
    "print(\"Step 2 - Add Column:                %f seconds\" %(end - start))\n",
    "\n",
    "start = time.time()\n",
    "df2.persist(storageLevel=pyspark.StorageLevel.DISK_ONLY)\n",
    "end = time.time()\n",
    "print(\"Step 3 - Persist df DISK_ONLY:      %f seconds\" %(end - start))\n",
    "\n",
    "start = time.time()\n",
    "df2.count()\n",
    "end = time.time()\n",
    "print(\"Step 4 - Count and load into cache: %f seconds\" %(end - start))\n",
    "\n",
    "start = time.time()\n",
    "df2.count()\n",
    "end = time.time()\n",
    "print(\"Step 5 - Count in cache:            %f seconds\" %(end - start))\n"
   ]
  },
  {
   "cell_type": "markdown",
   "metadata": {},
   "source": [
    "## Shuffle Sort Merge Join (SMJ)\n",
    "Page 189 ff."
   ]
  },
  {
   "cell_type": "code",
   "execution_count": 11,
   "metadata": {},
   "outputs": [],
   "source": [
    "from random import randint\n",
    "\n",
    "# Disable broadcast join\n",
    "spark.conf.set(\"spark.sql.autoBroadcastJoinThreshold\", \"-1\")"
   ]
  },
  {
   "cell_type": "code",
   "execution_count": 13,
   "metadata": {},
   "outputs": [],
   "source": [
    "# Generate synthetic data for two data frames\n",
    "states = ['AZ', 'CO', 'CA', 'TX', 'NY', 'MI']\n",
    "items  = ['SKU-0', 'SKU-1', 'SKU-2', 'SKU-3', 'SKU-4']"
   ]
  },
  {
   "cell_type": "code",
   "execution_count": 59,
   "metadata": {},
   "outputs": [],
   "source": [
    "userDF = spark.range(1000000).toDF(\"uid\")"
   ]
  },
  {
   "cell_type": "code",
   "execution_count": 60,
   "metadata": {},
   "outputs": [
    {
     "name": "stdout",
     "output_type": "stream",
     "text": [
      "+---+\n",
      "|uid|\n",
      "+---+\n",
      "|  0|\n",
      "|  1|\n",
      "|  2|\n",
      "+---+\n",
      "only showing top 3 rows\n",
      "\n"
     ]
    }
   ],
   "source": [
    "userDF.show(n=3)"
   ]
  },
  {
   "cell_type": "code",
   "execution_count": 91,
   "metadata": {},
   "outputs": [],
   "source": [
    "userDF = (userDF\n",
    "            .withColumn(\"login\", concat(lit(\"user_\"), expr(\"uid\")))\n",
    "            .withColumn(\"email\", concat(lit(\"user_\"), expr(\"uid\"), lit(\"@databricks.com\")))\n",
    "            .withColumn(\"user_state\", lit(states[randint(0, 5)]))          \n",
    "         )"
   ]
  },
  {
   "cell_type": "code",
   "execution_count": 92,
   "metadata": {},
   "outputs": [
    {
     "name": "stdout",
     "output_type": "stream",
     "text": [
      "+---+------+--------------------+----------+\n",
      "|uid| login|               email|user_state|\n",
      "+---+------+--------------------+----------+\n",
      "|  0|user_0|user_0@databricks...|        MI|\n",
      "|  1|user_1|user_1@databricks...|        MI|\n",
      "|  2|user_2|user_2@databricks...|        MI|\n",
      "|  3|user_3|user_3@databricks...|        MI|\n",
      "|  4|user_4|user_4@databricks...|        MI|\n",
      "+---+------+--------------------+----------+\n",
      "only showing top 5 rows\n",
      "\n"
     ]
    }
   ],
   "source": [
    "userDF.show(n=5)"
   ]
  },
  {
   "cell_type": "code",
   "execution_count": 76,
   "metadata": {},
   "outputs": [],
   "source": [
    "orderDF = spark.range(1000000).toDF(\"transaction_id\")"
   ]
  },
  {
   "cell_type": "code",
   "execution_count": 77,
   "metadata": {},
   "outputs": [
    {
     "name": "stdout",
     "output_type": "stream",
     "text": [
      "+--------------+\n",
      "|transaction_id|\n",
      "+--------------+\n",
      "|             0|\n",
      "|             1|\n",
      "|             2|\n",
      "+--------------+\n",
      "only showing top 3 rows\n",
      "\n"
     ]
    }
   ],
   "source": [
    "orderDF.show(n=3)"
   ]
  },
  {
   "cell_type": "code",
   "execution_count": 93,
   "metadata": {},
   "outputs": [],
   "source": [
    "orderDF = (orderDF\n",
    "            .withColumn(\"quantity\", orderDF.transaction_id)\n",
    "            .withColumn(\"users_id\", lit(randint(0, 10000)))\n",
    "            .withColumn(\"amount\",   orderDF.transaction_id * 2.0)\n",
    "            .withColumn(\"state\",    lit(states[randint(0,5)]))\n",
    "            .withColumn(\"items\",    lit(items[randint(0,4)]))\n",
    "          )"
   ]
  },
  {
   "cell_type": "code",
   "execution_count": 94,
   "metadata": {},
   "outputs": [
    {
     "name": "stdout",
     "output_type": "stream",
     "text": [
      "+--------------+--------+--------+------+-----+-----+\n",
      "|transaction_id|quantity|users_id|amount|state|items|\n",
      "+--------------+--------+--------+------+-----+-----+\n",
      "|             0|       0|    2851|   0.0|   AZ|SKU-2|\n",
      "|             1|       1|    2851|   2.0|   AZ|SKU-2|\n",
      "|             2|       2|    2851|   4.0|   AZ|SKU-2|\n",
      "|             3|       3|    2851|   6.0|   AZ|SKU-2|\n",
      "|             4|       4|    2851|   8.0|   AZ|SKU-2|\n",
      "+--------------+--------+--------+------+-----+-----+\n",
      "only showing top 5 rows\n",
      "\n"
     ]
    }
   ],
   "source": [
    "orderDF.show(n=5)"
   ]
  },
  {
   "cell_type": "code",
   "execution_count": 98,
   "metadata": {},
   "outputs": [],
   "source": [
    "userOrderDF = orderDF.join(userDF, orderDF.users_id == userDF.uid)"
   ]
  },
  {
   "cell_type": "code",
   "execution_count": 99,
   "metadata": {},
   "outputs": [
    {
     "name": "stdout",
     "output_type": "stream",
     "text": [
      "+--------------+--------+--------+------+-----+-----+----+---------+--------------------+----------+\n",
      "|transaction_id|quantity|users_id|amount|state|items| uid|    login|               email|user_state|\n",
      "+--------------+--------+--------+------+-----+-----+----+---------+--------------------+----------+\n",
      "|             0|       0|    2851|   0.0|   AZ|SKU-2|2851|user_2851|user_2851@databri...|        MI|\n",
      "|             1|       1|    2851|   2.0|   AZ|SKU-2|2851|user_2851|user_2851@databri...|        MI|\n",
      "|             2|       2|    2851|   4.0|   AZ|SKU-2|2851|user_2851|user_2851@databri...|        MI|\n",
      "|             3|       3|    2851|   6.0|   AZ|SKU-2|2851|user_2851|user_2851@databri...|        MI|\n",
      "|             4|       4|    2851|   8.0|   AZ|SKU-2|2851|user_2851|user_2851@databri...|        MI|\n",
      "|             5|       5|    2851|  10.0|   AZ|SKU-2|2851|user_2851|user_2851@databri...|        MI|\n",
      "|             6|       6|    2851|  12.0|   AZ|SKU-2|2851|user_2851|user_2851@databri...|        MI|\n",
      "|             7|       7|    2851|  14.0|   AZ|SKU-2|2851|user_2851|user_2851@databri...|        MI|\n",
      "|             8|       8|    2851|  16.0|   AZ|SKU-2|2851|user_2851|user_2851@databri...|        MI|\n",
      "|             9|       9|    2851|  18.0|   AZ|SKU-2|2851|user_2851|user_2851@databri...|        MI|\n",
      "|            10|      10|    2851|  20.0|   AZ|SKU-2|2851|user_2851|user_2851@databri...|        MI|\n",
      "|            11|      11|    2851|  22.0|   AZ|SKU-2|2851|user_2851|user_2851@databri...|        MI|\n",
      "|            12|      12|    2851|  24.0|   AZ|SKU-2|2851|user_2851|user_2851@databri...|        MI|\n",
      "|            13|      13|    2851|  26.0|   AZ|SKU-2|2851|user_2851|user_2851@databri...|        MI|\n",
      "|            14|      14|    2851|  28.0|   AZ|SKU-2|2851|user_2851|user_2851@databri...|        MI|\n",
      "|            15|      15|    2851|  30.0|   AZ|SKU-2|2851|user_2851|user_2851@databri...|        MI|\n",
      "|            16|      16|    2851|  32.0|   AZ|SKU-2|2851|user_2851|user_2851@databri...|        MI|\n",
      "|            17|      17|    2851|  34.0|   AZ|SKU-2|2851|user_2851|user_2851@databri...|        MI|\n",
      "|            18|      18|    2851|  36.0|   AZ|SKU-2|2851|user_2851|user_2851@databri...|        MI|\n",
      "|            19|      19|    2851|  38.0|   AZ|SKU-2|2851|user_2851|user_2851@databri...|        MI|\n",
      "+--------------+--------+--------+------+-----+-----+----+---------+--------------------+----------+\n",
      "only showing top 20 rows\n",
      "\n"
     ]
    }
   ],
   "source": [
    "userOrderDF.show()"
   ]
  },
  {
   "cell_type": "code",
   "execution_count": null,
   "metadata": {},
   "outputs": [],
   "source": []
  }
 ],
 "metadata": {
  "kernelspec": {
   "display_name": "Python 3",
   "language": "python",
   "name": "python3"
  },
  "language_info": {
   "codemirror_mode": {
    "name": "ipython",
    "version": 3
   },
   "file_extension": ".py",
   "mimetype": "text/x-python",
   "name": "python",
   "nbconvert_exporter": "python",
   "pygments_lexer": "ipython3",
   "version": "3.8.5"
  }
 },
 "nbformat": 4,
 "nbformat_minor": 4
}
