{
 "cells": [
  {
   "cell_type": "markdown",
   "id": "33032e61",
   "metadata": {},
   "source": [
    "# Chapter 10: Machine Learning with MLlib\n",
    "Christoph Windheuser    \n",
    "June, 2022   \n",
    "Python examples of chapter 10 (page 285 ff) in the book *Learning Spark*"
   ]
  },
  {
   "cell_type": "code",
   "execution_count": 1,
   "id": "5eca3e2a",
   "metadata": {},
   "outputs": [],
   "source": [
    "# Import required python spark libraries\n",
    "import pyspark\n",
    "import numpy as np\n",
    "from pyspark.sql.functions import *\n",
    "from pyspark.sql.types import *\n",
    "from pyspark.ml.feature import VectorAssembler\n",
    "from pyspark.ml.regression import LinearRegression\n",
    "from pyspark.ml import Pipeline\n"
   ]
  },
  {
   "cell_type": "code",
   "execution_count": 2,
   "id": "0dc6491d",
   "metadata": {},
   "outputs": [],
   "source": [
    "# create a SparkSession\n",
    "# This requires access to the internet. If executed offline, an error is thrown\n",
    "\n",
    "spark = (SparkSession \\\n",
    "         .builder \\\n",
    "         .appName(\"Chapter_10\") \\\n",
    "         .getOrCreate())\n"
   ]
  },
  {
   "cell_type": "markdown",
   "id": "7c248cd0",
   "metadata": {},
   "source": [
    "# Read the Database into a DataFrame\n",
    "Page 291"
   ]
  },
  {
   "cell_type": "code",
   "execution_count": 3,
   "id": "4fdd1e58",
   "metadata": {},
   "outputs": [],
   "source": [
    "filePath = \"../DB_Spark/LearningSparkV2/databricks-datasets/learning-spark-v2/sf-airbnb/sf-airbnb-clean.parquet\"\n"
   ]
  },
  {
   "cell_type": "code",
   "execution_count": 4,
   "id": "e2be02ec",
   "metadata": {},
   "outputs": [],
   "source": [
    "airbnbDF = spark.read.parquet(filePath)"
   ]
  },
  {
   "cell_type": "code",
   "execution_count": 5,
   "id": "8aff6501",
   "metadata": {},
   "outputs": [
    {
     "name": "stdout",
     "output_type": "stream",
     "text": [
      "+-----------------+--------------------+----------------+-------------------------+----------------------+--------+----------+-------------+---------------+------------+---------+--------+----+--------+--------------+-----------------+--------------------+----------------------+-------------------------+---------------------+---------------------------+----------------------+-------------------+-----+-----------+------------+-------+-----------------------+-------------------------+----------------------------+------------------------+------------------------------+-------------------------+----------------------+\n",
      "|host_is_superhost| cancellation_policy|instant_bookable|host_total_listings_count|neighbourhood_cleansed|latitude| longitude|property_type|      room_type|accommodates|bathrooms|bedrooms|beds|bed_type|minimum_nights|number_of_reviews|review_scores_rating|review_scores_accuracy|review_scores_cleanliness|review_scores_checkin|review_scores_communication|review_scores_location|review_scores_value|price|bedrooms_na|bathrooms_na|beds_na|review_scores_rating_na|review_scores_accuracy_na|review_scores_cleanliness_na|review_scores_checkin_na|review_scores_communication_na|review_scores_location_na|review_scores_value_na|\n",
      "+-----------------+--------------------+----------------+-------------------------+----------------------+--------+----------+-------------+---------------+------------+---------+--------+----+--------+--------------+-----------------+--------------------+----------------------+-------------------------+---------------------+---------------------------+----------------------+-------------------+-----+-----------+------------+-------+-----------------------+-------------------------+----------------------------+------------------------+------------------------------+-------------------------+----------------------+\n",
      "|                t|            moderate|               t|                      1.0|      Western Addition|37.76931|-122.43386|    Apartment|Entire home/apt|         3.0|      1.0|     1.0| 2.0|Real Bed|           1.0|            180.0|                97.0|                  10.0|                     10.0|                 10.0|                       10.0|                  10.0|               10.0|170.0|        0.0|         0.0|    0.0|                    0.0|                      0.0|                         0.0|                     0.0|                           0.0|                      0.0|                   0.0|\n",
      "|                f|strict_14_with_gr...|               f|                      2.0|        Bernal Heights|37.74511|-122.42102|    Apartment|Entire home/apt|         5.0|      1.0|     2.0| 3.0|Real Bed|          30.0|            111.0|                98.0|                  10.0|                     10.0|                 10.0|                       10.0|                  10.0|                9.0|235.0|        0.0|         0.0|    0.0|                    0.0|                      0.0|                         0.0|                     0.0|                           0.0|                      0.0|                   0.0|\n",
      "|                f|strict_14_with_gr...|               f|                     10.0|        Haight Ashbury|37.76669| -122.4525|    Apartment|   Private room|         2.0|      4.0|     1.0| 1.0|Real Bed|          32.0|             17.0|                85.0|                   8.0|                      8.0|                  9.0|                        9.0|                   9.0|                8.0| 65.0|        0.0|         0.0|    0.0|                    0.0|                      0.0|                         0.0|                     0.0|                           0.0|                      0.0|                   0.0|\n",
      "|                f|strict_14_with_gr...|               f|                     10.0|        Haight Ashbury|37.76487|-122.45183|    Apartment|   Private room|         2.0|      4.0|     1.0| 1.0|Real Bed|          32.0|              8.0|                93.0|                   9.0|                      9.0|                 10.0|                       10.0|                   9.0|                9.0| 65.0|        0.0|         0.0|    0.0|                    0.0|                      0.0|                         0.0|                     0.0|                           0.0|                      0.0|                   0.0|\n",
      "|                f|strict_14_with_gr...|               f|                      2.0|      Western Addition|37.77525|-122.43637|        House|Entire home/apt|         5.0|      1.5|     2.0| 2.0|Real Bed|           7.0|             27.0|                97.0|                  10.0|                     10.0|                 10.0|                       10.0|                  10.0|                9.0|785.0|        0.0|         0.0|    0.0|                    0.0|                      0.0|                         0.0|                     0.0|                           0.0|                      0.0|                   0.0|\n",
      "+-----------------+--------------------+----------------+-------------------------+----------------------+--------+----------+-------------+---------------+------------+---------+--------+----+--------+--------------+-----------------+--------------------+----------------------+-------------------------+---------------------+---------------------------+----------------------+-------------------+-----+-----------+------------+-------+-----------------------+-------------------------+----------------------------+------------------------+------------------------------+-------------------------+----------------------+\n",
      "only showing top 5 rows\n",
      "\n"
     ]
    }
   ],
   "source": [
    "# Show the entire DataFrame columns and the first 5 lines:\n",
    "airbnbDF.show(5)"
   ]
  },
  {
   "cell_type": "code",
   "execution_count": 6,
   "id": "eb2c5078",
   "metadata": {},
   "outputs": [
    {
     "name": "stdout",
     "output_type": "stream",
     "text": [
      "+----------------------+---------------+--------+---------+-----------------+-----+\n",
      "|neighbourhood_cleansed|      room_type|bedrooms|bathrooms|number_of_reviews|price|\n",
      "+----------------------+---------------+--------+---------+-----------------+-----+\n",
      "|      Western Addition|Entire home/apt|     1.0|      1.0|            180.0|170.0|\n",
      "|        Bernal Heights|Entire home/apt|     2.0|      1.0|            111.0|235.0|\n",
      "|        Haight Ashbury|   Private room|     1.0|      4.0|             17.0| 65.0|\n",
      "|        Haight Ashbury|   Private room|     1.0|      4.0|              8.0| 65.0|\n",
      "|      Western Addition|Entire home/apt|     2.0|      1.5|             27.0|785.0|\n",
      "+----------------------+---------------+--------+---------+-----------------+-----+\n",
      "only showing top 5 rows\n",
      "\n"
     ]
    }
   ],
   "source": [
    "# Show only a subset of columns:\n",
    "airbnbDF.select(\"neighbourhood_cleansed\", \"room_type\", \"bedrooms\", \"bathrooms\", \"number_of_reviews\", \"price\").show(5)\n"
   ]
  },
  {
   "cell_type": "code",
   "execution_count": 7,
   "id": "32a75a28",
   "metadata": {},
   "outputs": [
    {
     "name": "stdout",
     "output_type": "stream",
     "text": [
      "root\n",
      " |-- host_is_superhost: string (nullable = true)\n",
      " |-- cancellation_policy: string (nullable = true)\n",
      " |-- instant_bookable: string (nullable = true)\n",
      " |-- host_total_listings_count: double (nullable = true)\n",
      " |-- neighbourhood_cleansed: string (nullable = true)\n",
      " |-- latitude: double (nullable = true)\n",
      " |-- longitude: double (nullable = true)\n",
      " |-- property_type: string (nullable = true)\n",
      " |-- room_type: string (nullable = true)\n",
      " |-- accommodates: double (nullable = true)\n",
      " |-- bathrooms: double (nullable = true)\n",
      " |-- bedrooms: double (nullable = true)\n",
      " |-- beds: double (nullable = true)\n",
      " |-- bed_type: string (nullable = true)\n",
      " |-- minimum_nights: double (nullable = true)\n",
      " |-- number_of_reviews: double (nullable = true)\n",
      " |-- review_scores_rating: double (nullable = true)\n",
      " |-- review_scores_accuracy: double (nullable = true)\n",
      " |-- review_scores_cleanliness: double (nullable = true)\n",
      " |-- review_scores_checkin: double (nullable = true)\n",
      " |-- review_scores_communication: double (nullable = true)\n",
      " |-- review_scores_location: double (nullable = true)\n",
      " |-- review_scores_value: double (nullable = true)\n",
      " |-- price: double (nullable = true)\n",
      " |-- bedrooms_na: double (nullable = true)\n",
      " |-- bathrooms_na: double (nullable = true)\n",
      " |-- beds_na: double (nullable = true)\n",
      " |-- review_scores_rating_na: double (nullable = true)\n",
      " |-- review_scores_accuracy_na: double (nullable = true)\n",
      " |-- review_scores_cleanliness_na: double (nullable = true)\n",
      " |-- review_scores_checkin_na: double (nullable = true)\n",
      " |-- review_scores_communication_na: double (nullable = true)\n",
      " |-- review_scores_location_na: double (nullable = true)\n",
      " |-- review_scores_value_na: double (nullable = true)\n",
      "\n"
     ]
    }
   ],
   "source": [
    "# Show the schema of the DataFrame:\n",
    "airbnbDF.printSchema()"
   ]
  },
  {
   "cell_type": "code",
   "execution_count": 8,
   "id": "13f21cdb",
   "metadata": {},
   "outputs": [
    {
     "data": {
      "text/plain": [
       "7146"
      ]
     },
     "execution_count": 8,
     "metadata": {},
     "output_type": "execute_result"
    }
   ],
   "source": [
    "# Show the number of rows of the DataFrame:\n",
    "airbnbDF.count()"
   ]
  },
  {
   "cell_type": "markdown",
   "id": "a4590c74",
   "metadata": {},
   "source": [
    "# Creating Training and Test Data Sets\n",
    "Page 291"
   ]
  },
  {
   "cell_type": "code",
   "execution_count": 9,
   "id": "5fae7fae",
   "metadata": {},
   "outputs": [
    {
     "name": "stdout",
     "output_type": "stream",
     "text": [
      "There are $5780 rows in the training set, and $1366 rows in the test set.\n"
     ]
    }
   ],
   "source": [
    "trainDF, testDF = airbnbDF.randomSplit([0.8, 0.2], seed=42)\n",
    "\n",
    "print (f\"There are ${trainDF.count()} rows in the training set, and ${testDF.count()} rows in the test set.\")\n"
   ]
  },
  {
   "cell_type": "markdown",
   "id": "1968caf6",
   "metadata": {},
   "source": [
    "# Preparing the Features with Transformers\n",
    "Page 293"
   ]
  },
  {
   "cell_type": "code",
   "execution_count": 10,
   "id": "05178aa1",
   "metadata": {},
   "outputs": [],
   "source": [
    "vecAssembler = VectorAssembler(inputCols=[\"bedrooms\"], outputCol=\"features\")\n",
    "vecTrainDF   = vecAssembler.transform(trainDF)\n"
   ]
  },
  {
   "cell_type": "code",
   "execution_count": 11,
   "id": "daac6398",
   "metadata": {},
   "outputs": [
    {
     "name": "stdout",
     "output_type": "stream",
     "text": [
      "+-----------------+-------------------+----------------+-------------------------+----------------------+--------+----------+-------------+---------------+------------+---------+--------+----+-------------+--------------+-----------------+--------------------+----------------------+-------------------------+---------------------+---------------------------+----------------------+-------------------+-----+-----------+------------+-------+-----------------------+-------------------------+----------------------------+------------------------+------------------------------+-------------------------+----------------------+--------+\n",
      "|host_is_superhost|cancellation_policy|instant_bookable|host_total_listings_count|neighbourhood_cleansed|latitude| longitude|property_type|      room_type|accommodates|bathrooms|bedrooms|beds|     bed_type|minimum_nights|number_of_reviews|review_scores_rating|review_scores_accuracy|review_scores_cleanliness|review_scores_checkin|review_scores_communication|review_scores_location|review_scores_value|price|bedrooms_na|bathrooms_na|beds_na|review_scores_rating_na|review_scores_accuracy_na|review_scores_cleanliness_na|review_scores_checkin_na|review_scores_communication_na|review_scores_location_na|review_scores_value_na|features|\n",
      "+-----------------+-------------------+----------------+-------------------------+----------------------+--------+----------+-------------+---------------+------------+---------+--------+----+-------------+--------------+-----------------+--------------------+----------------------+-------------------------+---------------------+---------------------------+----------------------+-------------------+-----+-----------+------------+-------+-----------------------+-------------------------+----------------------------+------------------------+------------------------------+-------------------------+----------------------+--------+\n",
      "|                f|           flexible|               f|                      0.0|       Diamond Heights| 37.7431|-122.44509|        House|   Private room|         2.0|      1.0|     1.0| 1.0|     Real Bed|           1.0|              1.0|               100.0|                  10.0|                     10.0|                 10.0|                       10.0|                  10.0|               10.0|200.0|        0.0|         0.0|    0.0|                    0.0|                      0.0|                         0.0|                     0.0|                           0.0|                      0.0|                   0.0|   [1.0]|\n",
      "|                f|           flexible|               f|                      1.0|               Bayview|37.71178|-122.38762|    Apartment|Entire home/apt|         3.0|      1.0|     1.0| 1.0|     Real Bed|          90.0|             13.0|                88.0|                  10.0|                      9.0|                  8.0|                        9.0|                  10.0|               10.0|130.0|        0.0|         0.0|    0.0|                    0.0|                      0.0|                         0.0|                     0.0|                           0.0|                      0.0|                   0.0|   [1.0]|\n",
      "|                f|           flexible|               f|                      1.0|               Bayview|37.72241|-122.39829|  Guest suite|Entire home/apt|         4.0|      1.0|     1.0| 3.0|     Real Bed|           1.0|             12.0|                98.0|                  10.0|                     10.0|                 10.0|                       10.0|                   9.0|               10.0| 95.0|        0.0|         0.0|    0.0|                    0.0|                      0.0|                         0.0|                     0.0|                           0.0|                      0.0|                   0.0|   [1.0]|\n",
      "|                f|           flexible|               f|                      1.0|               Bayview|37.72979|-122.37094|    Apartment|Entire home/apt|         2.0|      1.0|     1.0| 1.0|     Real Bed|         180.0|              1.0|               100.0|                  10.0|                     10.0|                 10.0|                       10.0|                  10.0|               10.0|250.0|        0.0|         0.0|    0.0|                    0.0|                      0.0|                         0.0|                     0.0|                           0.0|                      0.0|                   0.0|   [1.0]|\n",
      "|                f|           flexible|               f|                      1.0|               Bayview|37.73072|-122.38907|        House|Entire home/apt|         6.0|      3.0|     3.0| 3.0|     Real Bed|          30.0|              0.0|                98.0|                  10.0|                     10.0|                 10.0|                       10.0|                  10.0|               10.0|250.0|        0.0|         0.0|    0.0|                    1.0|                      1.0|                         1.0|                     1.0|                           1.0|                      1.0|                   1.0|   [3.0]|\n",
      "|                f|           flexible|               f|                      1.0|               Bayview| 37.7352|-122.38566|        House|   Private room|         2.0|      1.0|     1.0| 1.0|     Real Bed|           2.0|            100.0|                96.0|                  10.0|                      9.0|                 10.0|                       10.0|                   9.0|               10.0|115.0|        0.0|         0.0|    0.0|                    0.0|                      0.0|                         0.0|                     0.0|                           0.0|                      0.0|                   0.0|   [1.0]|\n",
      "|                f|           flexible|               f|                      1.0|        Bernal Heights| 37.7326|-122.41423|  Condominium|   Private room|         2.0|      1.5|     1.0| 1.0|     Real Bed|           2.0|             36.0|                96.0|                  10.0|                     10.0|                 10.0|                       10.0|                  10.0|               10.0|105.0|        0.0|         0.0|    0.0|                    0.0|                      0.0|                         0.0|                     0.0|                           0.0|                      0.0|                   0.0|   [1.0]|\n",
      "|                f|           flexible|               f|                      1.0|        Bernal Heights|37.73615|-122.41245|        House|   Private room|         2.0|      1.0|     1.0| 2.0|     Real Bed|           1.0|            194.0|                91.0|                   9.0|                      9.0|                 10.0|                       10.0|                   9.0|                9.0| 86.0|        0.0|         0.0|    0.0|                    0.0|                      0.0|                         0.0|                     0.0|                           0.0|                      0.0|                   0.0|   [1.0]|\n",
      "|                f|           flexible|               f|                      1.0|        Bernal Heights|37.73765|-122.41247|    Apartment|Entire home/apt|         4.0|      1.0|     1.0| 2.0|     Real Bed|           2.0|              4.0|                95.0|                  10.0|                     10.0|                 10.0|                        9.0|                   9.0|               10.0|100.0|        0.0|         0.0|    0.0|                    0.0|                      0.0|                         0.0|                     0.0|                           0.0|                      0.0|                   0.0|   [1.0]|\n",
      "|                f|           flexible|               f|                      1.0|        Bernal Heights|37.73826|-122.41693|        House|Entire home/apt|         4.0|      1.0|     2.0| 2.0|     Real Bed|           4.0|              2.0|               100.0|                  10.0|                     10.0|                 10.0|                       10.0|                  10.0|               10.0|220.0|        0.0|         0.0|    0.0|                    0.0|                      0.0|                         0.0|                     0.0|                           0.0|                      0.0|                   0.0|   [2.0]|\n",
      "|                f|           flexible|               f|                      1.0|        Bernal Heights|37.73994|-122.41502|  Guest suite|Entire home/apt|         3.0|      1.0|     1.0| 2.0|     Real Bed|          30.0|              2.0|               100.0|                  10.0|                      9.0|                 10.0|                       10.0|                  10.0|               10.0|110.0|        0.0|         0.0|    0.0|                    0.0|                      0.0|                         0.0|                     0.0|                           0.0|                      0.0|                   0.0|   [1.0]|\n",
      "|                f|           flexible|               f|                      1.0|        Bernal Heights| 37.7418|-122.41674|        House|   Private room|         3.0|      1.0|     1.0| 1.0|     Real Bed|           2.0|              5.0|               100.0|                  10.0|                     10.0|                 10.0|                       10.0|                  10.0|               10.0|130.0|        0.0|         0.0|    0.0|                    0.0|                      0.0|                         0.0|                     0.0|                           0.0|                      0.0|                   0.0|   [1.0]|\n",
      "|                f|           flexible|               f|                      1.0|        Bernal Heights|37.74191|-122.40843|        House|   Private room|         2.0|      1.0|     1.0| 1.0|     Real Bed|           1.0|              1.0|               100.0|                  10.0|                     10.0|                 10.0|                       10.0|                  10.0|               10.0|250.0|        0.0|         0.0|    0.0|                    0.0|                      0.0|                         0.0|                     0.0|                           0.0|                      0.0|                   0.0|   [1.0]|\n",
      "|                f|           flexible|               f|                      1.0|        Bernal Heights| 37.7422|-122.42091|  Guest suite|   Private room|         4.0|      1.0|     1.0| 3.0|     Real Bed|           3.0|             49.0|                95.0|                  10.0|                     10.0|                 10.0|                       10.0|                  10.0|                9.0|100.0|        0.0|         0.0|    0.0|                    0.0|                      0.0|                         0.0|                     0.0|                           0.0|                      0.0|                   0.0|   [1.0]|\n",
      "|                f|           flexible|               f|                      1.0|        Bernal Heights|37.74387|-122.42338|    Apartment|Entire home/apt|         4.0|      2.0|     3.0| 2.0|     Real Bed|          30.0|             10.0|                98.0|                  10.0|                     10.0|                 10.0|                       10.0|                  10.0|               10.0|350.0|        0.0|         0.0|    0.0|                    0.0|                      0.0|                         0.0|                     0.0|                           0.0|                      0.0|                   0.0|   [3.0]|\n",
      "|                f|           flexible|               f|                      1.0|        Bernal Heights|37.74494|-122.41034|        House|Entire home/apt|         4.0|      2.0|     2.0| 2.0|Pull-out Sofa|          30.0|              0.0|                98.0|                  10.0|                     10.0|                 10.0|                       10.0|                  10.0|               10.0|200.0|        0.0|         0.0|    0.0|                    1.0|                      1.0|                         1.0|                     1.0|                           1.0|                      1.0|                   1.0|   [2.0]|\n",
      "|                f|           flexible|               f|                      1.0|        Bernal Heights|37.74552|-122.41195|    Apartment|Entire home/apt|         2.0|      2.0|     1.0| 1.0|     Real Bed|           2.0|              4.0|               100.0|                  10.0|                     10.0|                 10.0|                       10.0|                  10.0|               10.0|250.0|        0.0|         0.0|    0.0|                    0.0|                      0.0|                         0.0|                     0.0|                           0.0|                      0.0|                   0.0|   [1.0]|\n",
      "|                f|           flexible|               f|                      1.0|        Bernal Heights|37.74605|-122.42209|  Guest suite|Entire home/apt|         4.0|      1.0|     2.0| 3.0|     Real Bed|           2.0|              0.0|                98.0|                  10.0|                     10.0|                 10.0|                       10.0|                  10.0|               10.0|299.0|        0.0|         0.0|    0.0|                    1.0|                      1.0|                         1.0|                     1.0|                           1.0|                      1.0|                   1.0|   [2.0]|\n",
      "|                f|           flexible|               f|                      1.0|   Castro/Upper Market|  37.758|-122.42991|  Condominium|   Private room|         2.0|      1.5|     1.0| 1.0|     Real Bed|           2.0|             27.0|               100.0|                  10.0|                     10.0|                 10.0|                       10.0|                  10.0|               10.0| 95.0|        0.0|         0.0|    0.0|                    0.0|                      0.0|                         0.0|                     0.0|                           0.0|                      0.0|                   0.0|   [1.0]|\n",
      "|                f|           flexible|               f|                      1.0|   Castro/Upper Market|37.75881|-122.44118|        House|Entire home/apt|         5.0|      2.5|     3.0| 3.0|     Real Bed|           2.0|              7.0|               100.0|                  10.0|                     10.0|                 10.0|                       10.0|                  10.0|               10.0|500.0|        0.0|         0.0|    0.0|                    0.0|                      0.0|                         0.0|                     0.0|                           0.0|                      0.0|                   0.0|   [3.0]|\n",
      "+-----------------+-------------------+----------------+-------------------------+----------------------+--------+----------+-------------+---------------+------------+---------+--------+----+-------------+--------------+-----------------+--------------------+----------------------+-------------------------+---------------------+---------------------------+----------------------+-------------------+-----+-----------+------------+-------+-----------------------+-------------------------+----------------------------+------------------------+------------------------------+-------------------------+----------------------+--------+\n",
      "only showing top 20 rows\n",
      "\n"
     ]
    }
   ],
   "source": [
    "vecTrainDF.show()"
   ]
  },
  {
   "cell_type": "code",
   "execution_count": 12,
   "id": "3c43d28c",
   "metadata": {},
   "outputs": [
    {
     "name": "stdout",
     "output_type": "stream",
     "text": [
      "+--------+--------+-----+\n",
      "|bedrooms|features|price|\n",
      "+--------+--------+-----+\n",
      "|     1.0|   [1.0]|200.0|\n",
      "|     1.0|   [1.0]|130.0|\n",
      "|     1.0|   [1.0]| 95.0|\n",
      "|     1.0|   [1.0]|250.0|\n",
      "|     3.0|   [3.0]|250.0|\n",
      "|     1.0|   [1.0]|115.0|\n",
      "|     1.0|   [1.0]|105.0|\n",
      "|     1.0|   [1.0]| 86.0|\n",
      "|     1.0|   [1.0]|100.0|\n",
      "|     2.0|   [2.0]|220.0|\n",
      "+--------+--------+-----+\n",
      "only showing top 10 rows\n",
      "\n"
     ]
    }
   ],
   "source": [
    "vecTrainDF.select(\"bedrooms\", \"features\", \"price\").show(10)"
   ]
  },
  {
   "cell_type": "markdown",
   "id": "97eb8d07",
   "metadata": {},
   "source": [
    "# Building a Model with an Estimator\n",
    "Page 295"
   ]
  },
  {
   "cell_type": "code",
   "execution_count": 13,
   "id": "106593c6",
   "metadata": {},
   "outputs": [],
   "source": [
    "lr      = LinearRegression(featuresCol=\"features\", labelCol=\"price\")\n",
    "lrModel = lr.fit(vecTrainDF)\n"
   ]
  },
  {
   "cell_type": "markdown",
   "id": "d7cba48f",
   "metadata": {},
   "source": [
    "### Inspecting the Learned Linear Regression Model"
   ]
  },
  {
   "cell_type": "code",
   "execution_count": 14,
   "id": "cbaa0123",
   "metadata": {},
   "outputs": [
    {
     "name": "stdout",
     "output_type": "stream",
     "text": [
      "The formular for the linear regression line is:\n",
      "price = 123.68 * bedrooms + 47.51\n"
     ]
    }
   ],
   "source": [
    "m = np.round(lrModel.coefficients[0], 2)\n",
    "b = np.round(lrModel.intercept, 2)\n",
    "print(f\"\"\"The formular for the linear regression line is:\n",
    "price = {m} * bedrooms + {b}\"\"\")\n"
   ]
  },
  {
   "cell_type": "markdown",
   "id": "f54c4f18",
   "metadata": {},
   "source": [
    "# Creating a Pipeline\n",
    "Page 296"
   ]
  },
  {
   "cell_type": "code",
   "execution_count": 15,
   "id": "557c1c50",
   "metadata": {},
   "outputs": [],
   "source": [
    "pipeline      = Pipeline (stages=[vecAssembler, lr])\n",
    "pipelineModel = pipeline.fit(trainDF)\n"
   ]
  },
  {
   "cell_type": "markdown",
   "id": "5acc59bd",
   "metadata": {},
   "source": [
    "### Apply the learned Pipeline to our test data"
   ]
  },
  {
   "cell_type": "code",
   "execution_count": 16,
   "id": "b4f55794",
   "metadata": {},
   "outputs": [],
   "source": [
    "predDF = pipelineModel.transform(testDF)\n"
   ]
  },
  {
   "cell_type": "code",
   "execution_count": 17,
   "id": "36dfb6fb",
   "metadata": {},
   "outputs": [
    {
     "name": "stdout",
     "output_type": "stream",
     "text": [
      "+--------+--------+------+------------------+\n",
      "|bedrooms|features| price|        prediction|\n",
      "+--------+--------+------+------------------+\n",
      "|     1.0|   [1.0]|  85.0|171.18598011578285|\n",
      "|     1.0|   [1.0]|  45.0|171.18598011578285|\n",
      "|     1.0|   [1.0]|  70.0|171.18598011578285|\n",
      "|     1.0|   [1.0]| 128.0|171.18598011578285|\n",
      "|     1.0|   [1.0]| 159.0|171.18598011578285|\n",
      "|     2.0|   [2.0]| 250.0|294.86172649777757|\n",
      "|     1.0|   [1.0]|  99.0|171.18598011578285|\n",
      "|     1.0|   [1.0]|  95.0|171.18598011578285|\n",
      "|     1.0|   [1.0]| 100.0|171.18598011578285|\n",
      "|     1.0|   [1.0]|2010.0|171.18598011578285|\n",
      "+--------+--------+------+------------------+\n",
      "only showing top 10 rows\n",
      "\n"
     ]
    }
   ],
   "source": [
    "predDF.select(\"bedrooms\", \"features\", \"price\", \"prediction\").show(10)\n"
   ]
  },
  {
   "cell_type": "markdown",
   "id": "76a2e114",
   "metadata": {},
   "source": [
    "# One-Hot Encoding\n",
    "Page 297"
   ]
  },
  {
   "cell_type": "markdown",
   "id": "f4e08eb2",
   "metadata": {},
   "source": [
    "### Feature Engineering    \n",
    "Convert categorical features into One-Hot Encoding features and add all double values to the feature vectors.\n"
   ]
  },
  {
   "cell_type": "code",
   "execution_count": 18,
   "id": "10508da4",
   "metadata": {},
   "outputs": [],
   "source": [
    "from pyspark.ml.feature import OneHotEncoder, StringIndexer"
   ]
  },
  {
   "cell_type": "code",
   "execution_count": 19,
   "id": "06efe9cf",
   "metadata": {},
   "outputs": [],
   "source": [
    "categoricalCols = [field for (field, dataType) in trainDF.dtypes if dataType == \"string\"]\n",
    "indexOutputCols = [x + \"Index\" for x in categoricalCols]\n",
    "oheOutputCols   = [x + \"OHE\"   for x in categoricalCols]\n"
   ]
  },
  {
   "cell_type": "code",
   "execution_count": 20,
   "id": "9c3eded1",
   "metadata": {},
   "outputs": [],
   "source": [
    "stringIndexer = StringIndexer(inputCols = categoricalCols,\n",
    "                             outputCols = indexOutputCols,\n",
    "                             handleInvalid=\"skip\")\n",
    "oheEncoder    = OneHotEncoder(inputCols = indexOutputCols,\n",
    "                             outputCols = oheOutputCols)\n"
   ]
  },
  {
   "cell_type": "code",
   "execution_count": 21,
   "id": "a871bf5e",
   "metadata": {},
   "outputs": [],
   "source": [
    "numericCols = [field for (field, dataType) in trainDF.dtypes\n",
    "                if ((dataType == \"double\") & (field != \"price\"))]\n"
   ]
  },
  {
   "cell_type": "code",
   "execution_count": 22,
   "id": "9c72d6f3",
   "metadata": {},
   "outputs": [],
   "source": [
    "assemblerInputs = oheOutputCols + numericCols\n"
   ]
  },
  {
   "cell_type": "code",
   "execution_count": 23,
   "id": "766fd62b",
   "metadata": {},
   "outputs": [],
   "source": [
    "vecAssembler = VectorAssembler(inputCols=assemblerInputs, outputCol=\"features\")"
   ]
  },
  {
   "cell_type": "code",
   "execution_count": 24,
   "id": "bd460f02",
   "metadata": {},
   "outputs": [],
   "source": [
    "# The above lines could be replaced by:\n",
    "# from pyspark.ml.feature import RFormula\n",
    "# rFormula = RFormula(formula=\"price ~ .\", featuresCol=\"features\", handleInvalid=\"skip\")\n"
   ]
  },
  {
   "cell_type": "markdown",
   "id": "c5520236",
   "metadata": {},
   "source": [
    "### Create a Linear Regression Model and a Training and Evaluation Pipeline\n",
    "Page 301"
   ]
  },
  {
   "cell_type": "code",
   "execution_count": 25,
   "id": "a8ae1a47",
   "metadata": {},
   "outputs": [],
   "source": [
    "lr = LinearRegression(labelCol=\"price\", featuresCol=\"features\")\n",
    "pipeline = Pipeline(stages = [stringIndexer, oheEncoder, vecAssembler, lr])\n",
    "\n",
    "# Or if you use the RFormula:\n",
    "# pipeline = Pipeline(stage = [rFormula, lr])\n"
   ]
  },
  {
   "cell_type": "code",
   "execution_count": 26,
   "id": "05f90663",
   "metadata": {},
   "outputs": [],
   "source": [
    "pipelineModel = pipeline.fit(trainDF)\n"
   ]
  },
  {
   "cell_type": "code",
   "execution_count": 27,
   "id": "4694b6e3",
   "metadata": {},
   "outputs": [],
   "source": [
    "predDF = pipelineModel.transform(testDF)"
   ]
  },
  {
   "cell_type": "code",
   "execution_count": 28,
   "id": "7167b6c3",
   "metadata": {},
   "outputs": [
    {
     "name": "stdout",
     "output_type": "stream",
     "text": [
      "+--------------------+-----+------------------+\n",
      "|            features|price|        prediction|\n",
      "+--------------------+-----+------------------+\n",
      "|(98,[0,3,6,22,43,...| 85.0| 55.24365707389188|\n",
      "|(98,[0,3,6,22,43,...| 45.0|23.357685914717877|\n",
      "|(98,[0,3,6,22,43,...| 70.0|28.474464479034395|\n",
      "|(98,[0,3,6,12,42,...|128.0| -91.6079079594947|\n",
      "|(98,[0,3,6,12,43,...|159.0| 95.05688229945372|\n",
      "+--------------------+-----+------------------+\n",
      "only showing top 5 rows\n",
      "\n"
     ]
    }
   ],
   "source": [
    "predDF.select(\"features\", \"price\", \"prediction\").show(5)"
   ]
  },
  {
   "cell_type": "markdown",
   "id": "14c3be4c",
   "metadata": {},
   "source": [
    "# Evaluating the Model with Root Mean Square Error (RMSE)\n",
    "Page 302"
   ]
  },
  {
   "cell_type": "code",
   "execution_count": 29,
   "id": "350dd633",
   "metadata": {},
   "outputs": [
    {
     "name": "stdout",
     "output_type": "stream",
     "text": [
      "RMSE is 220.6\n"
     ]
    }
   ],
   "source": [
    "from pyspark.ml.evaluation import RegressionEvaluator\n",
    "\n",
    "regressionEvaluator = RegressionEvaluator (\n",
    "    predictionCol = \"prediction\",\n",
    "    labelCol      = \"price\",\n",
    "    metricName    = \"rmse\")\n",
    "\n",
    "rmse = regressionEvaluator.evaluate(predDF)\n",
    "print (f\"RMSE is {rmse:.1f}\")\n"
   ]
  },
  {
   "cell_type": "markdown",
   "id": "646a4b36",
   "metadata": {},
   "source": [
    "# Calculate the Average Price as a Baseline"
   ]
  },
  {
   "cell_type": "code",
   "execution_count": 30,
   "id": "249ebc2b",
   "metadata": {},
   "outputs": [
    {
     "name": "stdout",
     "output_type": "stream",
     "text": [
      "+------------------+\n",
      "|        avg(price)|\n",
      "+------------------+\n",
      "|214.47249134948098|\n",
      "+------------------+\n",
      "\n"
     ]
    }
   ],
   "source": [
    "\n",
    "aveDF = trainDF.select(avg(\"price\"))\n",
    "aveDF.show()\n"
   ]
  },
  {
   "cell_type": "code",
   "execution_count": 31,
   "id": "4aaf0de8",
   "metadata": {},
   "outputs": [
    {
     "name": "stdout",
     "output_type": "stream",
     "text": [
      "214.47249134948098\n"
     ]
    }
   ],
   "source": [
    "average = aveDF.collect()[0][0]\n",
    "print (average)"
   ]
  },
  {
   "cell_type": "code",
   "execution_count": 32,
   "id": "0b5ebde3",
   "metadata": {},
   "outputs": [],
   "source": [
    "from pyspark.sql.functions import lit\n",
    "\n",
    "testDF = testDF.withColumn('average_price', lit(average))\n"
   ]
  },
  {
   "cell_type": "code",
   "execution_count": 33,
   "id": "1c3a4156",
   "metadata": {},
   "outputs": [
    {
     "name": "stdout",
     "output_type": "stream",
     "text": [
      "+-----+------------------+\n",
      "|price|     average_price|\n",
      "+-----+------------------+\n",
      "| 85.0|214.47249134948098|\n",
      "| 45.0|214.47249134948098|\n",
      "| 70.0|214.47249134948098|\n",
      "|128.0|214.47249134948098|\n",
      "|159.0|214.47249134948098|\n",
      "+-----+------------------+\n",
      "only showing top 5 rows\n",
      "\n"
     ]
    }
   ],
   "source": [
    "testDF.select(\"price\", \"average_price\").show(5)"
   ]
  },
  {
   "cell_type": "code",
   "execution_count": 34,
   "id": "3378a570",
   "metadata": {},
   "outputs": [
    {
     "name": "stdout",
     "output_type": "stream",
     "text": [
      "RMSE is 240.7\n"
     ]
    }
   ],
   "source": [
    "regressionEvaluator = RegressionEvaluator (\n",
    "    predictionCol = \"average_price\",\n",
    "    labelCol      = \"price\",\n",
    "    metricName    = \"rmse\")\n",
    "\n",
    "rmse = regressionEvaluator.evaluate(testDF)\n",
    "print (f\"RMSE is {rmse:.1f}\")\n"
   ]
  },
  {
   "cell_type": "markdown",
   "id": "c99253ba",
   "metadata": {},
   "source": [
    "## Calculate R<sup>2</sup>\n",
    "Page 304"
   ]
  },
  {
   "cell_type": "code",
   "execution_count": 35,
   "id": "d70f6d5e",
   "metadata": {},
   "outputs": [
    {
     "name": "stdout",
     "output_type": "stream",
     "text": [
      "R^2 is 0.16043316698848087\n"
     ]
    }
   ],
   "source": [
    "regressionEvaluator = RegressionEvaluator (\n",
    "    predictionCol = \"prediction\",\n",
    "    labelCol      = \"price\",\n",
    "    metricName    = \"r2\")\n",
    "\n",
    "r2 = regressionEvaluator.evaluate(predDF)\n",
    "print (f\"R^2 is {r2}\")"
   ]
  },
  {
   "cell_type": "markdown",
   "id": "a65ea57b",
   "metadata": {},
   "source": [
    "## Exercise: Learn with a log-normally distributed price\n",
    "Page 305"
   ]
  },
  {
   "cell_type": "markdown",
   "id": "ff827adf",
   "metadata": {},
   "source": [
    "### 1. Show distribution of \"price\""
   ]
  },
  {
   "cell_type": "code",
   "execution_count": 37,
   "id": "d07c00ef",
   "metadata": {},
   "outputs": [
    {
     "name": "stdout",
     "output_type": "stream",
     "text": [
      "+-----+\n",
      "|price|\n",
      "+-----+\n",
      "|200.0|\n",
      "|130.0|\n",
      "| 95.0|\n",
      "|250.0|\n",
      "|250.0|\n",
      "|115.0|\n",
      "|105.0|\n",
      "| 86.0|\n",
      "|100.0|\n",
      "|220.0|\n",
      "+-----+\n",
      "only showing top 10 rows\n",
      "\n"
     ]
    }
   ],
   "source": [
    "trainDF.select(\"price\").show(10)"
   ]
  },
  {
   "cell_type": "code",
   "execution_count": 46,
   "id": "c519bf74",
   "metadata": {},
   "outputs": [
    {
     "data": {
      "image/png": "[encoded data removed]",
      "text/plain": [
       "<Figure size 432x288 with 1 Axes>"
      ]
     },
     "metadata": {
      "needs_background": "light"
     },
     "output_type": "display_data"
    }
   ],
   "source": [
    "import matplotlib.pyplot as plt\n",
    "%matplotlib inline\n",
    "\n",
    "# Show histogram of the 'price' column\n",
    "bins, counts = trainDF.select('price').rdd.flatMap(lambda x: x).histogram(200)\n",
    "\n",
    "# This is a bit awkward but I believe this is the correct way to do it \n",
    "plt.hist(bins[:-1], bins=bins, weights=counts)\n",
    "plt.show()"
   ]
  },
  {
   "cell_type": "markdown",
   "id": "96fcc413",
   "metadata": {},
   "source": [
    "### 2. Caluclate the log of price as a new column"
   ]
  },
  {
   "cell_type": "code",
   "execution_count": 47,
   "id": "97e793fb",
   "metadata": {},
   "outputs": [],
   "source": [
    "trainDF = trainDF.withColumn('log_price', log('price'))\n"
   ]
  },
  {
   "cell_type": "code",
   "execution_count": 48,
   "id": "459cf7cb",
   "metadata": {},
   "outputs": [
    {
     "name": "stdout",
     "output_type": "stream",
     "text": [
      "+-----+-----------------+\n",
      "|price|        log_price|\n",
      "+-----+-----------------+\n",
      "|200.0|5.298317366548036|\n",
      "|130.0|4.867534450455582|\n",
      "| 95.0|4.553876891600541|\n",
      "|250.0|5.521460917862246|\n",
      "|250.0|5.521460917862246|\n",
      "|115.0| 4.74493212836325|\n",
      "|105.0|4.653960350157523|\n",
      "| 86.0|4.454347296253507|\n",
      "|100.0|4.605170185988092|\n",
      "|220.0|5.393627546352362|\n",
      "+-----+-----------------+\n",
      "only showing top 10 rows\n",
      "\n"
     ]
    }
   ],
   "source": [
    "trainDF.select(\"price\", \"log_price\").show(10)"
   ]
  },
  {
   "cell_type": "code",
   "execution_count": 50,
   "id": "bf7232e6",
   "metadata": {},
   "outputs": [
    {
     "data": {
      "image/png": "[encoded data removed]",
      "text/plain": [
       "<Figure size 432x288 with 1 Axes>"
      ]
     },
     "metadata": {
      "needs_background": "light"
     },
     "output_type": "display_data"
    }
   ],
   "source": [
    "# Show histogram of the 'price' column\n",
    "bins, counts = trainDF.select('log_price').rdd.flatMap(lambda x: x).histogram(200)\n",
    "\n",
    "# This is a bit awkward but I believe this is the correct way to do it \n",
    "plt.hist(bins[:-1], bins=bins, weights=counts)\n",
    "plt.show()"
   ]
  },
  {
   "cell_type": "markdown",
   "id": "d1168ae6",
   "metadata": {},
   "source": [
    "### 3. Train the Model on the log price"
   ]
  },
  {
   "cell_type": "code",
   "execution_count": 51,
   "id": "debdbf10",
   "metadata": {},
   "outputs": [],
   "source": [
    "lr = LinearRegression(labelCol=\"log_price\", featuresCol=\"features\")\n",
    "pipeline = Pipeline(stages = [stringIndexer, oheEncoder, vecAssembler, lr])\n"
   ]
  },
  {
   "cell_type": "code",
   "execution_count": 52,
   "id": "d7fc086c",
   "metadata": {},
   "outputs": [],
   "source": [
    "pipelineModel = pipeline.fit(trainDF)\n"
   ]
  },
  {
   "cell_type": "code",
   "execution_count": 53,
   "id": "1f7e2565",
   "metadata": {},
   "outputs": [],
   "source": [
    "predDF = pipelineModel.transform(testDF)"
   ]
  },
  {
   "cell_type": "code",
   "execution_count": 59,
   "id": "e6848e8c",
   "metadata": {},
   "outputs": [
    {
     "name": "stdout",
     "output_type": "stream",
     "text": [
      "+--------------------+------+------------------+\n",
      "|            features| price|        prediction|\n",
      "+--------------------+------+------------------+\n",
      "|(98,[0,3,6,22,43,...|  85.0| 4.644425529745689|\n",
      "|(98,[0,3,6,22,43,...|  45.0| 4.223594858687562|\n",
      "|(98,[0,3,6,22,43,...|  70.0| 4.248280556674246|\n",
      "|(98,[0,3,6,12,42,...| 128.0|3.8921581128135756|\n",
      "|(98,[0,3,6,12,43,...| 159.0| 4.608476041020452|\n",
      "|(98,[0,3,6,12,43,...| 250.0| 5.365868119786427|\n",
      "|(98,[0,3,6,11,42,...|  99.0| 5.084838593929874|\n",
      "|(98,[0,3,6,31,42,...|  95.0| 5.008339179369244|\n",
      "|(98,[0,3,6,28,42,...| 100.0| 4.154386449584621|\n",
      "|(98,[0,3,6,28,43,...|2010.0| 5.434322576497891|\n",
      "+--------------------+------+------------------+\n",
      "only showing top 10 rows\n",
      "\n"
     ]
    }
   ],
   "source": [
    "predDF.select(\"features\", \"price\", \"prediction\").show(10)"
   ]
  },
  {
   "cell_type": "code",
   "execution_count": 58,
   "id": "a9ef1c3c",
   "metadata": {},
   "outputs": [],
   "source": [
    "predDF = predDF.withColumn('exp_prediction', exp('prediction'))\n"
   ]
  },
  {
   "cell_type": "code",
   "execution_count": 60,
   "id": "5b90959c",
   "metadata": {},
   "outputs": [
    {
     "name": "stdout",
     "output_type": "stream",
     "text": [
      "+--------------------+------+------------------+------------------+\n",
      "|            features| price|        prediction|    exp_prediction|\n",
      "+--------------------+------+------------------+------------------+\n",
      "|(98,[0,3,6,22,43,...|  85.0| 4.644425529745689|104.00360164521213|\n",
      "|(98,[0,3,6,22,43,...|  45.0| 4.223594858687562| 68.27849517736573|\n",
      "|(98,[0,3,6,22,43,...|  70.0| 4.248280556674246|    69.98497363677|\n",
      "|(98,[0,3,6,12,42,...| 128.0|3.8921581128135756|49.016555716669316|\n",
      "|(98,[0,3,6,12,43,...| 159.0| 4.608476041020452|100.33113253975256|\n",
      "|(98,[0,3,6,12,43,...| 250.0| 5.365868119786427|213.97691166520218|\n",
      "|(98,[0,3,6,11,42,...|  99.0| 5.084838593929874| 161.5538613592169|\n",
      "|(98,[0,3,6,31,42,...|  95.0| 5.008339179369244|149.65597789919877|\n",
      "|(98,[0,3,6,28,42,...| 100.0| 4.154386449584621| 63.71286150055549|\n",
      "|(98,[0,3,6,28,43,...|2010.0| 5.434322576497891| 229.1375725111251|\n",
      "+--------------------+------+------------------+------------------+\n",
      "only showing top 10 rows\n",
      "\n"
     ]
    }
   ],
   "source": [
    "predDF.select(\"features\", \"price\", \"prediction\", \"exp_prediction\").show(10)"
   ]
  },
  {
   "cell_type": "markdown",
   "id": "5c93bc2b",
   "metadata": {},
   "source": [
    "### Evaluating the Model with Root Mean Square Error (RMSE)"
   ]
  },
  {
   "cell_type": "code",
   "execution_count": 61,
   "id": "92ce9e33",
   "metadata": {},
   "outputs": [
    {
     "name": "stdout",
     "output_type": "stream",
     "text": [
      "RMSE is 208.2\n"
     ]
    }
   ],
   "source": [
    "regressionEvaluator = RegressionEvaluator (\n",
    "    predictionCol = \"exp_prediction\",\n",
    "    labelCol      = \"price\",\n",
    "    metricName    = \"rmse\")\n",
    "\n",
    "rmse = regressionEvaluator.evaluate(predDF)\n",
    "print (f\"RMSE is {rmse:.1f}\")\n"
   ]
  },
  {
   "cell_type": "markdown",
   "id": "e5991e1a",
   "metadata": {},
   "source": [
    "### Calculate R<sup>2</sup>"
   ]
  },
  {
   "cell_type": "code",
   "execution_count": 62,
   "id": "8aea430d",
   "metadata": {},
   "outputs": [
    {
     "name": "stdout",
     "output_type": "stream",
     "text": [
      "R^2 is 0.25186821749888966\n"
     ]
    }
   ],
   "source": [
    "regressionEvaluator = RegressionEvaluator (\n",
    "    predictionCol = \"exp_prediction\",\n",
    "    labelCol      = \"price\",\n",
    "    metricName    = \"r2\")\n",
    "\n",
    "r2 = regressionEvaluator.evaluate(predDF)\n",
    "print (f\"R^2 is {r2}\")"
   ]
  },
  {
   "cell_type": "markdown",
   "id": "8b7802fe",
   "metadata": {},
   "source": [
    "### Results\n",
    "The new model with log-normally distributed prices performs better:    \n",
    "\n",
    "Metrics   | lin price | log price | comment\n",
    ":---|:---|:---|:---\n",
    "SMSE          | 220.6 | 208.2     | *lower is better*\n",
    "R<sup>2</sup> | 0.160 | 0.252     | *higher is better*\n"
   ]
  },
  {
   "cell_type": "markdown",
   "id": "a2bf3b2d",
   "metadata": {},
   "source": [
    "## Saving and Loading Models\n",
    "Page 306"
   ]
  },
  {
   "cell_type": "code",
   "execution_count": 64,
   "id": "24402f4d",
   "metadata": {},
   "outputs": [],
   "source": [
    "# Saving the model to disk:\n",
    "pipelinePath = \"/tmp/lr-pipeline-model\"\n",
    "pipelineModel.write().overwrite().save(pipelinePath)"
   ]
  },
  {
   "cell_type": "code",
   "execution_count": 65,
   "id": "880baae3",
   "metadata": {},
   "outputs": [],
   "source": [
    "# Loading the model back from disk:\n",
    "from pyspark.ml import PipelineModel\n",
    "savedPipelineModel = PipelineModel.load(pipelinePath)"
   ]
  },
  {
   "cell_type": "code",
   "execution_count": null,
   "id": "2ab8a354",
   "metadata": {},
   "outputs": [],
   "source": []
  }
 ],
 "metadata": {
  "kernelspec": {
   "display_name": "Python 3",
   "language": "python",
   "name": "python3"
  },
  "language_info": {
   "codemirror_mode": {
    "name": "ipython",
    "version": 3
   },
   "file_extension": ".py",
   "mimetype": "text/x-python",
   "name": "python",
   "nbconvert_exporter": "python",
   "pygments_lexer": "ipython3",
   "version": "3.8.8"
  }
 },
 "nbformat": 4,
 "nbformat_minor": 5
}
