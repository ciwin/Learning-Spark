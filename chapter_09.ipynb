{
 "cells": [
  {
   "cell_type": "markdown",
   "metadata": {},
   "source": [
    "# Chapter 9: Building Reliable Data Lakes with Apache Spark\n",
    "Christoph Windheuser    \n",
    "May, 2022   \n",
    "Python examples of chapter 9 (page 265 ff) in the book *Learning Spark*"
   ]
  },
  {
   "cell_type": "markdown",
   "metadata": {},
   "source": [
    "In order to use delta-lake functionality in PySpark, add the following line to the `spark-defaults.conf` file in `$SPARK_HOME/conf` directory:\n",
    "\n",
    "```spark.jars.packages io.delta:delta-core_2.12:1.1.0```\n",
    "\n",
    "If you want to add more jar packages, separate them with comma **without blanks**!\n",
    "\n",
    "If no file `spark-defaults.conf` exists in `$SPARK_HOME/conf` but a file `spark-defaults.conf.template`, then copy this template file to `spark-defaults.conf` and do the changes in the new file.\n"
   ]
  },
  {
   "cell_type": "code",
   "execution_count": 1,
   "metadata": {},
   "outputs": [],
   "source": [
    "# Import required python spark libraries\n",
    "import pyspark\n",
    "from pyspark.sql.functions import *\n",
    "from pyspark.sql.types import *\n",
    "from pyspark.streaming import StreamingContext\n",
    "from delta import *\n",
    "from delta.tables import *\n"
   ]
  },
  {
   "cell_type": "markdown",
   "metadata": {},
   "source": [
    "## Run Delta Lake from Jupyter Notebooks:\n",
    "See Stackoverflow: https://stackoverflow.com/questions/57740693/how-to-refer-deltalake-tables-in-jupyter-notebook-using-pyspark"
   ]
  },
  {
   "cell_type": "code",
   "execution_count": 2,
   "metadata": {},
   "outputs": [],
   "source": [
    "# create a SparkSession\n",
    "# This requires access to the internet. If executed offline, an error is thrown\n",
    "\n",
    "builder = (SparkSession \\\n",
    "         .builder \\\n",
    "         .appName(\"Chapter_9\") \\\n",
    "         .config(\"spark.sql.extensions\", \"io.delta.sql.DeltaSparkSessionExtension\") \\\n",
    "         .config(\"spark.sql.catalog.spark_catalog\", \"org.apache.spark.sql.delta.catalog.DeltaCatalog\"))\n",
    "\n",
    "spark = configure_spark_with_delta_pip(builder).getOrCreate()\n"
   ]
  },
  {
   "cell_type": "code",
   "execution_count": 3,
   "metadata": {},
   "outputs": [],
   "source": [
    "sourcePath = \"../DB_Spark/LearningSparkV2/databricks-datasets/learning-spark-v2/loans/loan-risks.snappy.parquet\"\n",
    "\n",
    "deltaPath  = \"/tmp/spark/loans_delta\"\n",
    "\n",
    "(spark.read.format(\"parquet\").load(sourcePath)\n",
    "    .write.format(\"delta\").save(deltaPath))"
   ]
  },
  {
   "cell_type": "code",
   "execution_count": 4,
   "metadata": {},
   "outputs": [],
   "source": [
    "spark.read.format(\"delta\").load(deltaPath).createOrReplaceTempView(\"loans_delta\")\n"
   ]
  },
  {
   "cell_type": "code",
   "execution_count": 5,
   "metadata": {},
   "outputs": [
    {
     "name": "stdout",
     "output_type": "stream",
     "text": [
      "+--------+\n",
      "|count(1)|\n",
      "+--------+\n",
      "|   14705|\n",
      "+--------+\n",
      "\n"
     ]
    }
   ],
   "source": [
    "spark.sql(\"SELECT count(*) FROM loans_delta\").show()"
   ]
  },
  {
   "cell_type": "code",
   "execution_count": 6,
   "metadata": {},
   "outputs": [],
   "source": [
    "# Delete the delta tables on the file system:\n",
    "!rm /tmp/spark/loans_delta/*.parquet\n",
    "!rm -rf /tmp/spark/loans_delta/_delta_log\n"
   ]
  },
  {
   "cell_type": "code",
   "execution_count": null,
   "metadata": {},
   "outputs": [],
   "source": []
  }
 ],
 "metadata": {
  "kernelspec": {
   "display_name": "Python 3",
   "language": "python",
   "name": "python3"
  },
  "language_info": {
   "codemirror_mode": {
    "name": "ipython",
    "version": 3
   },
   "file_extension": ".py",
   "mimetype": "text/x-python",
   "name": "python",
   "nbconvert_exporter": "python",
   "pygments_lexer": "ipython3",
   "version": "3.8.5"
  }
 },
 "nbformat": 4,
 "nbformat_minor": 4
}
