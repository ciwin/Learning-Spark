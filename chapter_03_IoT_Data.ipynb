{
 "cells": [
  {
   "cell_type": "markdown",
   "metadata": {},
   "source": [
    "# IoT Data\n",
    "\n",
    "Chapter 3 also contains on page 71 ff an end-to-end example with IoT data. Unfortunately, except the code snippets in the book, there is no comprehensive code available in the GitHub repo of the book. \n",
    "\n",
    "The data file `iot-devices.json` can be found in the repo in this directory:\n",
    "https://github.com/databricks/LearningSparkV2/tree/master/databricks-datasets/learning-spark-v2/iot-devices\n",
    "\n",
    "*Christoph Windheuser - April 13, 2022*"
   ]
  },
  {
   "cell_type": "code",
   "execution_count": 1,
   "metadata": {},
   "outputs": [],
   "source": [
    "# Import required python spark libraries\n",
    "import findspark\n",
    "import pyspark\n",
    "\n",
    "from pyspark.sql.types import *\n",
    "from pyspark.sql.functions import *\n",
    "from pyspark.sql import SparkSession\n",
    "from pyspark.sql import Row\n",
    "\n",
    "# Connect Jupyter Notebook with the Spark application and create Spark Context\n",
    "findspark.init()\n",
    "sc = pyspark.SparkContext(appName=\"LearningSpark\")\n",
    "\n",
    "#create a SparkSession\n",
    "spark = (SparkSession\n",
    "       .builder\n",
    "       .appName(\"iot_Example_chapt_03\")\n",
    "       .getOrCreate())\n"
   ]
  },
  {
   "cell_type": "markdown",
   "metadata": {},
   "source": [
    "Checking the data in the `data` directory:"
   ]
  },
  {
   "cell_type": "code",
   "execution_count": 2,
   "metadata": {},
   "outputs": [
    {
     "name": "stdout",
     "output_type": "stream",
     "text": [
      "{\"device_id\": 1, \"device_name\": \"meter-gauge-1xbYRYcj\", \"ip\": \"68.161.225.1\", \"cca2\": \"US\", \"cca3\": \"USA\", \"cn\": \"United States\", \"latitude\": 38.000000, \"longitude\": -97.000000, \"scale\": \"Celsius\", \"temp\": 34, \"humidity\": 51, \"battery_level\": 8, \"c02_level\": 868, \"lcd\": \"green\", \"timestamp\" :1458444054093 }\r\n",
      "{\"device_id\": 2, \"device_name\": \"sensor-pad-2n2Pea\", \"ip\": \"213.161.254.1\", \"cca2\": \"NO\", \"cca3\": \"NOR\", \"cn\": \"Norway\", \"latitude\": 62.470000, \"longitude\": 6.150000, \"scale\": \"Celsius\", \"temp\": 11, \"humidity\": 70, \"battery_level\": 7, \"c02_level\": 1473, \"lcd\": \"red\", \"timestamp\" :1458444054119 }\r\n",
      "{\"device_id\": 3, \"device_name\": \"device-mac-36TWSKiT\", \"ip\": \"88.36.5.1\", \"cca2\": \"IT\", \"cca3\": \"ITA\", \"cn\": \"Italy\", \"latitude\": 42.830000, \"longitude\": 12.830000, \"scale\": \"Celsius\", \"temp\": 19, \"humidity\": 44, \"battery_level\": 2, \"c02_level\": 1556, \"lcd\": \"red\", \"timestamp\" :1458444054120 }\r\n",
      "{\"device_id\": 4, \"device_name\": \"sensor-pad-4mzWkz\", \"ip\": \"66.39.173.154\", \"cca2\": \"US\", \"cca3\": \"USA\", \"cn\": \"United States\", \"latitude\": 44.060000, \"longitude\": -121.320000, \"scale\": \"Celsius\", \"temp\": 28, \"humidity\": 32, \"battery_level\": 6, \"c02_level\": 1080, \"lcd\": \"yellow\", \"timestamp\" :1458444054121 }\r\n",
      "{\"device_id\": 5, \"device_name\": \"therm-stick-5gimpUrBB\", \"ip\": \"203.82.41.9\", \"cca2\": \"PH\", \"cca3\": \"PHL\", \"cn\": \"Philippines\", \"latitude\": 14.580000, \"longitude\": 120.970000, \"scale\": \"Celsius\", \"temp\": 25, \"humidity\": 62, \"battery_level\": 4, \"c02_level\": 931, \"lcd\": \"green\", \"timestamp\" :1458444054122 }\r\n",
      "{\"device_id\": 6, \"device_name\": \"sensor-pad-6al7RTAobR\", \"ip\": \"204.116.105.67\", \"cca2\": \"US\", \"cca3\": \"USA\", \"cn\": \"United States\", \"latitude\": 35.930000, \"longitude\": -85.460000, \"scale\": \"Celsius\", \"temp\": 27, \"humidity\": 51, \"battery_level\": 3, \"c02_level\": 1210, \"lcd\": \"yellow\", \"timestamp\" :1458444054122 }\r\n",
      "{\"device_id\": 7, \"device_name\": \"meter-gauge-7GeDoanM\", \"ip\": \"220.173.179.1\", \"cca2\": \"CN\", \"cca3\": \"CHN\", \"cn\": \"China\", \"latitude\": 22.820000, \"longitude\": 108.320000, \"scale\": \"Celsius\", \"temp\": 18, \"humidity\": 26, \"battery_level\": 3, \"c02_level\": 1129, \"lcd\": \"yellow\", \"timestamp\" :1458444054123 }\r\n",
      "{\"device_id\": 8, \"device_name\": \"sensor-pad-8xUD6pzsQI\", \"ip\": \"210.173.177.1\", \"cca2\": \"JP\", \"cca3\": \"JPN\", \"cn\": \"Japan\", \"latitude\": 35.690000, \"longitude\": 139.690000, \"scale\": \"Celsius\", \"temp\": 27, \"humidity\": 35, \"battery_level\": 0, \"c02_level\": 1536, \"lcd\": \"red\", \"timestamp\" :1458444054123 }\r\n",
      "{\"device_id\": 9, \"device_name\": \"device-mac-9GcjZ2pw\", \"ip\": \"118.23.68.227\", \"cca2\": \"JP\", \"cca3\": \"JPN\", \"cn\": \"Japan\", \"latitude\": 35.690000, \"longitude\": 139.690000, \"scale\": \"Celsius\", \"temp\": 13, \"humidity\": 85, \"battery_level\": 3, \"c02_level\": 807, \"lcd\": \"green\", \"timestamp\" :1458444054124 }\r\n",
      "{\"device_id\": 10, \"device_name\": \"sensor-pad-10BsywSYUF\", \"ip\": \"208.109.163.218\", \"cca2\": \"US\", \"cca3\": \"USA\", \"cn\": \"United States\", \"latitude\": 33.610000, \"longitude\": -111.890000, \"scale\": \"Celsius\", \"temp\": 26, \"humidity\": 56, \"battery_level\": 7, \"c02_level\": 1470, \"lcd\": \"red\", \"timestamp\" :1458444054125 }\r\n"
     ]
    }
   ],
   "source": [
    "!head ./data/iot_devices.json"
   ]
  },
  {
   "cell_type": "markdown",
   "metadata": {},
   "source": [
    "Reading the json-file and infer the schema from the file:"
   ]
  },
  {
   "cell_type": "code",
   "execution_count": 3,
   "metadata": {},
   "outputs": [],
   "source": [
    "jsonFile = \"data/iot_devices.json\"\n",
    "iot_data_df =  spark.read.json(jsonFile)\n"
   ]
  },
  {
   "cell_type": "markdown",
   "metadata": {},
   "source": [
    "Show the first 5 lines of the DataFrame and the number of lines:"
   ]
  },
  {
   "cell_type": "code",
   "execution_count": 4,
   "metadata": {},
   "outputs": [
    {
     "name": "stdout",
     "output_type": "stream",
     "text": [
      "+-------------+---------+----+----+-------------+---------+--------------------+--------+-------------+--------+------+---------+-------+----+-------------+\n",
      "|battery_level|c02_level|cca2|cca3|           cn|device_id|         device_name|humidity|           ip|latitude|   lcd|longitude|  scale|temp|    timestamp|\n",
      "+-------------+---------+----+----+-------------+---------+--------------------+--------+-------------+--------+------+---------+-------+----+-------------+\n",
      "|            8|      868|  US| USA|United States|        1|meter-gauge-1xbYRYcj|      51| 68.161.225.1|    38.0| green|    -97.0|Celsius|  34|1458444054093|\n",
      "|            7|     1473|  NO| NOR|       Norway|        2|   sensor-pad-2n2Pea|      70|213.161.254.1|   62.47|   red|     6.15|Celsius|  11|1458444054119|\n",
      "|            2|     1556|  IT| ITA|        Italy|        3| device-mac-36TWSKiT|      44|    88.36.5.1|   42.83|   red|    12.83|Celsius|  19|1458444054120|\n",
      "|            6|     1080|  US| USA|United States|        4|   sensor-pad-4mzWkz|      32|66.39.173.154|   44.06|yellow|  -121.32|Celsius|  28|1458444054121|\n",
      "|            4|      931|  PH| PHL|  Philippines|        5|therm-stick-5gimp...|      62|  203.82.41.9|   14.58| green|   120.97|Celsius|  25|1458444054122|\n",
      "+-------------+---------+----+----+-------------+---------+--------------------+--------+-------------+--------+------+---------+-------+----+-------------+\n",
      "only showing top 5 rows\n",
      "\n"
     ]
    }
   ],
   "source": [
    "iot_data_df.show(5)"
   ]
  },
  {
   "cell_type": "code",
   "execution_count": 5,
   "metadata": {},
   "outputs": [
    {
     "data": {
      "text/plain": [
       "198164"
      ]
     },
     "execution_count": 5,
     "metadata": {},
     "output_type": "execute_result"
    }
   ],
   "source": [
    "iot_data_df.count()"
   ]
  },
  {
   "cell_type": "markdown",
   "metadata": {},
   "source": [
    "Show sensors with a temperature < 30 and a humidity > 70:"
   ]
  },
  {
   "cell_type": "code",
   "execution_count": 11,
   "metadata": {},
   "outputs": [
    {
     "name": "stdout",
     "output_type": "stream",
     "text": [
      "+-------------+---------+----+----+-------------+---------+--------------------+--------+--------------+--------+------+---------+-------+----+-------------+\n",
      "|battery_level|c02_level|cca2|cca3|           cn|device_id|         device_name|humidity|            ip|latitude|   lcd|longitude|  scale|temp|    timestamp|\n",
      "+-------------+---------+----+----+-------------+---------+--------------------+--------+--------------+--------+------+---------+-------+----+-------------+\n",
      "|            3|      807|  JP| JPN|        Japan|        9| device-mac-9GcjZ2pw|      85| 118.23.68.227|   35.69| green|   139.69|Celsius|  13|1458444054124|\n",
      "|            3|     1544|  IT| ITA|        Italy|       11|meter-gauge-11dlM...|      85| 88.213.191.34|   42.83|   red|    12.83|Celsius|  16|1458444054125|\n",
      "|            0|     1260|  US| USA|United States|       12|sensor-pad-12Y2kIm0o|      92|   68.28.91.22|    38.0|yellow|    -97.0|Celsius|  12|1458444054126|\n",
      "|            6|     1007|  IN| IND|        India|       13|meter-gauge-13Gro...|      92|59.144.114.250|    28.6|yellow|     77.2|Celsius|  13|1458444054127|\n",
      "|            1|     1346|  NO| NOR|       Norway|       14|sensor-pad-14QL93...|      90|193.156.90.200|   59.95|yellow|    10.75|Celsius|  16|1458444054127|\n",
      "+-------------+---------+----+----+-------------+---------+--------------------+--------+--------------+--------+------+---------+-------+----+-------------+\n",
      "only showing top 5 rows\n",
      "\n"
     ]
    },
    {
     "data": {
      "text/plain": [
       "61347"
      ]
     },
     "execution_count": 11,
     "metadata": {},
     "output_type": "execute_result"
    }
   ],
   "source": [
    "iot_results_df = (iot_data_df\n",
    "                  .where((col(\"temp\") < 30) & (col(\"humidity\") > 70)))\n",
    "iot_results_df.show(5)\n",
    "iot_results_df.count()"
   ]
  },
  {
   "cell_type": "markdown",
   "metadata": {},
   "source": [
    "Show me the device name, device id and country of all devices with a temperature > 34:"
   ]
  },
  {
   "cell_type": "code",
   "execution_count": 14,
   "metadata": {
    "scrolled": true
   },
   "outputs": [
    {
     "name": "stdout",
     "output_type": "stream",
     "text": [
      "+----+--------------------+---------+----+\n",
      "|temp|         device_name|device_id|cca3|\n",
      "+----+--------------------+---------+----+\n",
      "|  34|meter-gauge-1xbYRYcj|        1| USA|\n",
      "|  28|   sensor-pad-4mzWkz|        4| USA|\n",
      "|  27|sensor-pad-6al7RT...|        6| USA|\n",
      "|  27|sensor-pad-8xUD6p...|        8| JPN|\n",
      "|  26|sensor-pad-10Bsyw...|       10| USA|\n",
      "+----+--------------------+---------+----+\n",
      "only showing top 5 rows\n",
      "\n"
     ]
    },
    {
     "data": {
      "text/plain": [
       "71451"
      ]
     },
     "execution_count": 14,
     "metadata": {},
     "output_type": "execute_result"
    }
   ],
   "source": [
    "iot_results_df = (iot_data_df\n",
    "                  .select(\"temp\", \"device_name\", \"device_id\", \"cca3\")\n",
    "                  .where(col(\"temp\") > 25))\n",
    "iot_results_df.show(5)\n",
    "iot_results_df.count()"
   ]
  },
  {
   "cell_type": "code",
   "execution_count": null,
   "metadata": {},
   "outputs": [],
   "source": []
  },
  {
   "cell_type": "markdown",
   "metadata": {},
   "source": [
    "# ============== OLD STUFF ============================"
   ]
  },
  {
   "cell_type": "markdown",
   "metadata": {},
   "source": [
    "What different values for \"scale\" exist in the data?"
   ]
  },
  {
   "cell_type": "code",
   "execution_count": 22,
   "metadata": {},
   "outputs": [
    {
     "name": "stdout",
     "output_type": "stream",
     "text": [
      "+------+\n",
      "| scale|\n",
      "+------+\n",
      "|Celius|\n",
      "+------+\n",
      "\n"
     ]
    }
   ],
   "source": [
    "iot_data_df.select(\"scale\").where(col(\"scale\").isNotNull()).distinct().show()"
   ]
  },
  {
   "cell_type": "markdown",
   "metadata": {},
   "source": [
    "What is the min and max value of humidity over all sensors:"
   ]
  },
  {
   "cell_type": "code",
   "execution_count": 28,
   "metadata": {},
   "outputs": [
    {
     "name": "stdout",
     "output_type": "stream",
     "text": [
      "+-------------+-------------+\n",
      "|min(humidity)|max(humidity)|\n",
      "+-------------+-------------+\n",
      "|           25|           99|\n",
      "+-------------+-------------+\n",
      "\n"
     ]
    }
   ],
   "source": [
    "iot_data_df.select(min(\"humidity\"), max(\"humidity\")).show()"
   ]
  },
  {
   "cell_type": "code",
   "execution_count": null,
   "metadata": {},
   "outputs": [],
   "source": []
  }
 ],
 "metadata": {
  "kernelspec": {
   "display_name": "Python 3",
   "language": "python",
   "name": "python3"
  },
  "language_info": {
   "codemirror_mode": {
    "name": "ipython",
    "version": 3
   },
   "file_extension": ".py",
   "mimetype": "text/x-python",
   "name": "python",
   "nbconvert_exporter": "python",
   "pygments_lexer": "ipython3",
   "version": "3.8.5"
  }
 },
 "nbformat": 4,
 "nbformat_minor": 4
}
